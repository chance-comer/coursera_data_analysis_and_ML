{
 "cells": [
  {
   "cell_type": "markdown",
   "metadata": {},
   "source": [
    "<center>\n",
    "<img src=\"https://habrastorage.org/web/677/8e1/337/6778e1337c3d4b159d7e99df94227cb2.jpg\"/>\n",
    "## Специализация \"Машинное обучение и анализ данных\"\n",
    "<center>Автор материала: программист-исследователь Mail.Ru Group, старший преподаватель Факультета Компьютерных Наук ВШЭ [Юрий Кашницкий](https://yorko.github.io/)"
   ]
  },
  {
   "cell_type": "markdown",
   "metadata": {},
   "source": [
    "# <center> Capstone проект №1 <br> Идентификация пользователей по посещенным веб-страницам\n",
    "<img src='http://i.istockimg.com/file_thumbview_approve/21546327/5/stock-illustration-21546327-identification-de-l-utilisateur.jpg'>\n",
    "\n",
    "# <center>Неделя 4.  Сравнение алгоритмов классификации\n",
    "\n",
    "Теперь мы наконец подойдем к обучению моделей классификации, сравним на кросс-валидации несколько алгоритмов, разберемся, какие параметры длины сессии (*session_length* и *window_size*) лучше использовать. Также для выбранного алгоритма построим кривые валидации (как качество классификации зависит от одного из гиперпараметров алгоритма) и кривые обучения (как качество классификации зависит от объема выборки).\n",
    "\n",
    "**План 4 недели:**\n",
    "- Часть 1. Сравнение нескольких алгоритмов на сессиях из 10 сайтов\n",
    "- Часть 2. Выбор параметров – длины сессии и ширины окна\n",
    "- Часть 3. Идентификация  конкретного пользователя и кривые обучения\n",
    " \n",
    "\n",
    "\n",
    "**В этой части проекта Вам могут быть полезны видеозаписи следующих лекций курса \"Обучение на размеченных данных\":**\n",
    "   - [Линейная классификация](https://www.coursera.org/learn/supervised-learning/lecture/jqLcO/linieinaia-klassifikatsiia)\n",
    "   - [Сравнение алгоритмов и выбор гиперпараметров](https://www.coursera.org/learn/supervised-learning/lecture/aF79U/sravnieniie-alghoritmov-i-vybor-ghipierparamietrov)\n",
    "   - [Кросс-валидация. Sklearn.cross_validation](https://www.coursera.org/learn/supervised-learning/lecture/XbHEk/kross-validatsiia-sklearn-cross-validation)\n",
    "   - [Линейные модели. Sklearn.linear_model. Классификация](https://www.coursera.org/learn/supervised-learning/lecture/EBg9t/linieinyie-modieli-sklearn-linear-model-klassifikatsiia)\n",
    "   - и многие другие\n"
   ]
  },
  {
   "cell_type": "markdown",
   "metadata": {},
   "source": [
    "### Задание\n",
    "1. Заполните код в этой тетрадке \n",
    "2. Если вы проходите специализацию Яндеса и МФТИ, пошлите файл с ответами в соответствующем Programming Assignment. <br> Если вы проходите курс ODS, выберите ответы в [веб-форме](https://docs.google.com/forms/d/12VB7kmzDoSVzSpQNaJp0tR-2t8K8PynQopP3dypf7i4).  "
   ]
  },
  {
   "cell_type": "code",
   "execution_count": 1,
   "metadata": {},
   "outputs": [
    {
     "ename": "ImportError",
     "evalue": "No module named watermark",
     "output_type": "error",
     "traceback": [
      "\u001b[1;31m---------------------------------------------------------------------------\u001b[0m",
      "\u001b[1;31mImportError\u001b[0m                               Traceback (most recent call last)",
      "\u001b[1;32m<ipython-input-1-ddd81d364b0a>\u001b[0m in \u001b[0;36m<module>\u001b[1;34m()\u001b[0m\n\u001b[0;32m      1\u001b[0m \u001b[1;31m# pip install watermark\u001b[0m\u001b[1;33m\u001b[0m\u001b[1;33m\u001b[0m\u001b[0m\n\u001b[1;32m----> 2\u001b[1;33m \u001b[0mget_ipython\u001b[0m\u001b[1;33m(\u001b[0m\u001b[1;33m)\u001b[0m\u001b[1;33m.\u001b[0m\u001b[0mmagic\u001b[0m\u001b[1;33m(\u001b[0m\u001b[1;34mu'load_ext watermark'\u001b[0m\u001b[1;33m)\u001b[0m\u001b[1;33m\u001b[0m\u001b[0m\n\u001b[0m",
      "\u001b[1;32mC:\\Program Files (x86)\\Microsoft Visual Studio\\Shared\\Anaconda3_64\\lib\\site-packages\\IPython\\core\\interactiveshell.pyc\u001b[0m in \u001b[0;36mmagic\u001b[1;34m(self, arg_s)\u001b[0m\n\u001b[0;32m   2158\u001b[0m         \u001b[0mmagic_name\u001b[0m\u001b[1;33m,\u001b[0m \u001b[0m_\u001b[0m\u001b[1;33m,\u001b[0m \u001b[0mmagic_arg_s\u001b[0m \u001b[1;33m=\u001b[0m \u001b[0marg_s\u001b[0m\u001b[1;33m.\u001b[0m\u001b[0mpartition\u001b[0m\u001b[1;33m(\u001b[0m\u001b[1;34m' '\u001b[0m\u001b[1;33m)\u001b[0m\u001b[1;33m\u001b[0m\u001b[0m\n\u001b[0;32m   2159\u001b[0m         \u001b[0mmagic_name\u001b[0m \u001b[1;33m=\u001b[0m \u001b[0mmagic_name\u001b[0m\u001b[1;33m.\u001b[0m\u001b[0mlstrip\u001b[0m\u001b[1;33m(\u001b[0m\u001b[0mprefilter\u001b[0m\u001b[1;33m.\u001b[0m\u001b[0mESC_MAGIC\u001b[0m\u001b[1;33m)\u001b[0m\u001b[1;33m\u001b[0m\u001b[0m\n\u001b[1;32m-> 2160\u001b[1;33m         \u001b[1;32mreturn\u001b[0m \u001b[0mself\u001b[0m\u001b[1;33m.\u001b[0m\u001b[0mrun_line_magic\u001b[0m\u001b[1;33m(\u001b[0m\u001b[0mmagic_name\u001b[0m\u001b[1;33m,\u001b[0m \u001b[0mmagic_arg_s\u001b[0m\u001b[1;33m)\u001b[0m\u001b[1;33m\u001b[0m\u001b[0m\n\u001b[0m\u001b[0;32m   2161\u001b[0m \u001b[1;33m\u001b[0m\u001b[0m\n\u001b[0;32m   2162\u001b[0m     \u001b[1;31m#-------------------------------------------------------------------------\u001b[0m\u001b[1;33m\u001b[0m\u001b[1;33m\u001b[0m\u001b[0m\n",
      "\u001b[1;32mC:\\Program Files (x86)\\Microsoft Visual Studio\\Shared\\Anaconda3_64\\lib\\site-packages\\IPython\\core\\interactiveshell.pyc\u001b[0m in \u001b[0;36mrun_line_magic\u001b[1;34m(self, magic_name, line)\u001b[0m\n\u001b[0;32m   2079\u001b[0m                 \u001b[0mkwargs\u001b[0m\u001b[1;33m[\u001b[0m\u001b[1;34m'local_ns'\u001b[0m\u001b[1;33m]\u001b[0m \u001b[1;33m=\u001b[0m \u001b[0msys\u001b[0m\u001b[1;33m.\u001b[0m\u001b[0m_getframe\u001b[0m\u001b[1;33m(\u001b[0m\u001b[0mstack_depth\u001b[0m\u001b[1;33m)\u001b[0m\u001b[1;33m.\u001b[0m\u001b[0mf_locals\u001b[0m\u001b[1;33m\u001b[0m\u001b[0m\n\u001b[0;32m   2080\u001b[0m             \u001b[1;32mwith\u001b[0m \u001b[0mself\u001b[0m\u001b[1;33m.\u001b[0m\u001b[0mbuiltin_trap\u001b[0m\u001b[1;33m:\u001b[0m\u001b[1;33m\u001b[0m\u001b[0m\n\u001b[1;32m-> 2081\u001b[1;33m                 \u001b[0mresult\u001b[0m \u001b[1;33m=\u001b[0m \u001b[0mfn\u001b[0m\u001b[1;33m(\u001b[0m\u001b[1;33m*\u001b[0m\u001b[0margs\u001b[0m\u001b[1;33m,\u001b[0m\u001b[1;33m**\u001b[0m\u001b[0mkwargs\u001b[0m\u001b[1;33m)\u001b[0m\u001b[1;33m\u001b[0m\u001b[0m\n\u001b[0m\u001b[0;32m   2082\u001b[0m             \u001b[1;32mreturn\u001b[0m \u001b[0mresult\u001b[0m\u001b[1;33m\u001b[0m\u001b[0m\n\u001b[0;32m   2083\u001b[0m \u001b[1;33m\u001b[0m\u001b[0m\n",
      "\u001b[1;32m<decorator-gen-64>\u001b[0m in \u001b[0;36mload_ext\u001b[1;34m(self, module_str)\u001b[0m\n",
      "\u001b[1;32mC:\\Program Files (x86)\\Microsoft Visual Studio\\Shared\\Anaconda3_64\\lib\\site-packages\\IPython\\core\\magic.pyc\u001b[0m in \u001b[0;36m<lambda>\u001b[1;34m(f, *a, **k)\u001b[0m\n\u001b[0;32m    186\u001b[0m     \u001b[1;31m# but it's overkill for just that one bit of state.\u001b[0m\u001b[1;33m\u001b[0m\u001b[1;33m\u001b[0m\u001b[0m\n\u001b[0;32m    187\u001b[0m     \u001b[1;32mdef\u001b[0m \u001b[0mmagic_deco\u001b[0m\u001b[1;33m(\u001b[0m\u001b[0marg\u001b[0m\u001b[1;33m)\u001b[0m\u001b[1;33m:\u001b[0m\u001b[1;33m\u001b[0m\u001b[0m\n\u001b[1;32m--> 188\u001b[1;33m         \u001b[0mcall\u001b[0m \u001b[1;33m=\u001b[0m \u001b[1;32mlambda\u001b[0m \u001b[0mf\u001b[0m\u001b[1;33m,\u001b[0m \u001b[1;33m*\u001b[0m\u001b[0ma\u001b[0m\u001b[1;33m,\u001b[0m \u001b[1;33m**\u001b[0m\u001b[0mk\u001b[0m\u001b[1;33m:\u001b[0m \u001b[0mf\u001b[0m\u001b[1;33m(\u001b[0m\u001b[1;33m*\u001b[0m\u001b[0ma\u001b[0m\u001b[1;33m,\u001b[0m \u001b[1;33m**\u001b[0m\u001b[0mk\u001b[0m\u001b[1;33m)\u001b[0m\u001b[1;33m\u001b[0m\u001b[0m\n\u001b[0m\u001b[0;32m    189\u001b[0m \u001b[1;33m\u001b[0m\u001b[0m\n\u001b[0;32m    190\u001b[0m         \u001b[1;32mif\u001b[0m \u001b[0mcallable\u001b[0m\u001b[1;33m(\u001b[0m\u001b[0marg\u001b[0m\u001b[1;33m)\u001b[0m\u001b[1;33m:\u001b[0m\u001b[1;33m\u001b[0m\u001b[0m\n",
      "\u001b[1;32mC:\\Program Files (x86)\\Microsoft Visual Studio\\Shared\\Anaconda3_64\\lib\\site-packages\\IPython\\core\\magics\\extension.pyc\u001b[0m in \u001b[0;36mload_ext\u001b[1;34m(self, module_str)\u001b[0m\n\u001b[0;32m     35\u001b[0m         \u001b[1;32mif\u001b[0m \u001b[1;32mnot\u001b[0m \u001b[0mmodule_str\u001b[0m\u001b[1;33m:\u001b[0m\u001b[1;33m\u001b[0m\u001b[0m\n\u001b[0;32m     36\u001b[0m             \u001b[1;32mraise\u001b[0m \u001b[0mUsageError\u001b[0m\u001b[1;33m(\u001b[0m\u001b[1;34m'Missing module name.'\u001b[0m\u001b[1;33m)\u001b[0m\u001b[1;33m\u001b[0m\u001b[0m\n\u001b[1;32m---> 37\u001b[1;33m         \u001b[0mres\u001b[0m \u001b[1;33m=\u001b[0m \u001b[0mself\u001b[0m\u001b[1;33m.\u001b[0m\u001b[0mshell\u001b[0m\u001b[1;33m.\u001b[0m\u001b[0mextension_manager\u001b[0m\u001b[1;33m.\u001b[0m\u001b[0mload_extension\u001b[0m\u001b[1;33m(\u001b[0m\u001b[0mmodule_str\u001b[0m\u001b[1;33m)\u001b[0m\u001b[1;33m\u001b[0m\u001b[0m\n\u001b[0m\u001b[0;32m     38\u001b[0m \u001b[1;33m\u001b[0m\u001b[0m\n\u001b[0;32m     39\u001b[0m         \u001b[1;32mif\u001b[0m \u001b[0mres\u001b[0m \u001b[1;33m==\u001b[0m \u001b[1;34m'already loaded'\u001b[0m\u001b[1;33m:\u001b[0m\u001b[1;33m\u001b[0m\u001b[0m\n",
      "\u001b[1;32mC:\\Program Files (x86)\\Microsoft Visual Studio\\Shared\\Anaconda3_64\\lib\\site-packages\\IPython\\core\\extensions.pyc\u001b[0m in \u001b[0;36mload_extension\u001b[1;34m(self, module_str)\u001b[0m\n\u001b[0;32m     81\u001b[0m             \u001b[1;32mif\u001b[0m \u001b[0mmodule_str\u001b[0m \u001b[1;32mnot\u001b[0m \u001b[1;32min\u001b[0m \u001b[0msys\u001b[0m\u001b[1;33m.\u001b[0m\u001b[0mmodules\u001b[0m\u001b[1;33m:\u001b[0m\u001b[1;33m\u001b[0m\u001b[0m\n\u001b[0;32m     82\u001b[0m                 \u001b[1;32mwith\u001b[0m \u001b[0mprepended_to_syspath\u001b[0m\u001b[1;33m(\u001b[0m\u001b[0mself\u001b[0m\u001b[1;33m.\u001b[0m\u001b[0mipython_extension_dir\u001b[0m\u001b[1;33m)\u001b[0m\u001b[1;33m:\u001b[0m\u001b[1;33m\u001b[0m\u001b[0m\n\u001b[1;32m---> 83\u001b[1;33m                     \u001b[0m__import__\u001b[0m\u001b[1;33m(\u001b[0m\u001b[0mmodule_str\u001b[0m\u001b[1;33m)\u001b[0m\u001b[1;33m\u001b[0m\u001b[0m\n\u001b[0m\u001b[0;32m     84\u001b[0m             \u001b[0mmod\u001b[0m \u001b[1;33m=\u001b[0m \u001b[0msys\u001b[0m\u001b[1;33m.\u001b[0m\u001b[0mmodules\u001b[0m\u001b[1;33m[\u001b[0m\u001b[0mmodule_str\u001b[0m\u001b[1;33m]\u001b[0m\u001b[1;33m\u001b[0m\u001b[0m\n\u001b[0;32m     85\u001b[0m             \u001b[1;32mif\u001b[0m \u001b[0mself\u001b[0m\u001b[1;33m.\u001b[0m\u001b[0m_call_load_ipython_extension\u001b[0m\u001b[1;33m(\u001b[0m\u001b[0mmod\u001b[0m\u001b[1;33m)\u001b[0m\u001b[1;33m:\u001b[0m\u001b[1;33m\u001b[0m\u001b[0m\n",
      "\u001b[1;31mImportError\u001b[0m: No module named watermark"
     ]
    }
   ],
   "source": [
    "# pip install watermark\n",
    "%load_ext watermark"
   ]
  },
  {
   "cell_type": "code",
   "execution_count": 2,
   "metadata": {},
   "outputs": [
    {
     "name": "stderr",
     "output_type": "stream",
     "text": [
      "UsageError: Line magic function `%watermark` not found.\n"
     ]
    }
   ],
   "source": [
    "%watermark -v -m -p numpy,scipy,pandas,matplotlib,statsmodels,sklearn -g"
   ]
  },
  {
   "cell_type": "code",
   "execution_count": 3,
   "metadata": {},
   "outputs": [],
   "source": [
    "from __future__ import division, print_function\n",
    "# отключим всякие предупреждения Anaconda\n",
    "import warnings\n",
    "warnings.filterwarnings('ignore')\n",
    "from time import time, clock\n",
    "import itertools\n",
    "import os\n",
    "import numpy as np\n",
    "import pandas as pd\n",
    "import seaborn as sns\n",
    "%matplotlib inline\n",
    "from matplotlib import pyplot as plt\n",
    "import pickle\n",
    "from scipy.sparse import csr_matrix\n",
    "from sklearn.model_selection import train_test_split, cross_val_score, StratifiedKFold, GridSearchCV\n",
    "from sklearn.metrics import accuracy_score, f1_score"
   ]
  },
  {
   "cell_type": "code",
   "execution_count": 4,
   "metadata": {},
   "outputs": [],
   "source": [
    "# Поменяйте на свой путь к данным\n",
    "PATH_TO_DATA = 'capstone_user_identification'"
   ]
  },
  {
   "cell_type": "markdown",
   "metadata": {},
   "source": [
    "## Часть 1. Сравнение нескольких алгоритмов на сессиях из 10 сайтов"
   ]
  },
  {
   "cell_type": "markdown",
   "metadata": {},
   "source": [
    "**Загрузим сериализованные ранее объекты *X_sparse_10users* и *y_10users*, соответствующие обучающей выборке для 10 пользователей.**"
   ]
  },
  {
   "cell_type": "code",
   "execution_count": 5,
   "metadata": {},
   "outputs": [],
   "source": [
    "with open(os.path.join(PATH_TO_DATA, \n",
    "         'X_sparse_10users.pkl'), 'rb') as X_sparse_10users_pkl:\n",
    "    X_sparse_10users = pickle.load(X_sparse_10users_pkl)\n",
    "with open(os.path.join(PATH_TO_DATA, \n",
    "                       'y_10users.pkl'), 'rb') as y_10users_pkl:\n",
    "    y_10users = pickle.load(y_10users_pkl)"
   ]
  },
  {
   "cell_type": "markdown",
   "metadata": {},
   "source": [
    "**Здесь более 14 тысяч сессий и почти 5 тысяч уникальных посещенных сайтов.**"
   ]
  },
  {
   "cell_type": "code",
   "execution_count": 6,
   "metadata": {},
   "outputs": [
    {
     "data": {
      "text/plain": [
       "(14061, 4913)"
      ]
     },
     "execution_count": 6,
     "metadata": {},
     "output_type": "execute_result"
    }
   ],
   "source": [
    "X_sparse_10users.shape"
   ]
  },
  {
   "cell_type": "markdown",
   "metadata": {},
   "source": [
    "**Разобьем выборку на 2 части. На одной будем проводить кросс-валидацию, на второй – оценивать модель, обученную после кросс-валидации.**"
   ]
  },
  {
   "cell_type": "code",
   "execution_count": 7,
   "metadata": {},
   "outputs": [],
   "source": [
    "X_train, X_valid, y_train, y_valid = train_test_split(X_sparse_10users, y_10users, \n",
    "                                                      test_size=0.3, \n",
    "                                                     random_state=17, stratify=y_10users)"
   ]
  },
  {
   "cell_type": "markdown",
   "metadata": {},
   "source": [
    "**Зададим заранее тип кросс-валидации: 3-кратная, с перемешиванием, параметр random_state=17 – для воспроизводимости.**"
   ]
  },
  {
   "cell_type": "code",
   "execution_count": 8,
   "metadata": {},
   "outputs": [],
   "source": [
    "skf = StratifiedKFold(n_splits=3, shuffle=True, random_state=17)"
   ]
  },
  {
   "cell_type": "markdown",
   "metadata": {},
   "source": [
    "**Вспомогательная функция для отрисовки кривых валидации после запуска GridSearchCV (или RandomizedCV).**"
   ]
  },
  {
   "cell_type": "code",
   "execution_count": 9,
   "metadata": {},
   "outputs": [],
   "source": [
    "def plot_validation_curves(param_values, grid_cv_results_):\n",
    "    train_mu, train_std = grid_cv_results_['mean_train_score'], grid_cv_results_['std_train_score']\n",
    "    valid_mu, valid_std = grid_cv_results_['mean_test_score'], grid_cv_results_['std_test_score']\n",
    "    train_line = plt.plot(param_values, train_mu, '-', label='train', color='green')\n",
    "    valid_line = plt.plot(param_values, valid_mu, '-', label='test', color='red')\n",
    "    plt.fill_between(param_values, train_mu - train_std, train_mu + train_std, edgecolor='none',\n",
    "                     facecolor=train_line[0].get_color(), alpha=0.2)\n",
    "    plt.fill_between(param_values, valid_mu - valid_std, valid_mu + valid_std, edgecolor='none',\n",
    "                     facecolor=valid_line[0].get_color(), alpha=0.2)\n",
    "    plt.legend()"
   ]
  },
  {
   "cell_type": "markdown",
   "metadata": {},
   "source": [
    "**1. Обучите `KNeighborsClassifier` со 100 ближайшими соседями (остальные параметры оставьте по умолчанию, только `n_jobs`=-1 для распараллеливания) и посмотрите на долю правильных ответов на 3-кратной кросс-валидации (ради воспроизводимости используйте для этого объект `StratifiedKFold` `skf`) по выборке `(X_train, y_train)` и отдельно на выборке `(X_valid, y_valid)`.**"
   ]
  },
  {
   "cell_type": "code",
   "execution_count": 142,
   "metadata": {
    "collapsed": true
   },
   "outputs": [],
   "source": [
    "from sklearn.neighbors import KNeighborsClassifier"
   ]
  },
  {
   "cell_type": "code",
   "execution_count": 16,
   "metadata": {},
   "outputs": [],
   "source": [
    "knn = KNeighborsClassifier(n_neighbors = 100, n_jobs = -1)\n",
    "#model = knn.fit(X_train, y_train)\n",
    "train_score = cross_val_score(knn, X_train, y_train, cv = skf, scoring = 'accuracy')\n",
    "model = knn.fit(X_train, y_train)\n",
    "preds = knn.predict(X_valid)\n",
    "ac_score = accuracy_score(y_valid, preds)\n",
    "#valid_score = cross_val_score(knn, X_valid, y_valid, cv = skf, scoring = 'accuracy')\n",
    "#''' ВАШ КОД ЗДЕСЬ '''"
   ]
  },
  {
   "cell_type": "markdown",
   "metadata": {},
   "source": [
    "**<font color='red'>Вопрос 1. </font> Посчитайте доли правильных ответов для KNeighborsClassifier на кросс-валидации и отложенной выборке. Округлите каждое до 3 знаков после запятой и введите через пробел.**"
   ]
  },
  {
   "cell_type": "code",
   "execution_count": 17,
   "metadata": {},
   "outputs": [
    {
     "name": "stdout",
     "output_type": "stream",
     "text": [
      "0.564718887006\n",
      "0.584024650391\n"
     ]
    }
   ],
   "source": [
    "print(train_score.mean())\n",
    "print(ac_score)"
   ]
  },
  {
   "cell_type": "code",
   "execution_count": null,
   "metadata": {
    "collapsed": true
   },
   "outputs": [],
   "source": [
    "''' ВАШ КОД ЗДЕСЬ '''"
   ]
  },
  {
   "cell_type": "markdown",
   "metadata": {},
   "source": [
    "**2. Обучите случайный лес (`RandomForestClassifier`) из 100 деревьев (для воспроизводимости `random_state`=17). Посмотрите на OOB-оценку (для этого надо сразу установить `oob_score`=True) и на долю правильных ответов на выборке `(X_valid, y_valid)`. Для распараллеливания задайте `n_jobs`=-1.**"
   ]
  },
  {
   "cell_type": "code",
   "execution_count": 19,
   "metadata": {
    "collapsed": true
   },
   "outputs": [],
   "source": [
    "from sklearn.ensemble import RandomForestClassifier"
   ]
  },
  {
   "cell_type": "code",
   "execution_count": 30,
   "metadata": {},
   "outputs": [],
   "source": [
    "forest = RandomForestClassifier(n_estimators  = 100, random_state = 17, oob_score = True, n_jobs = -1)\n",
    "train_score_forest = cross_val_score(forest, X_train, y_train, cv = skf, scoring = 'accuracy')\n",
    "model_forest = forest.fit(X_train, y_train)\n",
    "preds_forest = forest.predict(X_valid)\n",
    "ac_score_forest = accuracy_score(y_valid, preds_forest)\n",
    "#''' ВАШ КОД ЗДЕСЬ '''"
   ]
  },
  {
   "cell_type": "markdown",
   "metadata": {},
   "source": [
    "**<font color='red'>Вопрос 2. </font> Посчитайте доли правильных ответов для `RandomForestClassifier` при Out-of-Bag оценке и на отложенной выборке. Округлите каждое до 3 знаков после запятой и введите через пробел.**"
   ]
  },
  {
   "cell_type": "code",
   "execution_count": 31,
   "metadata": {},
   "outputs": [
    {
     "name": "stdout",
     "output_type": "stream",
     "text": [
      "0.722515748832\n",
      "0.712258024957\n",
      "0.735008295805\n"
     ]
    }
   ],
   "source": [
    "print(model_forest.oob_score_)\n",
    "print(train_score_forest.mean())\n",
    "print(ac_score_forest)"
   ]
  },
  {
   "cell_type": "code",
   "execution_count": null,
   "metadata": {
    "collapsed": true
   },
   "outputs": [],
   "source": [
    "write_answer_to_file(''' ВАШ КОД ЗДЕСЬ ''',\n",
    "                     'answer4_2.txt')"
   ]
  },
  {
   "cell_type": "code",
   "execution_count": null,
   "metadata": {
    "collapsed": true
   },
   "outputs": [],
   "source": [
    "!cat answer4_2.txt"
   ]
  },
  {
   "cell_type": "markdown",
   "metadata": {},
   "source": [
    "**3. Обучите логистическую регрессию (`LogisticRegression`) с параметром `C` по умолчанию и `random_state`=17 (для воспроизводимости). Посмотрите на долю правильных ответов на кросс-валидации (используйте объект `skf`, созданный ранее) и на выборке `(X_valid, y_valid)`. Для распараллеливания задайте `n_jobs=-1`.**"
   ]
  },
  {
   "cell_type": "code",
   "execution_count": 10,
   "metadata": {},
   "outputs": [],
   "source": [
    "from sklearn.linear_model import LogisticRegression, LogisticRegressionCV"
   ]
  },
  {
   "cell_type": "code",
   "execution_count": 11,
   "metadata": {},
   "outputs": [],
   "source": [
    "logit = LogisticRegression(random_state = 17)\n",
    "train_score_logit = cross_val_score(logit, X_train, y_train, cv = skf, scoring = 'accuracy')\n",
    "model_logit = logit.fit(X_train, y_train)\n",
    "preds_logit = logit.predict(X_valid)\n",
    "ac_score_logit = accuracy_score(y_valid, preds_logit)\n",
    "#''' ВАШ КОД ЗДЕСЬ '''"
   ]
  },
  {
   "cell_type": "code",
   "execution_count": 12,
   "metadata": {},
   "outputs": [
    {
     "name": "stdout",
     "output_type": "stream",
     "text": [
      "0.7610267543665875\n",
      "0.7817018250770325\n"
     ]
    }
   ],
   "source": [
    "print(train_score_logit.mean())\n",
    "print(ac_score_logit)"
   ]
  },
  {
   "cell_type": "markdown",
   "metadata": {},
   "source": [
    "**Почитайте документацию к [LogisticRegressionCV](http://scikit-learn.org/stable/modules/generated/sklearn.linear_model.LogisticRegressionCV.html). Логистическая регрессия хорошо изучена, и для нее существуют алгоритмы быстрого подбора параметра регуляризации `C` (быстрее, чем с `GridSearchCV`).**\n",
    "\n",
    "**С помощью `LogisticRegressionCV` подберите параметр `C` для `LogisticRegression` сначала в широком диапазоне: 10 значений от 1e-4 до 1e2, используйте `logspace` из `NumPy`. Укажите у `LogisticRegressionCV` параметры `multi_class`='multinomial' и `random_state`=17. Для кросс-валидации используйте объект `skf`, созданный ранее. Для распараллеливания задайте `n_jobs=-1`.**\n",
    "\n",
    "**Нарисуйте кривые валидации по параметру `C`.**"
   ]
  },
  {
   "cell_type": "code",
   "execution_count": 13,
   "metadata": {},
   "outputs": [
    {
     "name": "stdout",
     "output_type": "stream",
     "text": [
      "Wall time: 23.3 s\n"
     ]
    }
   ],
   "source": [
    "%%time\n",
    "logit_c_values1 = np.logspace(-4, 2, 10)\n",
    "\n",
    "logit_grid_searcher1 = LogisticRegressionCV(random_state = 17, multi_class='multinomial', cv = skf, n_jobs=-1, Cs = logit_c_values1)\n",
    "#''' ВАШ КОД ЗДЕСЬ ''' \n",
    "logit_grid_searcher1.fit(X_train, y_train)"
   ]
  },
  {
   "cell_type": "code",
   "execution_count": 14,
   "metadata": {},
   "outputs": [
    {
     "data": {
      "text/plain": [
       "array([1.00000000e-04, 4.64158883e-04, 2.15443469e-03, 1.00000000e-02,\n",
       "       4.64158883e-02, 2.15443469e-01, 1.00000000e+00, 4.64158883e+00,\n",
       "       2.15443469e+01, 1.00000000e+02])"
      ]
     },
     "execution_count": 14,
     "metadata": {},
     "output_type": "execute_result"
    }
   ],
   "source": [
    "logit_c_values1"
   ]
  },
  {
   "cell_type": "code",
   "execution_count": 15,
   "metadata": {},
   "outputs": [
    {
     "data": {
      "text/plain": [
       "array([0.31822225, 0.47337913, 0.55273512, 0.65119285, 0.71297117,\n",
       "       0.75137565, 0.75919878, 0.75584868, 0.74965036, 0.73827105])"
      ]
     },
     "execution_count": 15,
     "metadata": {},
     "output_type": "execute_result"
    }
   ],
   "source": [
    "logit_grid_searcher1.scores_[31].mean(axis = 0)"
   ]
  },
  {
   "cell_type": "markdown",
   "metadata": {},
   "source": [
    "Средние значения доли правильных ответов на кросс-валидации по каждому из 10 параметров `C`."
   ]
  },
  {
   "cell_type": "code",
   "execution_count": 16,
   "metadata": {},
   "outputs": [],
   "source": [
    "logit_mean_cv_scores1 = logit_grid_searcher1.scores_[31].mean(axis = 0)\n",
    "#''' ВАШ КОД ЗДЕСЬ '''\n"
   ]
  },
  {
   "cell_type": "markdown",
   "metadata": {},
   "source": [
    "Выведите лучшее значение доли правильных ответов на кросс-валидации и соответствующее значение `C`."
   ]
  },
  {
   "cell_type": "code",
   "execution_count": 17,
   "metadata": {},
   "outputs": [
    {
     "name": "stdout",
     "output_type": "stream",
     "text": [
      "0.7591987845526015\n",
      "1.0\n"
     ]
    }
   ],
   "source": [
    "print(logit_mean_cv_scores1.max())\n",
    "print(logit_c_values1[logit_mean_cv_scores1.argmax()])"
   ]
  },
  {
   "cell_type": "markdown",
   "metadata": {},
   "source": [
    "Нарисуйте график зависимости доли правильных ответов на кросс-валидации от `C`."
   ]
  },
  {
   "cell_type": "code",
   "execution_count": 18,
   "metadata": {},
   "outputs": [
    {
     "data": {
      "image/png": "[encoded data removed]",
      "text/plain": [
       "<Figure size 432x288 with 1 Axes>"
      ]
     },
     "metadata": {
      "needs_background": "light"
     },
     "output_type": "display_data"
    }
   ],
   "source": [
    "plt.plot(logit_c_values1, logit_mean_cv_scores1);"
   ]
  },
  {
   "cell_type": "markdown",
   "metadata": {},
   "source": [
    "**Теперь то же самое, только значения параметра `C` перебирайте в диапазоне `np.linspace`(0.1, 7, 20). Опять нарисуйте кривые валидации, определите максимальное значение доли правильных ответов на кросс-валидации.**"
   ]
  },
  {
   "cell_type": "code",
   "execution_count": 19,
   "metadata": {},
   "outputs": [
    {
     "name": "stdout",
     "output_type": "stream",
     "text": [
      "Wall time: 55.1 s\n"
     ]
    }
   ],
   "source": [
    "%%time\n",
    "logit_c_values2 = np.linspace(0.1, 7, 20)\n",
    "\n",
    "logit_grid_searcher2 = LogisticRegressionCV(random_state = 17, multi_class='multinomial', cv = skf, n_jobs=-1, Cs = logit_c_values2)\n",
    "logit_grid_searcher2.fit(X_train, y_train)"
   ]
  },
  {
   "cell_type": "code",
   "execution_count": 24,
   "metadata": {},
   "outputs": [
    {
     "data": {
      "text/plain": [
       "array([0.1       , 0.46315789, 0.82631579, 1.18947368, 1.55263158,\n",
       "       1.91578947, 2.27894737, 2.64210526, 3.00526316, 3.36842105,\n",
       "       3.73157895, 4.09473684, 4.45789474, 4.82105263, 5.18421053,\n",
       "       5.54736842, 5.91052632, 6.27368421, 6.63684211, 7.        ])"
      ]
     },
     "execution_count": 24,
     "metadata": {},
     "output_type": "execute_result"
    }
   ],
   "source": [
    "logit_c_values2"
   ]
  },
  {
   "cell_type": "markdown",
   "metadata": {},
   "source": [
    "Средние значения доли правильных ответов на кросс-валидации по каждому из 10 параметров `C`."
   ]
  },
  {
   "cell_type": "code",
   "execution_count": 20,
   "metadata": {},
   "outputs": [],
   "source": [
    "logit_mean_cv_scores2 = logit_grid_searcher2.scores_[31].mean(axis = 0)"
   ]
  },
  {
   "cell_type": "code",
   "execution_count": 23,
   "metadata": {},
   "outputs": [
    {
     "data": {
      "text/plain": [
       "{31: array([[0.72359209, 0.75372907, 0.75159817, 0.75159817, 0.75098935,\n",
       "         0.74977169, 0.74946728, 0.74885845, 0.74703196, 0.74581431,\n",
       "         0.74611872, 0.74550989, 0.74429224, 0.74368341, 0.74216134,\n",
       "         0.74063927, 0.74033486, 0.74003044, 0.73942161, 0.7391172 ],\n",
       "        [0.74870387, 0.7694419 , 0.76974687, 0.76822202, 0.76761208,\n",
       "         0.76883196, 0.76974687, 0.76913693, 0.76913693, 0.7694419 ,\n",
       "         0.77066179, 0.76913693, 0.76822202, 0.76913693, 0.76791705,\n",
       "         0.76761208, 0.76761208, 0.76730711, 0.76700213, 0.76669716],\n",
       "        [0.73398414, 0.75320317, 0.75442343, 0.75320317, 0.75533862,\n",
       "         0.75503356, 0.75503356, 0.75503356, 0.75503356, 0.75533862,\n",
       "         0.75442343, 0.75472849, 0.75472849, 0.75411836, 0.75564369,\n",
       "         0.75564369, 0.75594875, 0.75655888, 0.75655888, 0.75564369]]),\n",
       " 33: array([[0.72359209, 0.75372907, 0.75159817, 0.75159817, 0.75098935,\n",
       "         0.74977169, 0.74946728, 0.74885845, 0.74703196, 0.74581431,\n",
       "         0.74611872, 0.74550989, 0.74429224, 0.74368341, 0.74216134,\n",
       "         0.74063927, 0.74033486, 0.74003044, 0.73942161, 0.7391172 ],\n",
       "        [0.74870387, 0.7694419 , 0.76974687, 0.76822202, 0.76761208,\n",
       "         0.76883196, 0.76974687, 0.76913693, 0.76913693, 0.7694419 ,\n",
       "         0.77066179, 0.76913693, 0.76822202, 0.76913693, 0.76791705,\n",
       "         0.76761208, 0.76761208, 0.76730711, 0.76700213, 0.76669716],\n",
       "        [0.73398414, 0.75320317, 0.75442343, 0.75320317, 0.75533862,\n",
       "         0.75503356, 0.75503356, 0.75503356, 0.75503356, 0.75533862,\n",
       "         0.75442343, 0.75472849, 0.75472849, 0.75411836, 0.75564369,\n",
       "         0.75564369, 0.75594875, 0.75655888, 0.75655888, 0.75564369]]),\n",
       " 39: array([[0.72359209, 0.75372907, 0.75159817, 0.75159817, 0.75098935,\n",
       "         0.74977169, 0.74946728, 0.74885845, 0.74703196, 0.74581431,\n",
       "         0.74611872, 0.74550989, 0.74429224, 0.74368341, 0.74216134,\n",
       "         0.74063927, 0.74033486, 0.74003044, 0.73942161, 0.7391172 ],\n",
       "        [0.74870387, 0.7694419 , 0.76974687, 0.76822202, 0.76761208,\n",
       "         0.76883196, 0.76974687, 0.76913693, 0.76913693, 0.7694419 ,\n",
       "         0.77066179, 0.76913693, 0.76822202, 0.76913693, 0.76791705,\n",
       "         0.76761208, 0.76761208, 0.76730711, 0.76700213, 0.76669716],\n",
       "        [0.73398414, 0.75320317, 0.75442343, 0.75320317, 0.75533862,\n",
       "         0.75503356, 0.75503356, 0.75503356, 0.75503356, 0.75533862,\n",
       "         0.75442343, 0.75472849, 0.75472849, 0.75411836, 0.75564369,\n",
       "         0.75564369, 0.75594875, 0.75655888, 0.75655888, 0.75564369]]),\n",
       " 50: array([[0.72359209, 0.75372907, 0.75159817, 0.75159817, 0.75098935,\n",
       "         0.74977169, 0.74946728, 0.74885845, 0.74703196, 0.74581431,\n",
       "         0.74611872, 0.74550989, 0.74429224, 0.74368341, 0.74216134,\n",
       "         0.74063927, 0.74033486, 0.74003044, 0.73942161, 0.7391172 ],\n",
       "        [0.74870387, 0.7694419 , 0.76974687, 0.76822202, 0.76761208,\n",
       "         0.76883196, 0.76974687, 0.76913693, 0.76913693, 0.7694419 ,\n",
       "         0.77066179, 0.76913693, 0.76822202, 0.76913693, 0.76791705,\n",
       "         0.76761208, 0.76761208, 0.76730711, 0.76700213, 0.76669716],\n",
       "        [0.73398414, 0.75320317, 0.75442343, 0.75320317, 0.75533862,\n",
       "         0.75503356, 0.75503356, 0.75503356, 0.75503356, 0.75533862,\n",
       "         0.75442343, 0.75472849, 0.75472849, 0.75411836, 0.75564369,\n",
       "         0.75564369, 0.75594875, 0.75655888, 0.75655888, 0.75564369]]),\n",
       " 100: array([[0.72359209, 0.75372907, 0.75159817, 0.75159817, 0.75098935,\n",
       "         0.74977169, 0.74946728, 0.74885845, 0.74703196, 0.74581431,\n",
       "         0.74611872, 0.74550989, 0.74429224, 0.74368341, 0.74216134,\n",
       "         0.74063927, 0.74033486, 0.74003044, 0.73942161, 0.7391172 ],\n",
       "        [0.74870387, 0.7694419 , 0.76974687, 0.76822202, 0.76761208,\n",
       "         0.76883196, 0.76974687, 0.76913693, 0.76913693, 0.7694419 ,\n",
       "         0.77066179, 0.76913693, 0.76822202, 0.76913693, 0.76791705,\n",
       "         0.76761208, 0.76761208, 0.76730711, 0.76700213, 0.76669716],\n",
       "        [0.73398414, 0.75320317, 0.75442343, 0.75320317, 0.75533862,\n",
       "         0.75503356, 0.75503356, 0.75503356, 0.75503356, 0.75533862,\n",
       "         0.75442343, 0.75472849, 0.75472849, 0.75411836, 0.75564369,\n",
       "         0.75564369, 0.75594875, 0.75655888, 0.75655888, 0.75564369]]),\n",
       " 127: array([[0.72359209, 0.75372907, 0.75159817, 0.75159817, 0.75098935,\n",
       "         0.74977169, 0.74946728, 0.74885845, 0.74703196, 0.74581431,\n",
       "         0.74611872, 0.74550989, 0.74429224, 0.74368341, 0.74216134,\n",
       "         0.74063927, 0.74033486, 0.74003044, 0.73942161, 0.7391172 ],\n",
       "        [0.74870387, 0.7694419 , 0.76974687, 0.76822202, 0.76761208,\n",
       "         0.76883196, 0.76974687, 0.76913693, 0.76913693, 0.7694419 ,\n",
       "         0.77066179, 0.76913693, 0.76822202, 0.76913693, 0.76791705,\n",
       "         0.76761208, 0.76761208, 0.76730711, 0.76700213, 0.76669716],\n",
       "        [0.73398414, 0.75320317, 0.75442343, 0.75320317, 0.75533862,\n",
       "         0.75503356, 0.75503356, 0.75503356, 0.75503356, 0.75533862,\n",
       "         0.75442343, 0.75472849, 0.75472849, 0.75411836, 0.75564369,\n",
       "         0.75564369, 0.75594875, 0.75655888, 0.75655888, 0.75564369]]),\n",
       " 128: array([[0.72359209, 0.75372907, 0.75159817, 0.75159817, 0.75098935,\n",
       "         0.74977169, 0.74946728, 0.74885845, 0.74703196, 0.74581431,\n",
       "         0.74611872, 0.74550989, 0.74429224, 0.74368341, 0.74216134,\n",
       "         0.74063927, 0.74033486, 0.74003044, 0.73942161, 0.7391172 ],\n",
       "        [0.74870387, 0.7694419 , 0.76974687, 0.76822202, 0.76761208,\n",
       "         0.76883196, 0.76974687, 0.76913693, 0.76913693, 0.7694419 ,\n",
       "         0.77066179, 0.76913693, 0.76822202, 0.76913693, 0.76791705,\n",
       "         0.76761208, 0.76761208, 0.76730711, 0.76700213, 0.76669716],\n",
       "        [0.73398414, 0.75320317, 0.75442343, 0.75320317, 0.75533862,\n",
       "         0.75503356, 0.75503356, 0.75503356, 0.75503356, 0.75533862,\n",
       "         0.75442343, 0.75472849, 0.75472849, 0.75411836, 0.75564369,\n",
       "         0.75564369, 0.75594875, 0.75655888, 0.75655888, 0.75564369]]),\n",
       " 207: array([[0.72359209, 0.75372907, 0.75159817, 0.75159817, 0.75098935,\n",
       "         0.74977169, 0.74946728, 0.74885845, 0.74703196, 0.74581431,\n",
       "         0.74611872, 0.74550989, 0.74429224, 0.74368341, 0.74216134,\n",
       "         0.74063927, 0.74033486, 0.74003044, 0.73942161, 0.7391172 ],\n",
       "        [0.74870387, 0.7694419 , 0.76974687, 0.76822202, 0.76761208,\n",
       "         0.76883196, 0.76974687, 0.76913693, 0.76913693, 0.7694419 ,\n",
       "         0.77066179, 0.76913693, 0.76822202, 0.76913693, 0.76791705,\n",
       "         0.76761208, 0.76761208, 0.76730711, 0.76700213, 0.76669716],\n",
       "        [0.73398414, 0.75320317, 0.75442343, 0.75320317, 0.75533862,\n",
       "         0.75503356, 0.75503356, 0.75503356, 0.75503356, 0.75533862,\n",
       "         0.75442343, 0.75472849, 0.75472849, 0.75411836, 0.75564369,\n",
       "         0.75564369, 0.75594875, 0.75655888, 0.75655888, 0.75564369]]),\n",
       " 237: array([[0.72359209, 0.75372907, 0.75159817, 0.75159817, 0.75098935,\n",
       "         0.74977169, 0.74946728, 0.74885845, 0.74703196, 0.74581431,\n",
       "         0.74611872, 0.74550989, 0.74429224, 0.74368341, 0.74216134,\n",
       "         0.74063927, 0.74033486, 0.74003044, 0.73942161, 0.7391172 ],\n",
       "        [0.74870387, 0.7694419 , 0.76974687, 0.76822202, 0.76761208,\n",
       "         0.76883196, 0.76974687, 0.76913693, 0.76913693, 0.7694419 ,\n",
       "         0.77066179, 0.76913693, 0.76822202, 0.76913693, 0.76791705,\n",
       "         0.76761208, 0.76761208, 0.76730711, 0.76700213, 0.76669716],\n",
       "        [0.73398414, 0.75320317, 0.75442343, 0.75320317, 0.75533862,\n",
       "         0.75503356, 0.75503356, 0.75503356, 0.75503356, 0.75533862,\n",
       "         0.75442343, 0.75472849, 0.75472849, 0.75411836, 0.75564369,\n",
       "         0.75564369, 0.75594875, 0.75655888, 0.75655888, 0.75564369]]),\n",
       " 241: array([[0.72359209, 0.75372907, 0.75159817, 0.75159817, 0.75098935,\n",
       "         0.74977169, 0.74946728, 0.74885845, 0.74703196, 0.74581431,\n",
       "         0.74611872, 0.74550989, 0.74429224, 0.74368341, 0.74216134,\n",
       "         0.74063927, 0.74033486, 0.74003044, 0.73942161, 0.7391172 ],\n",
       "        [0.74870387, 0.7694419 , 0.76974687, 0.76822202, 0.76761208,\n",
       "         0.76883196, 0.76974687, 0.76913693, 0.76913693, 0.7694419 ,\n",
       "         0.77066179, 0.76913693, 0.76822202, 0.76913693, 0.76791705,\n",
       "         0.76761208, 0.76761208, 0.76730711, 0.76700213, 0.76669716],\n",
       "        [0.73398414, 0.75320317, 0.75442343, 0.75320317, 0.75533862,\n",
       "         0.75503356, 0.75503356, 0.75503356, 0.75503356, 0.75533862,\n",
       "         0.75442343, 0.75472849, 0.75472849, 0.75411836, 0.75564369,\n",
       "         0.75564369, 0.75594875, 0.75655888, 0.75655888, 0.75564369]])}"
      ]
     },
     "execution_count": 23,
     "metadata": {},
     "output_type": "execute_result"
    }
   ],
   "source": [
    "logit_grid_searcher2.scores_"
   ]
  },
  {
   "cell_type": "code",
   "execution_count": 22,
   "metadata": {},
   "outputs": [
    {
     "data": {
      "text/plain": [
       "array([0.7354267 , 0.75879138, 0.75858949, 0.75767446, 0.75798001,\n",
       "       0.75787907, 0.75808257, 0.75767631, 0.75706748, 0.75686494,\n",
       "       0.75706798, 0.75645844, 0.75574758, 0.75564624, 0.75524069,\n",
       "       0.75463168, 0.75463189, 0.75463214, 0.75432754, 0.75381935])"
      ]
     },
     "execution_count": 22,
     "metadata": {},
     "output_type": "execute_result"
    }
   ],
   "source": [
    "logit_mean_cv_scores2"
   ]
  },
  {
   "cell_type": "markdown",
   "metadata": {},
   "source": [
    "Выведите лучшее значение доли правильных ответов на кросс-валидации и соответствующее значение `C`."
   ]
  },
  {
   "cell_type": "code",
   "execution_count": 21,
   "metadata": {},
   "outputs": [
    {
     "name": "stdout",
     "output_type": "stream",
     "text": [
      "0.7587913824075879\n",
      "0.4631578947368421\n"
     ]
    }
   ],
   "source": [
    "print(logit_mean_cv_scores2.max())\n",
    "print(logit_c_values2[logit_mean_cv_scores2.argmax()])"
   ]
  },
  {
   "cell_type": "markdown",
   "metadata": {},
   "source": [
    "Нарисуйте график зависимости доли правильных ответов на кросс-валидации от `C`."
   ]
  },
  {
   "cell_type": "code",
   "execution_count": 61,
   "metadata": {},
   "outputs": [
    {
     "data": {
      "image/png": "[encoded data removed]",
      "text/plain": [
       "<matplotlib.figure.Figure at 0xc314dd8>"
      ]
     },
     "metadata": {},
     "output_type": "display_data"
    }
   ],
   "source": [
    "plt.plot(logit_c_values2, logit_mean_cv_scores2);"
   ]
  },
  {
   "cell_type": "markdown",
   "metadata": {},
   "source": [
    "Выведите долю правильных ответов на выборке `(X_valid, y_valid)` для логистической регрессии с лучшим найденным значением `C`."
   ]
  },
  {
   "cell_type": "code",
   "execution_count": 73,
   "metadata": {},
   "outputs": [
    {
     "data": {
      "text/plain": [
       "LogisticRegressionCV(Cs=array([ 0.1    ,  0.46316,  0.82632,  1.18947,  1.55263,  1.91579,\n",
       "        2.27895,  2.64211,  3.00526,  3.36842,  3.73158,  4.09474,\n",
       "        4.45789,  4.82105,  5.18421,  5.54737,  5.91053,  6.27368,\n",
       "        6.63684,  7.     ]),\n",
       "           class_weight=None,\n",
       "           cv=StratifiedKFold(n_splits=3, random_state=17, shuffle=True),\n",
       "           dual=False, fit_intercept=True, intercept_scaling=1.0,\n",
       "           max_iter=100, multi_class='multinomial', n_jobs=-1,\n",
       "           penalty='l2', random_state=17, refit=True, scoring=None,\n",
       "           solver='lbfgs', tol=0.0001, verbose=0)"
      ]
     },
     "execution_count": 73,
     "metadata": {},
     "output_type": "execute_result"
    }
   ],
   "source": [
    "logit_grid_searcher2"
   ]
  },
  {
   "cell_type": "code",
   "execution_count": 62,
   "metadata": {
    "collapsed": true
   },
   "outputs": [],
   "source": [
    "opt_logit = LogisticRegression(random_state = 17, C = 0.463157894737)\n",
    "train_score_opt_logit = cross_val_score(opt_logit, X_train, y_train, cv = skf, scoring = 'accuracy')\n",
    "model_opt_logit = opt_logit.fit(X_train, y_train)\n",
    "preds_opt_logit = opt_logit.predict(X_valid)\n",
    "logit_cv_acc = accuracy_score(y_valid, preds_opt_logit)"
   ]
  },
  {
   "cell_type": "code",
   "execution_count": 34,
   "metadata": {},
   "outputs": [
    {
     "data": {
      "text/plain": [
       "array([0.1       , 0.46315789, 0.82631579, 1.18947368, 1.55263158,\n",
       "       1.91578947, 2.27894737, 2.64210526, 3.00526316, 3.36842105,\n",
       "       3.73157895, 4.09473684, 4.45789474, 4.82105263, 5.18421053,\n",
       "       5.54736842, 5.91052632, 6.27368421, 6.63684211, 7.        ])"
      ]
     },
     "execution_count": 34,
     "metadata": {},
     "output_type": "execute_result"
    }
   ],
   "source": [
    "logit_grid_searcher2.Cs"
   ]
  },
  {
   "cell_type": "markdown",
   "metadata": {},
   "source": [
    "**<font color='red'>Вопрос 3. </font>Посчитайте доли правильных ответов для `logit_grid_searcher2` на кросс-валидации для лучшего значения параметра `C` и на отложенной выборке. Округлите каждое до 3 знаков после запятой и выведите через пробел.**"
   ]
  },
  {
   "cell_type": "code",
   "execution_count": 63,
   "metadata": {},
   "outputs": [
    {
     "name": "stdout",
     "output_type": "stream",
     "text": [
      "0.756251720493\n",
      "0.772931974402\n"
     ]
    }
   ],
   "source": [
    "print(train_score_opt_logit.mean())\n",
    "print(logit_cv_acc)"
   ]
  },
  {
   "cell_type": "markdown",
   "metadata": {},
   "source": [
    "**4. Обучите линейный SVM (`LinearSVC`) с параметром `C`=1 и `random_state`=17 (для воспроизводимости). Посмотрите на долю правильных ответов на кросс-валидации (используйте объект `skf`, созданный ранее) и на выборке `(X_valid, y_valid)`.**"
   ]
  },
  {
   "cell_type": "code",
   "execution_count": 143,
   "metadata": {
    "collapsed": true
   },
   "outputs": [],
   "source": [
    "from sklearn.svm import LinearSVC"
   ]
  },
  {
   "cell_type": "code",
   "execution_count": 144,
   "metadata": {
    "collapsed": true
   },
   "outputs": [],
   "source": [
    "svm = LinearSVC(random_state=17, C = 1)\n",
    "train_score_svm = cross_val_score(svm, X_train, y_train, cv = skf, scoring = 'accuracy')\n",
    "model_svm = svm.fit(X_train, y_train)\n",
    "preds_svm = model_svm.predict(X_valid)\n",
    "ac_score_svm = accuracy_score(y_valid, preds_svm)"
   ]
  },
  {
   "cell_type": "code",
   "execution_count": 145,
   "metadata": {},
   "outputs": [
    {
     "name": "stdout",
     "output_type": "stream",
     "text": [
      "0.752797672301\n",
      "0.776961365252\n"
     ]
    }
   ],
   "source": [
    "print(train_score_svm.mean())\n",
    "print(ac_score_svm)"
   ]
  },
  {
   "cell_type": "markdown",
   "metadata": {},
   "source": [
    "**С помощью `GridSearchCV` подберите параметр `C` для SVM сначала в широком диапазоне: 10 значений от 1e-4 до 1e4, используйте `linspace` из NumPy. Нарисуйте кривые валидации.**"
   ]
  },
  {
   "cell_type": "code",
   "execution_count": 90,
   "metadata": {},
   "outputs": [
    {
     "name": "stdout",
     "output_type": "stream",
     "text": [
      "Wall time: 51.8 s\n"
     ]
    }
   ],
   "source": [
    "%%time\n",
    "svm_params1 = {'C': np.linspace(1e-4, 1e4, 10)}\n",
    "\n",
    "svm_grid_searcher1 = GridSearchCV(svm, svm_params1, cv = skf)\n",
    "svm_grid_searcher1.fit(X_train, y_train)"
   ]
  },
  {
   "cell_type": "markdown",
   "metadata": {},
   "source": [
    "Выведите лучшее значение доли правильных ответов на кросс-валидации и соответствующее значение `C`."
   ]
  },
  {
   "cell_type": "code",
   "execution_count": 91,
   "metadata": {},
   "outputs": [
    {
     "name": "stdout",
     "output_type": "stream",
     "text": [
      "LinearSVC(C=3333.3334000000004, class_weight=None, dual=True,\n",
      "     fit_intercept=True, intercept_scaling=1, loss='squared_hinge',\n",
      "     max_iter=1000, multi_class='ovr', penalty='l2', random_state=17,\n",
      "     tol=0.0001, verbose=0)\n",
      "0.68451534241\n"
     ]
    }
   ],
   "source": [
    "print(svm_grid_searcher1.best_estimator_)\n",
    "print(svm_grid_searcher1.best_score_)\n",
    "#''' ВАШ КОД ЗДЕСЬ '''"
   ]
  },
  {
   "cell_type": "markdown",
   "metadata": {},
   "source": [
    "Нарисуйте график зависимости доли правильных ответов на кросс-валидации от `C`."
   ]
  },
  {
   "cell_type": "code",
   "execution_count": 92,
   "metadata": {},
   "outputs": [
    {
     "data": {
      "image/png": "[encoded data removed]",
      "text/plain": [
       "<matplotlib.figure.Figure at 0xc314a20>"
      ]
     },
     "metadata": {},
     "output_type": "display_data"
    }
   ],
   "source": [
    "plot_validation_curves(svm_params1['C'], svm_grid_searcher1.cv_results_)"
   ]
  },
  {
   "cell_type": "markdown",
   "metadata": {},
   "source": [
    "**Но мы помним, что с параметром регуляризации по умолчанию (С=1) на кросс-валидации доля правильных ответов выше. Это тот случай (не редкий), когда можно ошибиться и перебирать параметры не в том диапазоне (причина в том, что мы взяли равномерную сетку на большом интервале и упустили действительно хороший интервал значений `C`). Здесь намного осмысленней подбирать `C` в районе 1, к тому же, так модель быстрее обучается, чем при больших `C`. **\n",
    "\n",
    "**С помощью `GridSearchCV` подберите параметр `C` для SVM в диапазоне (1e-3, 1), 30 значений, используйте `linspace` из NumPy. Нарисуйте кривые валидации.**"
   ]
  },
  {
   "cell_type": "code",
   "execution_count": 146,
   "metadata": {},
   "outputs": [
    {
     "name": "stdout",
     "output_type": "stream",
     "text": [
      "Wall time: 1min 29s\n"
     ]
    }
   ],
   "source": [
    "%%time\n",
    "svm_params2 = {'C': np.linspace(1e-3, 1, 30)}\n",
    "\n",
    "svm_grid_searcher2 = GridSearchCV(svm, svm_params2, cv = skf)\n",
    "svm_grid_searcher2.fit(X_train, y_train)"
   ]
  },
  {
   "cell_type": "markdown",
   "metadata": {},
   "source": [
    "Выведите лучшее значение доли правильных ответов на кросс-валидации и соответствующее значение `C`."
   ]
  },
  {
   "cell_type": "code",
   "execution_count": 166,
   "metadata": {},
   "outputs": [
    {
     "name": "stdout",
     "output_type": "stream",
     "text": [
      "LinearSVC(C=0.10434482758620689, class_weight=None, dual=True,\n",
      "     fit_intercept=True, intercept_scaling=1, loss='squared_hinge',\n",
      "     max_iter=1000, multi_class='ovr', penalty='l2', random_state=17,\n",
      "     tol=0.0001, verbose=0)\n",
      "0.764681975208\n",
      "0.104344827586\n"
     ]
    }
   ],
   "source": [
    "print(svm_grid_searcher2.best_estimator_)\n",
    "print(svm_grid_searcher2.best_score_)\n",
    "print(svm_grid_searcher2.best_params_['C']) \n",
    "#''' ВАШ КОД ЗДЕСЬ '''"
   ]
  },
  {
   "cell_type": "code",
   "execution_count": 196,
   "metadata": {},
   "outputs": [
    {
     "data": {
      "text/plain": [
       "{'mean_fit_time': array([ 0.05466676,  0.18066661,  0.28533332,  0.37300007,  0.45600009,\n",
       "         0.5583334 ,  0.66166671,  0.72399982,  0.82233326,  0.92133331,\n",
       "         1.03733325,  1.12793334,  1.15299996,  1.20066682,  1.23300004,\n",
       "         1.22599983,  1.24366673,  1.2463332 ,  1.24266664,  1.24633312,\n",
       "         1.23566667,  1.24266664,  1.24333334,  1.25933345,  1.24199994,\n",
       "         1.24033332,  1.238     ,  1.23499997,  1.23433328,  1.23600006]),\n",
       " 'mean_score_time': array([ 0.01659997,  0.00100001,  0.0006667 ,  0.00100001,  0.00066662,\n",
       "         0.00099993,  0.00066662,  0.00066678,  0.00100001,  0.00033331,\n",
       "         0.00099993,  0.00066662,  0.0006667 ,  0.00066662,  0.00066662,\n",
       "         0.00100025,  0.00099993,  0.00100001,  0.00100001,  0.00066678,\n",
       "         0.00100001,  0.00066662,  0.00100017,  0.00099993,  0.00100009,\n",
       "         0.00099993,  0.0006667 ,  0.00033331,  0.00066678,  0.0006667 ]),\n",
       " 'mean_test_score': array([ 0.6628734 ,  0.75848405,  0.76254826,  0.76468198,  0.76336111,\n",
       "         0.76285308,  0.76224345,  0.76173542,  0.76122739,  0.76092258,\n",
       "         0.76051616,  0.76061776,  0.75980492,  0.75899207,  0.75838244,\n",
       "         0.75736639,  0.75746799,  0.75706157,  0.75655355,  0.75655355,\n",
       "         0.75624873,  0.75604552,  0.75543589,  0.75502947,  0.75391181,\n",
       "         0.75401341,  0.75350539,  0.75320057,  0.75279415,  0.75279415]),\n",
       " 'mean_train_score': array([ 0.69559106,  0.85074187,  0.86659237,  0.87558456,  0.88051284,\n",
       "         0.88391645,  0.88681212,  0.88889481,  0.89036813,  0.89189221,\n",
       "         0.89270503,  0.89361951,  0.89448308,  0.89544851,  0.89610882,\n",
       "         0.89641364,  0.8968708 ,  0.8980392 ,  0.89849637,  0.8985471 ,\n",
       "         0.89859778,  0.89880108,  0.89880107,  0.89885196,  0.89895352,\n",
       "         0.89910597,  0.89920755,  0.89920755,  0.89920754,  0.89910591]),\n",
       " 'param_C': masked_array(data = [0.001 0.035448275862068966 0.069896551724137931 0.10434482758620689\n",
       "  0.13879310344827586 0.17324137931034483 0.20768965517241378\n",
       "  0.24213793103448275 0.27658620689655172 0.31103448275862067\n",
       "  0.34548275862068967 0.37993103448275861 0.41437931034482756\n",
       "  0.44882758620689656 0.4832758620689655 0.51772413793103444\n",
       "  0.55217241379310344 0.58662068965517244 0.62106896551724133\n",
       "  0.65551724137931033 0.68996551724137933 0.72441379310344822\n",
       "  0.75886206896551722 0.79331034482758622 0.82775862068965511\n",
       "  0.86220689655172411 0.89665517241379311 0.93110344827586211\n",
       "  0.965551724137931 1.0],\n",
       "              mask = [False False False False False False False False False False False False\n",
       "  False False False False False False False False False False False False\n",
       "  False False False False False False],\n",
       "        fill_value = ?),\n",
       " 'params': [{'C': 0.001},\n",
       "  {'C': 0.035448275862068966},\n",
       "  {'C': 0.069896551724137931},\n",
       "  {'C': 0.10434482758620689},\n",
       "  {'C': 0.13879310344827586},\n",
       "  {'C': 0.17324137931034483},\n",
       "  {'C': 0.20768965517241378},\n",
       "  {'C': 0.24213793103448275},\n",
       "  {'C': 0.27658620689655172},\n",
       "  {'C': 0.31103448275862067},\n",
       "  {'C': 0.34548275862068967},\n",
       "  {'C': 0.37993103448275861},\n",
       "  {'C': 0.41437931034482756},\n",
       "  {'C': 0.44882758620689656},\n",
       "  {'C': 0.4832758620689655},\n",
       "  {'C': 0.51772413793103444},\n",
       "  {'C': 0.55217241379310344},\n",
       "  {'C': 0.58662068965517244},\n",
       "  {'C': 0.62106896551724133},\n",
       "  {'C': 0.65551724137931033},\n",
       "  {'C': 0.68996551724137933},\n",
       "  {'C': 0.72441379310344822},\n",
       "  {'C': 0.75886206896551722},\n",
       "  {'C': 0.79331034482758622},\n",
       "  {'C': 0.82775862068965511},\n",
       "  {'C': 0.86220689655172411},\n",
       "  {'C': 0.89665517241379311},\n",
       "  {'C': 0.93110344827586211},\n",
       "  {'C': 0.965551724137931},\n",
       "  {'C': 1.0}],\n",
       " 'rank_test_score': array([30, 13,  4,  1,  2,  3,  5,  6,  7,  8, 10,  9, 11, 12, 14, 16, 15,\n",
       "        17, 18, 18, 20, 21, 22, 23, 25, 24, 26, 27, 28, 28]),\n",
       " 'split0_test_score': array([ 0.65783866,  0.75372907,  0.75707763,  0.7585997 ,  0.7564688 ,\n",
       "         0.75555556,  0.75616438,  0.75616438,  0.75616438,  0.7543379 ,\n",
       "         0.75555556,  0.75555556,  0.7543379 ,  0.75312024,  0.752207  ,\n",
       "         0.75098935,  0.75038052,  0.7500761 ,  0.74946728,  0.74946728,\n",
       "         0.74946728,  0.74946728,  0.74916286,  0.74885845,  0.74764079,\n",
       "         0.74733638,  0.74703196,  0.74611872,  0.74642314,  0.74672755]),\n",
       " 'split0_train_score': array([ 0.69788013,  0.85145646,  0.86716486,  0.8764679 ,  0.88256825,\n",
       "         0.88546591,  0.88805856,  0.88943114,  0.89095623,  0.89248132,\n",
       "         0.89324386,  0.89431142,  0.89492146,  0.89644655,  0.89675156,\n",
       "         0.89705658,  0.89720909,  0.89827665,  0.89858167,  0.89842916,\n",
       "         0.89812414,  0.89858167,  0.89858167,  0.89888669,  0.89888669,\n",
       "         0.8991917 ,  0.8991917 ,  0.8991917 ,  0.8991917 ,  0.89903919]),\n",
       " 'split1_test_score': array([ 0.67307106,  0.76974687,  0.77249161,  0.77432144,  0.7737115 ,\n",
       "         0.77279658,  0.7715767 ,  0.77096676,  0.77005185,  0.77096676,\n",
       "         0.7694419 ,  0.76913693,  0.76791705,  0.76639219,  0.76639219,\n",
       "         0.76578225,  0.76608722,  0.76608722,  0.76578225,  0.76578225,\n",
       "         0.76547728,  0.76517231,  0.76456237,  0.7642574 ,  0.76303751,\n",
       "         0.76273254,  0.76181763,  0.76181763,  0.76029277,  0.76059774]),\n",
       " 'split1_train_score': array([ 0.69404236,  0.84869724,  0.86682919,  0.87597135,  0.88084717,\n",
       "         0.88450404,  0.88785616,  0.89059881,  0.89242724,  0.89410331,\n",
       "         0.89471278,  0.89516989,  0.89638885,  0.89684595,  0.8976078 ,\n",
       "         0.89806491,  0.89928386,  0.90004571,  0.90035045,  0.90050282,\n",
       "         0.90065519,  0.90080756,  0.90065519,  0.90050282,  0.90050282,\n",
       "         0.90050282,  0.90065519,  0.90065519,  0.90050282,  0.90035045]),\n",
       " 'split2_test_score': array([ 0.65771812,  0.75198292,  0.7580842 ,  0.76113484,  0.75991458,\n",
       "         0.76021965,  0.75899939,  0.7580842 ,  0.75747407,  0.75747407,\n",
       "         0.75655888,  0.75716901,  0.75716901,  0.75747407,  0.75655888,\n",
       "         0.75533862,  0.75594875,  0.75503356,  0.75442343,  0.75442343,\n",
       "         0.7538133 ,  0.75350824,  0.75259304,  0.75198292,  0.75106772,\n",
       "         0.75198292,  0.75167785,  0.75167785,  0.75167785,  0.75106772]),\n",
       " 'split2_train_score': array([ 0.6948507 ,  0.85207191,  0.86578306,  0.87431444,  0.8781231 ,\n",
       "         0.8817794 ,  0.88452163,  0.88665448,  0.8877209 ,  0.88909202,\n",
       "         0.89015844,  0.89137721,  0.89213894,  0.89305302,  0.89396709,\n",
       "         0.89411944,  0.89411944,  0.89579525,  0.89655698,  0.89670932,\n",
       "         0.89701402,  0.89701402,  0.89716636,  0.89716636,  0.89747105,\n",
       "         0.8976234 ,  0.89777575,  0.89777575,  0.89792809,  0.89792809]),\n",
       " 'std_fit_time': array([ 0.01111559,  0.00169958,  0.00573496,  0.00828653,  0.01699015,\n",
       "         0.0130213 ,  0.01405557,  0.02483273,  0.04744358,  0.03198261,\n",
       "         0.03975193,  0.00971658,  0.01275428,  0.02163831,  0.03753236,\n",
       "         0.01416568,  0.02309885,  0.01517316,  0.01880317,  0.01506282,\n",
       "         0.01665996,  0.00946348,  0.01532599,  0.01778264,  0.00993313,\n",
       "         0.00793006,  0.01122477,  0.01122497,  0.01114554,  0.01061453]),\n",
       " 'std_score_time': array([  2.20617960e-02,   1.12391596e-07,   4.71426560e-04,\n",
       "          1.12391596e-07,   4.71370354e-04,   0.00000000e+00,\n",
       "          4.71370354e-04,   4.71482745e-04,   1.12391596e-07,\n",
       "          4.71370354e-04,   0.00000000e+00,   4.71370354e-04,\n",
       "          4.71426560e-04,   4.71370354e-04,   4.71370354e-04,\n",
       "          1.12391596e-07,   0.00000000e+00,   1.12391596e-07,\n",
       "          1.12391596e-07,   4.71482745e-04,   1.12391596e-07,\n",
       "          4.71370354e-04,   0.00000000e+00,   0.00000000e+00,\n",
       "          1.12391596e-07,   8.16437402e-04,   4.71426560e-04,\n",
       "          4.71370354e-04,   4.71482786e-04,   4.71426560e-04]),\n",
       " 'std_test_score': array([ 0.00720825,  0.00799285,  0.00704034,  0.00689171,  0.00745009,\n",
       "         0.00728186,  0.00669787,  0.00657197,  0.00626033,  0.00721416,\n",
       "         0.00632234,  0.0060576 ,  0.00584931,  0.0055245 ,  0.00593388,\n",
       "         0.00620805,  0.00650277,  0.00669307,  0.00682986,  0.00682986,\n",
       "         0.00676013,  0.0066588 ,  0.00660122,  0.00664623,  0.0066004 ,\n",
       "         0.00644841,  0.00617403,  0.00650004,  0.00571808,  0.00579355]),\n",
       " 'std_train_score': array([ 0.00165191,  0.00146744,  0.00058845,  0.0009207 ,  0.00183006,\n",
       "         0.00156131,  0.00162173,  0.00165432,  0.00196584,  0.00208783,\n",
       "         0.00189794,  0.00162382,  0.00176249,  0.0017017 ,  0.00155425,\n",
       "         0.00167366,  0.00212189,  0.00174335,  0.00154985,  0.00155093,\n",
       "         0.00152376,  0.00155646,  0.00143273,  0.00136232,  0.00123861,\n",
       "         0.00117708,  0.00117558,  0.00117558,  0.00105119,  0.00099005])}"
      ]
     },
     "execution_count": 196,
     "metadata": {},
     "output_type": "execute_result"
    }
   ],
   "source": [
    "svm_grid_searcher2.cv_results_"
   ]
  },
  {
   "cell_type": "markdown",
   "metadata": {},
   "source": [
    "Нарисуйте график зависимости доли правильных ответов на кросс-валидации от С."
   ]
  },
  {
   "cell_type": "code",
   "execution_count": 148,
   "metadata": {},
   "outputs": [
    {
     "data": {
      "image/png": "[encoded data removed]",
      "text/plain": [
       "<matplotlib.figure.Figure at 0xcb29630>"
      ]
     },
     "metadata": {},
     "output_type": "display_data"
    }
   ],
   "source": [
    "plot_validation_curves(svm_params2['C'], svm_grid_searcher2.cv_results_)"
   ]
  },
  {
   "cell_type": "markdown",
   "metadata": {},
   "source": [
    "Выведите долю правильных ответов на выборке `(X_valid, y_valid)` для `LinearSVC` с лучшим найденным значением `C`."
   ]
  },
  {
   "cell_type": "code",
   "execution_count": 149,
   "metadata": {},
   "outputs": [],
   "source": [
    "svm_cv_acc = accuracy_score(y_valid, svm_grid_searcher2.best_estimator_.predict(X_valid)) \n",
    "#''' ВАШ КОД ЗДЕСЬ '''"
   ]
  },
  {
   "cell_type": "code",
   "execution_count": 150,
   "metadata": {},
   "outputs": [
    {
     "data": {
      "text/plain": [
       "0.78075373311211183"
      ]
     },
     "execution_count": 150,
     "metadata": {},
     "output_type": "execute_result"
    }
   ],
   "source": [
    "svm_cv_acc"
   ]
  },
  {
   "cell_type": "markdown",
   "metadata": {},
   "source": [
    "**<font color='red'>Вопрос 4. </font> Посчитайте доли правильных ответов для `svm_grid_searcher2` на кросс-валидации для лучшего значения параметра `C` и на отложенной выборке. Округлите каждое до 3 знаков после запятой и выведите через пробел.**"
   ]
  },
  {
   "cell_type": "code",
   "execution_count": null,
   "metadata": {
    "collapsed": true
   },
   "outputs": [],
   "source": [
    "''' ВАШ КОД ЗДЕСЬ '''"
   ]
  },
  {
   "cell_type": "markdown",
   "metadata": {},
   "source": [
    "## Часть 2. Выбор параметров – длины сессии и ширины окна"
   ]
  },
  {
   "cell_type": "markdown",
   "metadata": {},
   "source": [
    "**Возьмем `LinearSVC`, показавший лучшее качество на кросс-валидации в 1 части, и проверим его работу еще на 8 выборках для 10 пользователей (с разными сочетаниями параметров *session_length* и *window_size*). Поскольку тут уже вычислений побольше, мы не будем каждый раз заново подбирать параметр регуляризации `C`.**\n",
    "\n",
    "**Определите функцию `model_assessment`, ее документация описана ниже. Обратите внимание на все детали. Например, на то, что разбиение  выборки с `train_test_split` должно быть стратифицированным. Не теряйте нигде `random_state`.**"
   ]
  },
  {
   "cell_type": "code",
   "execution_count": 157,
   "metadata": {
    "collapsed": true
   },
   "outputs": [],
   "source": [
    "def model_assessment(estimator, path_to_X_pickle, path_to_y_pickle, cv, random_state=17, test_size=0.3):\n",
    "    start_time = clock()\n",
    "    '''\n",
    "    Estimates CV-accuracy for (1 - test_size) share of (X_sparse, y) \n",
    "    loaded from path_to_X_pickle and path_to_y_pickle and holdout accuracy for (test_size) share of (X_sparse, y).\n",
    "    The split is made with stratified train_test_split with params random_state and test_size.\n",
    "    \n",
    "    :param estimator – Scikit-learn estimator (classifier or regressor)\n",
    "    :param path_to_X_pickle – path to pickled sparse X (instances and their features)\n",
    "    :param path_to_y_pickle – path to pickled y (responses)\n",
    "    :param cv – cross-validation as in cross_val_score (use StratifiedKFold here)\n",
    "    :param random_state –  for train_test_split\n",
    "    :param test_size –  for train_test_split\n",
    "    \n",
    "    :returns mean CV-accuracy for (X_train, y_train) and accuracy for (X_valid, y_valid) where (X_train, y_train)\n",
    "    and (X_valid, y_valid) are (1 - test_size) and (testsize) shares of (X_sparse, y).\n",
    "    '''\n",
    "    with open(path_to_X_pickle, 'rb') as X_sparse_pkl:\n",
    "        X = pickle.load(X_sparse_pkl)\n",
    "    with open(path_to_y_pickle, 'rb') as y_pkl:\n",
    "        y = pickle.load(y_pkl)\n",
    "    \n",
    "    X_train, X_valid, y_train, y_valid = train_test_split(X, y, \n",
    "                                                      test_size=test_size, \n",
    "                                                     random_state=random_state, stratify=y)\n",
    "    #skf = StratifiedKFold(n_splits=3, shuffle=True, random_state=random_state)\n",
    "    train_score = cross_val_score(estimator, X_train, y_train, cv = cv, scoring = 'accuracy')\n",
    "    train_acc = train_score.mean()\n",
    "    estimator.fit(X_train, y_train)\n",
    "    svm_cv_acc = accuracy_score(y_valid, estimator.predict(X_valid)) \n",
    "    return train_acc, svm_cv_acc, clock() - start_time\n",
    "    ''' ВАШ КОД ЗДЕСЬ '''"
   ]
  },
  {
   "cell_type": "code",
   "execution_count": 158,
   "metadata": {},
   "outputs": [
    {
     "name": "stdout",
     "output_type": "stream",
     "text": [
      "(14061, 4913)\n",
      "(28118, 4913)\n"
     ]
    }
   ],
   "source": [
    "with open('capstone_user_identification/X_sparse_10users_s10_w10.pkl', 'rb') as X_sparse_pkl:\n",
    "    X_ = pickle.load(X_sparse_pkl)\n",
    "    print(X_.shape)\n",
    "with open('capstone_user_identification/X_sparse_10users_s15_w5.pkl', 'rb') as X_sparse_pkl:\n",
    "    X_ = pickle.load(X_sparse_pkl)\n",
    "    print(X_.shape)"
   ]
  },
  {
   "cell_type": "markdown",
   "metadata": {},
   "source": [
    "**Убедитесь, что функция работает.**"
   ]
  },
  {
   "cell_type": "code",
   "execution_count": 159,
   "metadata": {},
   "outputs": [
    {
     "data": {
      "text/plain": [
       "(0.76468532445509807, 0.78075373311211183, 1.7908987228147453)"
      ]
     },
     "execution_count": 159,
     "metadata": {},
     "output_type": "execute_result"
    }
   ],
   "source": [
    "model_assessment(svm_grid_searcher2.best_estimator_, \n",
    "                 os.path.join(PATH_TO_DATA, 'X_sparse_10users.pkl'),\n",
    "        os.path.join(PATH_TO_DATA, 'y_10users.pkl'), skf, random_state=17, test_size=0.3)"
   ]
  },
  {
   "cell_type": "markdown",
   "metadata": {},
   "source": [
    "**Примените функцию *model_assessment* для лучшего алгоритма из предыдущей части (а именно, `svm_grid_searcher2.best_estimator_`) и 9 выборок вида с разными сочетаниями параметров *session_length* и *window_size* для 10 пользователей. Выведите в цикле параметры *session_length* и *window_size*, а также результат вывода функции *model_assessment*. \n",
    "Удобно сделать так, чтоб *model_assessment* возвращала 3-им элементом время, за которое она выполнилась. На моем ноуте этот участок кода выполнился за 20 секунд. Но со 150 пользователями каждая итерация занимает уже несколько минут.**"
   ]
  },
  {
   "cell_type": "markdown",
   "metadata": {},
   "source": [
    "Здесь для удобства стоит создать копии ранее созданных pickle-файлов X_sparse_10users.pkl, X_sparse_150users.pkl, y_10users.pkl и y_150users.pkl, добавив к их названиям s10_w10, что означает длину сессии 10 и ширину окна 10. "
   ]
  },
  {
   "cell_type": "code",
   "execution_count": 154,
   "metadata": {},
   "outputs": [
    {
     "name": "stderr",
     "output_type": "stream",
     "text": [
      "\"cp\" ­Ґ пў«пҐвбп ў­гваҐ­­Ґ© Ё«Ё ў­Ґи­Ґ©\n",
      "Є®¬ ­¤®©, ЁбЇ®«­пҐ¬®© Їа®Ја ¬¬®© Ё«Ё Ї ЄҐв­л¬ д ©«®¬.\n",
      "\"cp\" ­Ґ пў«пҐвбп ў­гваҐ­­Ґ© Ё«Ё ў­Ґи­Ґ©\n",
      "Є®¬ ­¤®©, ЁбЇ®«­пҐ¬®© Їа®Ја ¬¬®© Ё«Ё Ї ЄҐв­л¬ д ©«®¬.\n",
      "\"cp\" ­Ґ пў«пҐвбп ў­гваҐ­­Ґ© Ё«Ё ў­Ґи­Ґ©\n",
      "Є®¬ ­¤®©, ЁбЇ®«­пҐ¬®© Їа®Ја ¬¬®© Ё«Ё Ї ЄҐв­л¬ д ©«®¬.\n",
      "\"cp\" ­Ґ пў«пҐвбп ў­гваҐ­­Ґ© Ё«Ё ў­Ґи­Ґ©\n",
      "Є®¬ ­¤®©, ЁбЇ®«­пҐ¬®© Їа®Ја ¬¬®© Ё«Ё Ї ЄҐв­л¬ д ©«®¬.\n"
     ]
    }
   ],
   "source": [
    "!cp $PATH_TO_DATA/X_sparse_10users.pkl $PATH_TO_DATA/X_sparse_10users_s10_w10.pkl \n",
    "!cp $PATH_TO_DATA/X_sparse_150users.pkl $PATH_TO_DATA/X_sparse_150users_s10_w10.pkl \n",
    "!cp $PATH_TO_DATA/y_10users.pkl $PATH_TO_DATA/y_10users_s10_w10.pkl \n",
    "!cp $PATH_TO_DATA/y_150users.pkl $PATH_TO_DATA/y_150users_s10_w10.pkl "
   ]
  },
  {
   "cell_type": "code",
   "execution_count": 160,
   "metadata": {},
   "outputs": [
    {
     "name": "stdout",
     "output_type": "stream",
     "text": [
      "session_length 15 window_szie 10 train score 0.823821495528 valid score 0.840483526902 time 3.1153953965986148\n",
      "session_length 10 window_szie 10 train score 0.764685324455 valid score 0.780753733112 time 1.7178810618934222\n",
      "session_length 15 window_szie 7 train score 0.847940376984 valid score 0.854322216692 time 4.209970756506664\n",
      "session_length 10 window_szie 7 train score 0.797016146373 valid score 0.807366849179 time 2.4288543976435903\n",
      "session_length 7 window_szie 7 train score 0.752989111483 valid score 0.761738841878 time 1.5529830741725164\n",
      "session_length 15 window_szie 5 train score 0.868001372554 valid score 0.875296348981 time 5.763322020371561\n",
      "session_length 10 window_szie 5 train score 0.815924720532 valid score 0.824561403509 time 3.421871943108272\n",
      "session_length 7 window_szie 5 train score 0.774058674563 valid score 0.785324798483 time 2.0715051325241802\n",
      "session_length 5 window_szie 5 train score 0.72528306504 valid score 0.736249407302 time 1.381779677598388\n",
      "Wall time: 25.7 s\n"
     ]
    }
   ],
   "source": [
    "%%time\n",
    "estimator = svm_grid_searcher2.best_estimator_\n",
    "\n",
    "for window_size, session_length in itertools.product([10, 7, 5], [15, 10, 7, 5]):\n",
    "    if window_size <= session_length:\n",
    "        path_to_X_pkl = 'X_sparse_10users_s' + str(session_length) + '_w' + str(window_size) + '.pkl'#''' ВАШ КОД ЗДЕСЬ '''\n",
    "        path_to_y_pkl = 'y_10users_s' + str(session_length) + '_w' + str(window_size) + '.pkl'\n",
    "        res = model_assessment(svm_grid_searcher2.best_estimator_, \n",
    "                 os.path.join(PATH_TO_DATA, path_to_X_pkl),\n",
    "        os.path.join(PATH_TO_DATA, path_to_y_pkl), skf, random_state=17, test_size=0.3)\n",
    "        print('session_length ' + str(session_length) + \\\n",
    "              ' window_szie ' + str(window_size) + \\\n",
    "              ' train score ' + str(res[0]) + ' valid score ' + str(res[1]) + ' time ' + str(res[2]))"
   ]
  },
  {
   "cell_type": "markdown",
   "metadata": {},
   "source": [
    "**<font color='red'>Вопрос 5. </font> Посчитайте доли правильных ответов для `LinearSVC` с настроенным параметром `C` и выборки `X_sparse_10users_s15_w5`. Укажите доли правильных ответов на кросс-валидации и на отложенной выборке. Округлите каждое до 3 знаков после запятой и выведите через пробел.**"
   ]
  },
  {
   "cell_type": "code",
   "execution_count": null,
   "metadata": {
    "collapsed": true
   },
   "outputs": [],
   "source": [
    "''' ВАШ КОД ЗДЕСЬ '''"
   ]
  },
  {
   "cell_type": "markdown",
   "metadata": {},
   "source": [
    "**Прокомментируйте полученные результаты. Сравните для 150 пользователей доли правильных ответов на кросс-валидации и оставленной выборке для сочетаний параметров (*session_length, window_size*): (5,5), (7,7) и (10,10). На среднем ноуте это может занять до часа – запаситесь терпением, это Data Science :) **\n",
    "\n",
    "**Сделайте вывод о том, как качество классификации зависит от длины сессии и ширины окна.**"
   ]
  },
  {
   "cell_type": "code",
   "execution_count": 161,
   "metadata": {},
   "outputs": [
    {
     "name": "stdout",
     "output_type": "stream",
     "text": [
      "session_length 5 window_szie 5 train score 0.408586595099 valid score 0.421716065606 time 338.94917891774094\n",
      "session_length 7 window_szie 7 train score 0.436386494094 valid score 0.452958408557 time 330.4342082221701\n",
      "session_length 10 window_szie 10 train score 0.461258899943 valid score 0.483627694254 time 268.5356826487114\n",
      "Wall time: 15min 38s\n"
     ]
    }
   ],
   "source": [
    "%%time\n",
    "estimator = svm_grid_searcher2.best_estimator_\n",
    "\n",
    "for window_size, session_length in [(5,5), (7,7), (10,10)]:\n",
    "    path_to_X_pkl = 'X_sparse_150users_s' + str(session_length) + '_w' + str(window_size) + '.pkl'#''' ВАШ КОД ЗДЕСЬ '''\n",
    "    path_to_y_pkl = 'y_150users_s' + str(session_length) + '_w' + str(window_size) + '.pkl'\n",
    "    res = model_assessment(svm_grid_searcher2.best_estimator_, \n",
    "        os.path.join(PATH_TO_DATA, path_to_X_pkl),\n",
    "        os.path.join(PATH_TO_DATA, path_to_y_pkl), skf, random_state=17, test_size=0.3)\n",
    "    print('session_length ' + str(session_length) + \\\n",
    "              ' window_szie ' + str(window_size) + \\\n",
    "              ' train score ' + str(res[0]) + ' valid score ' + str(res[1]) + ' time ' + str(res[2]))"
   ]
  },
  {
   "cell_type": "markdown",
   "metadata": {},
   "source": [
    "**<font color='red'>Вопрос 6. </font> Посчитайте доли правильных ответов для `LinearSVC` с настроенным параметром `C` и выборки `X_sparse_150users`. Укажите доли правильных ответов на кросс-валидации и на отложенной выборке. Округлите каждое до 3 знаков после запятой и выведите через пробел.**"
   ]
  },
  {
   "cell_type": "code",
   "execution_count": null,
   "metadata": {
    "collapsed": true
   },
   "outputs": [],
   "source": [
    "''' ВАШ КОД ЗДЕСЬ '''"
   ]
  },
  {
   "cell_type": "markdown",
   "metadata": {},
   "source": [
    "## Часть 3. Идентификация  конкретного пользователя и кривые обучения"
   ]
  },
  {
   "cell_type": "markdown",
   "metadata": {},
   "source": [
    "**Поскольку может разочаровать, что многоклассовая доля правильных ответов на выборке из 150 пользовалей невелика, порадуемся тому, что конкретного пользователя можно идентифицировать достаточно хорошо. **"
   ]
  },
  {
   "cell_type": "markdown",
   "metadata": {},
   "source": [
    "**Загрузим сериализованные ранее объекты *X_sparse_150users* и *y_150users*, соответствующие обучающей выборке для 150 пользователей с параметрами (*session_length, window_size*) = (10,10). Так же точно разобьем их на 70% и 30%.**"
   ]
  },
  {
   "cell_type": "code",
   "execution_count": 25,
   "metadata": {},
   "outputs": [],
   "source": [
    "with open(os.path.join(PATH_TO_DATA, 'X_sparse_150users.pkl'), 'rb') as X_sparse_150users_pkl:\n",
    "     X_sparse_150users = pickle.load(X_sparse_150users_pkl)\n",
    "with open(os.path.join(PATH_TO_DATA, 'y_150users.pkl'), 'rb') as y_150users_pkl:\n",
    "    y_150users = pickle.load(y_150users_pkl)"
   ]
  },
  {
   "cell_type": "code",
   "execution_count": 26,
   "metadata": {},
   "outputs": [],
   "source": [
    "X_train_150, X_valid_150, y_train_150, y_valid_150 = train_test_split(X_sparse_150users, \n",
    "                                                                      y_150users, test_size=0.3, \n",
    "                                                     random_state=17, stratify=y_150users)"
   ]
  },
  {
   "cell_type": "code",
   "execution_count": 45,
   "metadata": {},
   "outputs": [
    {
     "data": {
      "text/plain": [
       "array([0.1       , 0.46315789, 0.82631579, 1.18947368, 1.55263158,\n",
       "       1.91578947, 2.27894737, 2.64210526, 3.00526316, 3.36842105,\n",
       "       3.73157895, 4.09473684, 4.45789474, 4.82105263, 5.18421053,\n",
       "       5.54736842, 5.91052632, 6.27368421, 6.63684211, 7.        ])"
      ]
     },
     "execution_count": 45,
     "metadata": {},
     "output_type": "execute_result"
    }
   ],
   "source": [
    "logit_grid_searcher2.Cs"
   ]
  },
  {
   "cell_type": "markdown",
   "metadata": {},
   "source": [
    "**Обучите `LogisticRegressionCV` для одного значения параметра `C` (лучшего на кросс-валидации в 1 части, используйте точное значение, не на глаз). Теперь будем решать 150 задач \"Один-против-Всех\", поэтому укажите аргумент `multi_class`='ovr'. Как всегда, где возможно, указывайте `n_jobs=-1` и `random_state`=17.**"
   ]
  },
  {
   "cell_type": "code",
   "execution_count": 37,
   "metadata": {},
   "outputs": [
    {
     "name": "stdout",
     "output_type": "stream",
     "text": [
      "Wall time: 16min 42s\n"
     ]
    }
   ],
   "source": [
    "%%time\n",
    "logit_cv_150users = LogisticRegressionCV(multi_class='ovr', random_state=17, cv = skf, Cs = [logit_grid_searcher2.Cs[10]])\n",
    "#''' ВАШ КОД ЗДЕСЬ '''\n",
    "logit_cv_150users.fit(X_train_150, y_train_150)"
   ]
  },
  {
   "cell_type": "code",
   "execution_count": 38,
   "metadata": {},
   "outputs": [
    {
     "data": {
      "text/plain": [
       "{6: array([[0.99619036],\n",
       "        [0.99630858],\n",
       "        [0.99573975]]), 13: array([[0.99637772],\n",
       "        [0.99633986],\n",
       "        [0.99646023]]), 15: array([[0.99534724],\n",
       "        [0.99521366],\n",
       "        [0.99523854]]), 16: array([[0.99203722],\n",
       "        [0.99236689],\n",
       "        [0.99144817]]), 28: array([[0.99010117],\n",
       "        [0.98998936],\n",
       "        [0.99044576]]), 31: array([[0.99434799],\n",
       "        [0.9942126 ],\n",
       "        [0.99433011]]), 33: array([[0.99362978],\n",
       "        [0.99368079],\n",
       "        [0.99364095]]), 39: array([[0.9861354 ],\n",
       "        [0.98545329],\n",
       "        [0.98599756]]), 46: array([[0.99806395],\n",
       "        [0.99759119],\n",
       "        [0.99830843]]), 49: array([[0.99500375],\n",
       "        [0.99511981],\n",
       "        [0.99570842]]), 50: array([[0.99416063],\n",
       "        [0.9949634 ],\n",
       "        [0.99426746]]), 53: array([[0.993661  ],\n",
       "        [0.99361822],\n",
       "        [0.99351565]]), 65: array([[0.99690857],\n",
       "        [0.99659013],\n",
       "        [0.99705541]]), 66: array([[0.99487884],\n",
       "        [0.99474442],\n",
       "        [0.99467469]]), 82: array([[0.99640894],\n",
       "        [0.99633986],\n",
       "        [0.99646023]]), 85: array([[0.99640894],\n",
       "        [0.99605831],\n",
       "        [0.99642891]]), 89: array([[0.99056957],\n",
       "        [0.99058375],\n",
       "        [0.99041443]]), 92: array([[0.99397327],\n",
       "        [0.99418132],\n",
       "        [0.99445541]]), 100: array([[0.9945978 ],\n",
       "        [0.99455672],\n",
       "        [0.99451806]]), 102: array([[0.99141269],\n",
       "        [0.99102171],\n",
       "        [0.99176143]]), 103: array([[0.98085811],\n",
       "        [0.97960333],\n",
       "        [0.98117345]]), 105: array([[0.99687734],\n",
       "        [0.99671526],\n",
       "        [0.99721204]]), 106: array([[0.99503497],\n",
       "        [0.994588  ],\n",
       "        [0.99439276]]), 118: array([[0.9910692 ],\n",
       "        [0.99105299],\n",
       "        [0.99066504]]), 119: array([[0.99650262],\n",
       "        [0.99662141],\n",
       "        [0.99671084]]), 120: array([[0.99437922],\n",
       "        [0.99430645],\n",
       "        [0.99426746]]), 126: array([[0.99478516],\n",
       "        [0.99518238],\n",
       "        [0.99539517]]), 127: array([[0.99225581],\n",
       "        [0.99114684],\n",
       "        [0.99154215]]), 128: array([[0.98469898],\n",
       "        [0.98504661],\n",
       "        [0.98477587]]), 138: array([[0.99697102],\n",
       "        [0.99705938],\n",
       "        [0.99699276]]), 158: array([[0.99690857],\n",
       "        [0.99690296],\n",
       "        [0.99718072]]), 160: array([[0.99700225],\n",
       "        [0.99677783],\n",
       "        [0.99683614]]), 165: array([[0.99743942],\n",
       "        [0.99727836],\n",
       "        [0.99730602]]), 172: array([[0.99672121],\n",
       "        [0.99659013],\n",
       "        [0.99674216]]), 177: array([[0.99715838],\n",
       "        [0.99665269],\n",
       "        [0.99696144]]), 203: array([[0.99768923],\n",
       "        [0.99743477],\n",
       "        [0.99768192]]), 207: array([[0.98775918],\n",
       "        [0.98654821],\n",
       "        [0.98844094]]), 223: array([[0.99634649],\n",
       "        [0.99643371],\n",
       "        [0.99642891]]), 233: array([[0.9964714 ],\n",
       "        [0.99630858],\n",
       "        [0.99633493]]), 235: array([[0.99653385],\n",
       "        [0.99643371],\n",
       "        [0.99667951]]), 236: array([[0.98994504],\n",
       "        [0.99067759],\n",
       "        [0.98994455]]), 237: array([[0.98922683],\n",
       "        [0.98945755],\n",
       "        [0.98906744]]), 238: array([[0.99606545],\n",
       "        [0.99615216],\n",
       "        [0.99611565]]), 240: array([[0.99550337],\n",
       "        [0.99599575],\n",
       "        [0.99561445]]), 241: array([[0.99594054],\n",
       "        [0.99568291],\n",
       "        [0.9959277 ]]), 242: array([[0.99540969],\n",
       "        [0.9953388 ],\n",
       "        [0.99483131]]), 245: array([[0.99622158],\n",
       "        [0.99593318],\n",
       "        [0.99611565]]), 246: array([[0.99690857],\n",
       "        [0.99702809],\n",
       "        [0.99693011]]), 249: array([[0.99497252],\n",
       "        [0.9953388 ],\n",
       "        [0.99505059]]), 252: array([[0.99656508],\n",
       "        [0.99630858],\n",
       "        [0.99636626]]), 254: array([[0.99194354],\n",
       "        [0.99158481],\n",
       "        [0.99207468]]), 256: array([[0.99578441],\n",
       "        [0.99593318],\n",
       "        [0.99611565]]), 258: array([[0.99594054],\n",
       "        [0.9957142 ],\n",
       "        [0.9959277 ]]), 259: array([[0.99453535],\n",
       "        [0.99486955],\n",
       "        [0.99492529]]), 260: array([[0.99725206],\n",
       "        [0.99755991],\n",
       "        [0.99755662]]), 261: array([[0.98972646],\n",
       "        [0.98977038],\n",
       "        [0.99022648]]), 263: array([[0.99281789],\n",
       "        [0.99261716],\n",
       "        [0.99241926]]), 264: array([[0.99644017],\n",
       "        [0.99649628],\n",
       "        [0.99639758]]), 269: array([[0.98688484],\n",
       "        [0.98661077],\n",
       "        [0.98706262]]), 270: array([[0.98947664],\n",
       "        [0.989176  ],\n",
       "        [0.98944335]]), 273: array([[0.99434799],\n",
       "        [0.99443158],\n",
       "        [0.99420481]]), 287: array([[0.99035099],\n",
       "        [0.99017706],\n",
       "        [0.98991323]]), 294: array([[0.99578441],\n",
       "        [0.99558906],\n",
       "        [0.99577107]]), 298: array([[0.99156882],\n",
       "        [0.99077144],\n",
       "        [0.99116624]]), 301: array([[0.99731451],\n",
       "        [0.99690296],\n",
       "        [0.99714939]]), 308: array([[0.99565951],\n",
       "        [0.99558906],\n",
       "        [0.9958024 ]]), 315: array([[0.99768923],\n",
       "        [0.99734092],\n",
       "        [0.99743132]]), 318: array([[0.99606545],\n",
       "        [0.99555778],\n",
       "        [0.99583372]]), 327: array([[0.99637772],\n",
       "        [0.99643371],\n",
       "        [0.99646023]]), 332: array([[0.99675244],\n",
       "        [0.99649628],\n",
       "        [0.99674216]]), 333: array([[0.99603422],\n",
       "        [0.99633986],\n",
       "        [0.99639758]]), 339: array([[0.99725206],\n",
       "        [0.99718451],\n",
       "        [0.99677349]]), 340: array([[0.99650262],\n",
       "        [0.99665269],\n",
       "        [0.99655421]]), 342: array([[0.99222458],\n",
       "        [0.99192892],\n",
       "        [0.99210601]]), 344: array([[0.9965963 ],\n",
       "        [0.99677783],\n",
       "        [0.99655421]]), 351: array([[0.99238071],\n",
       "        [0.99211662],\n",
       "        [0.99216866]]), 356: array([[0.99772046],\n",
       "        [0.99784146],\n",
       "        [0.99758795]]), 361: array([[0.99653385],\n",
       "        [0.99630858],\n",
       "        [0.9961783 ]]), 363: array([[0.99625281],\n",
       "        [0.99637114],\n",
       "        [0.99658553]]), 411: array([[0.99125656],\n",
       "        [0.99099043],\n",
       "        [0.9914795 ]]), 417: array([[0.99668998],\n",
       "        [0.99674654],\n",
       "        [0.99677349]]), 425: array([[0.99403572],\n",
       "        [0.99433773],\n",
       "        [0.99411083]]), 430: array([[0.99665876],\n",
       "        [0.99612088],\n",
       "        [0.99611565]]), 435: array([[0.99687734],\n",
       "        [0.99684039],\n",
       "        [0.99696144]]), 436: array([[0.99522233],\n",
       "        [0.99511981],\n",
       "        [0.99511324]]), 440: array([[0.99675244],\n",
       "        [0.99696553],\n",
       "        [0.99699276]]), 444: array([[0.99784537],\n",
       "        [0.99796659],\n",
       "        [0.99793253]]), 475: array([[0.98885211],\n",
       "        [0.98908215],\n",
       "        [0.98934937]]), 476: array([[0.99681489],\n",
       "        [0.99718451],\n",
       "        [0.99689879]]), 486: array([[0.99550337],\n",
       "        [0.99511981],\n",
       "        [0.99552047]]), 515: array([[0.99409818],\n",
       "        [0.99386849],\n",
       "        [0.99411083]]), 533: array([[0.99384836],\n",
       "        [0.9936495 ],\n",
       "        [0.99386023]]), 561: array([[0.98463652],\n",
       "        [0.9839517 ],\n",
       "        [0.98427466]]), 563: array([[0.99681489],\n",
       "        [0.99665269],\n",
       "        [0.99671084]]), 564: array([[0.99550337],\n",
       "        [0.99565163],\n",
       "        [0.99583372]]), 568: array([[0.99125656],\n",
       "        [0.99189764],\n",
       "        [0.99169878]]), 569: array([[0.98910192],\n",
       "        [0.98958268],\n",
       "        [0.98966263]]), 570: array([[0.99815763],\n",
       "        [0.99831071],\n",
       "        [0.99855903]]), 573: array([[0.99066325],\n",
       "        [0.99042733],\n",
       "        [0.99038311]]), 575: array([[0.99035099],\n",
       "        [0.99045861],\n",
       "        [0.99075901]]), 576: array([[0.99394204],\n",
       "        [0.99443158],\n",
       "        [0.99379758]]), 580: array([[0.98691606],\n",
       "        [0.98620409],\n",
       "        [0.98671804]]), 583: array([[0.98104547],\n",
       "        [0.98123006],\n",
       "        [0.98035899]]), 584: array([[0.98157632],\n",
       "        [0.98079209],\n",
       "        [0.98104815]]), 600: array([[0.99163128],\n",
       "        [0.99167866],\n",
       "        [0.99157347]]), 603: array([[0.99559705],\n",
       "        [0.99574548],\n",
       "        [0.9955518 ]]), 605: array([[0.99756433],\n",
       "        [0.99781017],\n",
       "        [0.99736867]]), 640: array([[0.99734574],\n",
       "        [0.99721579],\n",
       "        [0.99711807]]), 647: array([[0.99784537],\n",
       "        [0.99809172],\n",
       "        [0.99743132]]), 653: array([[0.99743942],\n",
       "        [0.99727836],\n",
       "        [0.99724337]]), 664: array([[0.99512865],\n",
       "        [0.99502597],\n",
       "        [0.99526987]]), 665: array([[0.99684612],\n",
       "        [0.99705938],\n",
       "        [0.99702409]]), 677: array([[0.99684612],\n",
       "        [0.99665269],\n",
       "        [0.99642891]]), 692: array([[0.99712715],\n",
       "        [0.99709066],\n",
       "        [0.99686746]]), 697: array([[0.9961279 ],\n",
       "        [0.99577676],\n",
       "        [0.99548915]]), 705: array([[0.99640894],\n",
       "        [0.99671526],\n",
       "        [0.99661686]]), 722: array([[0.99478516],\n",
       "        [0.99471313],\n",
       "        [0.99473734]]), 740: array([[0.99672121],\n",
       "        [0.99662141],\n",
       "        [0.99683614]]), 741: array([[0.99703347],\n",
       "        [0.99655884],\n",
       "        [0.99674216]]), 756: array([[0.99603422],\n",
       "        [0.9955265 ],\n",
       "        [0.99564577]]), 780: array([[0.99640894],\n",
       "        [0.99643371],\n",
       "        [0.99655421]]), 784: array([[0.9965963 ],\n",
       "        [0.99624601],\n",
       "        [0.99674216]]), 785: array([[0.99681489],\n",
       "        [0.99687168],\n",
       "        [0.99689879]]), 797: array([[0.99531601],\n",
       "        [0.99596446],\n",
       "        [0.9956771 ]]), 812: array([[0.99450412],\n",
       "        [0.99480698],\n",
       "        [0.99483131]]), 844: array([[0.99687734],\n",
       "        [0.99702809],\n",
       "        [0.99693011]]), 859: array([[0.99831376],\n",
       "        [0.99843584],\n",
       "        [0.99830843]]), 868: array([[0.99631526],\n",
       "        [0.99640243],\n",
       "        [0.99664818]]), 875: array([[0.99565951],\n",
       "        [0.9959019 ],\n",
       "        [0.9961783 ]]), 932: array([[0.99053835],\n",
       "        [0.99086529],\n",
       "        [0.99050841]]), 996: array([[0.99350487],\n",
       "        [0.9932741 ],\n",
       "        [0.99313974]]), 1014: array([[0.9975331 ],\n",
       "        [0.99724708],\n",
       "        [0.99711807]]), 1040: array([[0.99731451],\n",
       "        [0.99677783],\n",
       "        [0.99689879]]), 1054: array([[0.9965963 ],\n",
       "        [0.99643371],\n",
       "        [0.99667951]]), 1248: array([[0.99768923],\n",
       "        [0.99749734],\n",
       "        [0.99808915]]), 1267: array([[0.9975331 ],\n",
       "        [0.99740349],\n",
       "        [0.99724337]]), 1299: array([[0.99690857],\n",
       "        [0.99687168],\n",
       "        [0.99696144]]), 1371: array([[0.99362978],\n",
       "        [0.99355565],\n",
       "        [0.99304577]]), 1797: array([[0.99478516],\n",
       "        [0.9955265 ],\n",
       "        [0.99479999]]), 1798: array([[0.99606545],\n",
       "        [0.99652756],\n",
       "        [0.99693011]]), 1993: array([[0.99656508],\n",
       "        [0.99702809],\n",
       "        [0.99686746]]), 2118: array([[0.99775169],\n",
       "        [0.99746606],\n",
       "        [0.99812048]]), 2174: array([[0.99587809],\n",
       "        [0.99596446],\n",
       "        [0.99561445]]), 2191: array([[0.99531601],\n",
       "        [0.99540136],\n",
       "        [0.99511324]]), 2250: array([[0.99734574],\n",
       "        [0.99718451],\n",
       "        [0.99743132]]), 2355: array([[0.99628404],\n",
       "        [0.99521366],\n",
       "        [0.99586505]]), 2408: array([[0.99288034],\n",
       "        [0.99411875],\n",
       "        [0.99364095]]), 2493: array([[0.99672121],\n",
       "        [0.99680911],\n",
       "        [0.99661686]]), 2625: array([[0.99581564],\n",
       "        [0.99637114],\n",
       "        [0.99599035]]), 2902: array([[0.99703347],\n",
       "        [0.99705938],\n",
       "        [0.99705541]])}"
      ]
     },
     "execution_count": 38,
     "metadata": {},
     "output_type": "execute_result"
    }
   ],
   "source": [
    "logit_cv_150users.scores_"
   ]
  },
  {
   "cell_type": "markdown",
   "metadata": {},
   "source": [
    "**Посмотрите на средние доли правильных ответов на кросс-валидации в задаче идентификации каждого пользователя по отдельности.**"
   ]
  },
  {
   "cell_type": "code",
   "execution_count": 39,
   "metadata": {},
   "outputs": [
    {
     "name": "stdout",
     "output_type": "stream",
     "text": [
      "User 515, CV score: 0.994025830272\n",
      "User 2902, CV score: 0.997049421691\n",
      "User 6, CV score: 0.996079561289\n",
      "User 13, CV score: 0.996392603416\n",
      "User 15, CV score: 0.995266482277\n",
      "User 16, CV score: 0.991950761356\n",
      "User 533, CV score: 0.993786030831\n",
      "User 28, CV score: 0.990178765976\n",
      "User 1054, CV score: 0.996569841221\n",
      "User 31, CV score: 0.994296898905\n",
      "User 33, CV score: 0.993650504011\n",
      "User 1371, CV score: 0.993410398974\n",
      "User 39, CV score: 0.985862083066\n",
      "User 46, CV score: 0.997987857445\n",
      "User 49, CV score: 0.995277328462\n",
      "User 50, CV score: 0.994463828068\n",
      "User 563, CV score: 0.996726139256\n",
      "User 564, CV score: 0.995662909076\n",
      "User 53, CV score: 0.99359829021\n",
      "User 568, CV score: 0.991617658001\n",
      "User 569, CV score: 0.98944907695\n",
      "User 570, CV score: 0.998342456524\n",
      "User 573, CV score: 0.990491230318\n",
      "User 575, CV score: 0.990522870971\n",
      "User 576, CV score: 0.99405706748\n",
      "User 65, CV score: 0.996851370058\n",
      "User 66, CV score: 0.994765980925\n",
      "User 580, CV score: 0.986612731695\n",
      "User 2118, CV score: 0.997779407107\n",
      "User 583, CV score: 0.980878170551\n",
      "User 584, CV score: 0.981138852154\n",
      "User 82, CV score: 0.996403012276\n",
      "User 85, CV score: 0.996298720769\n",
      "User 600, CV score: 0.991627802929\n",
      "User 89, CV score: 0.990522584261\n",
      "User 603, CV score: 0.995631442764\n",
      "User 92, CV score: 0.994203332008\n",
      "User 605, CV score: 0.997581056141\n",
      "User 1040, CV score: 0.996997042754\n",
      "User 100, CV score: 0.994557525747\n",
      "User 102, CV score: 0.991398608994\n",
      "User 103, CV score: 0.980544961189\n",
      "User 105, CV score: 0.996934881144\n",
      "User 106, CV score: 0.994671910364\n",
      "User 118, CV score: 0.990929076551\n",
      "User 119, CV score: 0.99661162291\n",
      "User 120, CV score: 0.994317707419\n",
      "User 126, CV score: 0.995120904012\n",
      "User 127, CV score: 0.991648266653\n",
      "User 128, CV score: 0.984840484908\n",
      "User 875, CV score: 0.99591323506\n",
      "User 647, CV score: 0.997789469181\n",
      "User 138, CV score: 0.997007720386\n",
      "User 653, CV score: 0.997320381847\n",
      "User 2191, CV score: 0.995276872725\n",
      "User 664, CV score: 0.995141495573\n",
      "User 665, CV score: 0.996976526738\n",
      "User 158, CV score: 0.996997414689\n",
      "User 160, CV score: 0.99687207057\n",
      "User 165, CV score: 0.997341265432\n",
      "User 172, CV score: 0.996684498976\n",
      "User 177, CV score: 0.996924171054\n",
      "User 692, CV score: 0.997028425263\n",
      "User 1993, CV score: 0.996820210291\n",
      "User 697, CV score: 0.995797937546\n",
      "User 705, CV score: 0.996580354191\n",
      "User 785, CV score: 0.996861784232\n",
      "User 2250, CV score: 0.997320522782\n",
      "User 203, CV score: 0.997601976549\n",
      "User 207, CV score: 0.987582774696\n",
      "User 722, CV score: 0.994745210183\n",
      "User 1797, CV score: 0.995037215167\n",
      "User 223, CV score: 0.996403036003\n",
      "User 1248, CV score: 0.997758575341\n",
      "User 740, CV score: 0.996726252099\n",
      "User 741, CV score: 0.99677815983\n",
      "User 233, CV score: 0.996371635081\n",
      "User 235, CV score: 0.996549023501\n",
      "User 236, CV score: 0.990189063416\n",
      "User 237, CV score: 0.989250607353\n",
      "User 238, CV score: 0.996111088625\n",
      "User 240, CV score: 0.995704521738\n",
      "User 241, CV score: 0.995850386239\n",
      "User 242, CV score: 0.995193267683\n",
      "User 1267, CV score: 0.997393319412\n",
      "User 756, CV score: 0.995735497958\n",
      "User 245, CV score: 0.996090138702\n",
      "User 246, CV score: 0.996955591335\n",
      "User 249, CV score: 0.995120636188\n",
      "User 252, CV score: 0.996413303454\n",
      "User 254, CV score: 0.991867676967\n",
      "User 256, CV score: 0.995944414662\n",
      "User 640, CV score: 0.997226532606\n",
      "User 258, CV score: 0.995860813985\n",
      "User 259, CV score: 0.994776728787\n",
      "User 260, CV score: 0.997456196325\n",
      "User 261, CV score: 0.989907772887\n",
      "User 1798, CV score: 0.996507708176\n",
      "User 263, CV score: 0.992618100385\n",
      "User 264, CV score: 0.996444676283\n",
      "User 780, CV score: 0.996465620892\n",
      "User 269, CV score: 0.986852743249\n",
      "User 270, CV score: 0.989365330025\n",
      "User 784, CV score: 0.996528158328\n",
      "User 273, CV score: 0.99432812596\n",
      "User 1299, CV score: 0.996913894397\n",
      "User 797, CV score: 0.995652524416\n",
      "User 287, CV score: 0.990147092865\n",
      "User 294, CV score: 0.995714849739\n",
      "User 561, CV score: 0.984287627397\n",
      "User 298, CV score: 0.991168837272\n",
      "User 812, CV score: 0.994714139058\n",
      "User 301, CV score: 0.997122288077\n",
      "User 2355, CV score: 0.995787583923\n",
      "User 308, CV score: 0.995683656092\n",
      "User 315, CV score: 0.997487158973\n",
      "User 318, CV score: 0.995818985318\n",
      "User 2174, CV score: 0.995819000312\n",
      "User 327, CV score: 0.996423886655\n",
      "User 332, CV score: 0.996663624597\n",
      "User 333, CV score: 0.996257222372\n",
      "User 339, CV score: 0.997070018565\n",
      "User 340, CV score: 0.996569841695\n",
      "User 342, CV score: 0.992086503707\n",
      "User 344, CV score: 0.996642779259\n",
      "User 859, CV score: 0.998352677471\n",
      "User 351, CV score: 0.992221998068\n",
      "User 356, CV score: 0.997716620733\n",
      "User 2408, CV score: 0.993546679817\n",
      "User 361, CV score: 0.99634024384\n",
      "User 363, CV score: 0.996403162891\n",
      "User 2625, CV score: 0.996059044799\n",
      "User 411, CV score: 0.991242160817\n",
      "User 417, CV score: 0.996736670639\n",
      "User 932, CV score: 0.990637350493\n",
      "User 425, CV score: 0.994161428744\n",
      "User 430, CV score: 0.996298429219\n",
      "User 435, CV score: 0.996893057791\n",
      "User 436, CV score: 0.99515179643\n",
      "User 440, CV score: 0.996903575127\n",
      "User 444, CV score: 0.997914826872\n",
      "User 2493, CV score: 0.99671572603\n",
      "User 844, CV score: 0.996945182475\n",
      "User 868, CV score: 0.996455291942\n",
      "User 475, CV score: 0.989094544209\n",
      "User 476, CV score: 0.996966061694\n",
      "User 677, CV score: 0.996642571986\n",
      "User 996, CV score: 0.993306239196\n",
      "User 486, CV score: 0.995381219469\n",
      "User 1014, CV score: 0.997299413512\n"
     ]
    }
   ],
   "source": [
    "cv_scores_by_user = {}\n",
    "for user_id in logit_cv_150users.scores_:\n",
    "    print('User {0}, CV score: {1}'.format(user_id, logit_cv_150users.scores_[user_id].mean()))"
   ]
  },
  {
   "cell_type": "markdown",
   "metadata": {},
   "source": [
    "**Результаты кажутся впечатляющими, но возможно, мы забываем про дисбаланс классов, и высокую долю правильных ответов можно получить константным прогнозом. Посчитайте для каждого пользователя разницу между долей правильных ответов на кросс-валидации (только что посчитанную с помощью `LogisticRegressionCV`) и долей меток в *y_train_150*, отличных от ID \n",
    " этого пользователя (именно такую долю правильных ответов можно получить, если классификатор всегда \"говорит\", что это не пользователь с номером $i$ в задаче классификации $i$-vs-All).**"
   ]
  },
  {
   "cell_type": "code",
   "execution_count": 40,
   "metadata": {},
   "outputs": [],
   "source": [
    "class_distr = np.bincount(y_train_150.astype('int'))\n",
    "acc_diff_vs_constant = {}\n",
    "\n",
    "for user_id in np.unique(y_train_150):\n",
    "    acc_diff_vs_constant[user_id] = logit_cv_150users.scores_[user_id].mean() - (1 - class_distr[user_id] / len(y_train_150))"
   ]
  },
  {
   "cell_type": "code",
   "execution_count": 41,
   "metadata": {},
   "outputs": [
    {
     "data": {
      "text/plain": [
       "2903"
      ]
     },
     "execution_count": 41,
     "metadata": {},
     "output_type": "execute_result"
    }
   ],
   "source": [
    "#list(filter(lambda x: x > 2000, class_distr))\n",
    "len(class_distr)"
   ]
  },
  {
   "cell_type": "code",
   "execution_count": 42,
   "metadata": {},
   "outputs": [
    {
     "data": {
      "text/plain": [
       "150"
      ]
     },
     "execution_count": 42,
     "metadata": {},
     "output_type": "execute_result"
    }
   ],
   "source": [
    "len(acc_diff_vs_constant)"
   ]
  },
  {
   "cell_type": "code",
   "execution_count": 43,
   "metadata": {},
   "outputs": [
    {
     "name": "stdout",
     "output_type": "stream",
     "text": [
      "123\n"
     ]
    }
   ],
   "source": [
    "num_better_than_default = (np.array(list(acc_diff_vs_constant.values())) > 0).sum()\n",
    "print(num_better_than_default)"
   ]
  },
  {
   "cell_type": "markdown",
   "metadata": {},
   "source": [
    "**<font color='red'>Вопрос 7. </font> Посчитайте долю пользователей, для которых логистическая регрессия на кросс-валидации дает прогноз лучше константного. Округлите до 3 знаков после запятой.**"
   ]
  },
  {
   "cell_type": "code",
   "execution_count": 44,
   "metadata": {},
   "outputs": [
    {
     "data": {
      "text/plain": [
       "0.82"
      ]
     },
     "execution_count": 44,
     "metadata": {},
     "output_type": "execute_result"
    }
   ],
   "source": [
    "num_better_than_default / len(logit_cv_150users.scores_)\n",
    "#''' ВАШ КОД ЗДЕСЬ '''"
   ]
  },
  {
   "cell_type": "markdown",
   "metadata": {},
   "source": [
    "**Дальше будем строить кривые обучения для конкретного пользователя, допустим, для 128-го. Составьте новый бинарный вектор на основе *y_150users*, его значения будут 1 или 0 в зависимости от того, равен ли ID-шник пользователя 128.**"
   ]
  },
  {
   "cell_type": "code",
   "execution_count": null,
   "metadata": {
    "collapsed": true
   },
   "outputs": [],
   "source": [
    "y_binary_128 = ''' ВАШ КОД ЗДЕСЬ '''"
   ]
  },
  {
   "cell_type": "code",
   "execution_count": null,
   "metadata": {
    "collapsed": true
   },
   "outputs": [],
   "source": [
    "from sklearn.model_selection import learning_curve\n",
    "\n",
    "def plot_learning_curve(val_train, val_test, train_sizes, \n",
    "                        xlabel='Training Set Size', ylabel='score'):\n",
    "    def plot_with_err(x, data, **kwargs):\n",
    "        mu, std = data.mean(1), data.std(1)\n",
    "        lines = plt.plot(x, mu, '-', **kwargs)\n",
    "        plt.fill_between(x, mu - std, mu + std, edgecolor='none',\n",
    "                         facecolor=lines[0].get_color(), alpha=0.2)\n",
    "    plot_with_err(train_sizes, val_train, label='train')\n",
    "    plot_with_err(train_sizes, val_test, label='valid')\n",
    "    plt.xlabel(xlabel); plt.ylabel(ylabel)\n",
    "    plt.legend(loc='lower right');"
   ]
  },
  {
   "cell_type": "markdown",
   "metadata": {},
   "source": [
    "**Посчитайте доли правильных ответов на кросс-валидации в задаче классификации \"user128-vs-All\" в зависимости от размера выборки. Не помешает посмотреть встроенную документацию для *learning_curve*.**"
   ]
  },
  {
   "cell_type": "code",
   "execution_count": null,
   "metadata": {
    "collapsed": true
   },
   "outputs": [],
   "source": [
    "%%time\n",
    "train_sizes = np.linspace(0.25, 1, 20)\n",
    "estimator = svm_grid_searcher2.best_estimator_\n",
    "n_train, val_train, val_test = learning_curve ''' ВАШ КОД ЗДЕСЬ '''"
   ]
  },
  {
   "cell_type": "code",
   "execution_count": null,
   "metadata": {
    "collapsed": true
   },
   "outputs": [],
   "source": [
    "plot_learning_curve(val_train, val_test, n_train, \n",
    "                    xlabel='train_size', ylabel='accuracy')"
   ]
  },
  {
   "cell_type": "markdown",
   "metadata": {},
   "source": [
    "**Сделайте выводы о том, помогут ли алгоритму новые размеченные данные при той же постановке задачи.**"
   ]
  },
  {
   "cell_type": "markdown",
   "metadata": {},
   "source": [
    "## Пути улучшения\n",
    "- конечно, можно проверить еще кучу алгоритмов, например, Xgboost, но в такой задаче очень маловероятно, что что-то справится лучше линейных методов\n",
    "- интересно проверить качество алгоритма на данных, где сессии выделялись не по количеству посещенных сайтов, а по времени, например, 5, 7, 10 и 15 минут. Отдельно стоит отметить данные нашего [соревнования](https://inclass.kaggle.com/c/catch-me-if-you-can-intruder-detection-through-webpage-session-tracking2) \n",
    "- опять же, если ресурсы позволяют, можно проверить, насколько хорошо можно решить задачу для 3000 пользователей\n",
    "\n",
    "\n",
    "На следующей неделе мы вспомним про линейные модели, обучаемые стохастическим градиентным спуском, и порадуемся тому, насколько быстрее они работают. Также сделаем первые (или не первые) посылки в [соревновании](https://inclass.kaggle.com/c/catch-me-if-you-can-intruder-detection-through-webpage-session-tracking2) Kaggle Inclass."
   ]
  }
 ],
 "metadata": {
  "anaconda-cloud": {},
  "kernelspec": {
   "display_name": "Python 2",
   "language": "python",
   "name": "python2"
  },
  "language_info": {
   "codemirror_mode": {
    "name": "ipython",
    "version": 2
   },
   "file_extension": ".py",
   "mimetype": "text/x-python",
   "name": "python",
   "nbconvert_exporter": "python",
   "pygments_lexer": "ipython2",
   "version": "2.7.15"
  }
 },
 "nbformat": 4,
 "nbformat_minor": 1
}
