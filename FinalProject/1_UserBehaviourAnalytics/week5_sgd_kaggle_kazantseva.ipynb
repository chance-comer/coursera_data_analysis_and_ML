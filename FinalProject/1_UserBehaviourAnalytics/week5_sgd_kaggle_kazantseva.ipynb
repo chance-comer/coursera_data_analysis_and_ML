{
 "cells": [
  {
   "cell_type": "markdown",
   "metadata": {},
   "source": [
    "<center>\n",
    "<img src=\"https://habrastorage.org/web/677/8e1/337/6778e1337c3d4b159d7e99df94227cb2.jpg\"/>\n",
    "## Специализация \"Машинное обучение и анализ данных\"\n",
    "<center>Автор материала: программист-исследователь Mail.Ru Group, старший преподаватель Факультета Компьютерных Наук ВШЭ [Юрий Кашницкий](https://yorko.github.io/)"
   ]
  },
  {
   "cell_type": "markdown",
   "metadata": {},
   "source": [
    "# <center> Capstone проект №1 <br> Идентификация пользователей по посещенным веб-страницам\n",
    "<img src='http://i.istockimg.com/file_thumbview_approve/21546327/5/stock-illustration-21546327-identification-de-l-utilisateur.jpg'>\n",
    "\n",
    "# <center>Неделя 5.  Соревнование Kaggle \"Catch Me If You Can\"\n",
    "\n",
    "На этой неделе мы вспомним про концепцию стохастического градиентного спуска и опробуем классификатор Scikit-learn SGDClassifier, который работает намного быстрее на больших выборках, чем алгоритмы, которые мы тестировали на 4 неделе. Также мы познакомимся с данными [соревнования](https://inclass.kaggle.com/c/catch-me-if-you-can-intruder-detection-through-webpage-session-tracking2) Kaggle по идентификации пользователей и сделаем в нем первые посылки. По итогам этой недели дополнительные баллы получат те, кто попадет в топ-30 публичного лидерборда соревнования.\n",
    "\n",
    "**В этой части проекта Вам могут быть полезны видеозаписи следующих лекций курса \"Обучение на размеченных данных\":**\n",
    "   - [Стохатический градиентный спуск](https://www.coursera.org/learn/supervised-learning/lecture/xRY50/stokhastichieskii-ghradiientnyi-spusk)\n",
    "   - [Линейные модели. Sklearn.linear_model. Классификация](https://www.coursera.org/learn/supervised-learning/lecture/EBg9t/linieinyie-modieli-sklearn-linear-model-klassifikatsiia)\n",
    "   \n",
    "**Также рекомендуется вернуться и просмотреть [задание](https://www.coursera.org/learn/supervised-learning/programming/t2Idc/linieinaia-rieghriessiia-i-stokhastichieskii-ghradiientnyi-spusk) \"Линейная регрессия и стохастический градиентный спуск\" 1 недели 2 курса специализации.**"
   ]
  },
  {
   "cell_type": "markdown",
   "metadata": {},
   "source": [
    "### Задание\n",
    "1. Заполните код в этой тетрадке \n",
    "2. Если вы проходите специализацию Яндеса и МФТИ, пошлите тетрадку в соответствующем Peer Review. <br> Если вы проходите курс ODS, выберите ответы в [веб-форме](https://docs.google.com/forms/d/1pLsegkAICL9PzOLyAeH9DmDOBfktte0l8JW75uWcTng). "
   ]
  },
  {
   "cell_type": "code",
   "execution_count": 490,
   "metadata": {},
   "outputs": [],
   "source": [
    "from __future__ import division, print_function\n",
    "# отключим всякие предупреждения Anaconda\n",
    "import warnings\n",
    "warnings.filterwarnings('ignore')\n",
    "import os\n",
    "import pickle\n",
    "import numpy as np\n",
    "import pandas as pd\n",
    "from scipy.sparse import csr_matrix, hstack\n",
    "from sklearn.model_selection import train_test_split\n",
    "from sklearn.linear_model import SGDClassifier\n",
    "from sklearn.metrics import roc_auc_score\n",
    "from sklearn.preprocessing import StandardScaler\n",
    "from sklearn.model_selection import train_test_split, cross_val_score, StratifiedKFold, GridSearchCV"
   ]
  },
  {
   "cell_type": "markdown",
   "metadata": {},
   "source": [
    "**Считаем данные [соревнования](https://inclass.kaggle.com/c/catch-me-if-you-can-intruder-detection-through-webpage-session-tracking2) в DataFrame train_df и test_df (обучающая и тестовая выборки).**"
   ]
  },
  {
   "cell_type": "code",
   "execution_count": 2,
   "metadata": {},
   "outputs": [],
   "source": [
    "# Поменяйте на свой путь к данным\n",
    "PATH_TO_DATA = 'capstone_user_identification'"
   ]
  },
  {
   "cell_type": "code",
   "execution_count": 3,
   "metadata": {},
   "outputs": [],
   "source": [
    "train_df = pd.read_csv(os.path.join(PATH_TO_DATA, 'train_sessions.csv'),\n",
    "                       index_col='session_id')\n",
    "test_df = pd.read_csv(os.path.join(PATH_TO_DATA, 'test_sessions.csv'),\n",
    "                      index_col='session_id')"
   ]
  },
  {
   "cell_type": "code",
   "execution_count": 4,
   "metadata": {},
   "outputs": [
    {
     "data": {
      "text/html": [
       "<div>\n",
       "<style scoped>\n",
       "    .dataframe tbody tr th:only-of-type {\n",
       "        vertical-align: middle;\n",
       "    }\n",
       "\n",
       "    .dataframe tbody tr th {\n",
       "        vertical-align: top;\n",
       "    }\n",
       "\n",
       "    .dataframe thead th {\n",
       "        text-align: right;\n",
       "    }\n",
       "</style>\n",
       "<table border=\"1\" class=\"dataframe\">\n",
       "  <thead>\n",
       "    <tr style=\"text-align: right;\">\n",
       "      <th></th>\n",
       "      <th>site1</th>\n",
       "      <th>time1</th>\n",
       "      <th>site2</th>\n",
       "      <th>time2</th>\n",
       "      <th>site3</th>\n",
       "      <th>time3</th>\n",
       "      <th>site4</th>\n",
       "      <th>time4</th>\n",
       "      <th>site5</th>\n",
       "      <th>time5</th>\n",
       "      <th>...</th>\n",
       "      <th>time6</th>\n",
       "      <th>site7</th>\n",
       "      <th>time7</th>\n",
       "      <th>site8</th>\n",
       "      <th>time8</th>\n",
       "      <th>site9</th>\n",
       "      <th>time9</th>\n",
       "      <th>site10</th>\n",
       "      <th>time10</th>\n",
       "      <th>target</th>\n",
       "    </tr>\n",
       "    <tr>\n",
       "      <th>session_id</th>\n",
       "      <th></th>\n",
       "      <th></th>\n",
       "      <th></th>\n",
       "      <th></th>\n",
       "      <th></th>\n",
       "      <th></th>\n",
       "      <th></th>\n",
       "      <th></th>\n",
       "      <th></th>\n",
       "      <th></th>\n",
       "      <th></th>\n",
       "      <th></th>\n",
       "      <th></th>\n",
       "      <th></th>\n",
       "      <th></th>\n",
       "      <th></th>\n",
       "      <th></th>\n",
       "      <th></th>\n",
       "      <th></th>\n",
       "      <th></th>\n",
       "      <th></th>\n",
       "    </tr>\n",
       "  </thead>\n",
       "  <tbody>\n",
       "    <tr>\n",
       "      <th>1</th>\n",
       "      <td>718</td>\n",
       "      <td>2014-02-20 10:02:45</td>\n",
       "      <td>NaN</td>\n",
       "      <td>NaN</td>\n",
       "      <td>NaN</td>\n",
       "      <td>NaN</td>\n",
       "      <td>NaN</td>\n",
       "      <td>NaN</td>\n",
       "      <td>NaN</td>\n",
       "      <td>NaN</td>\n",
       "      <td>...</td>\n",
       "      <td>NaN</td>\n",
       "      <td>NaN</td>\n",
       "      <td>NaN</td>\n",
       "      <td>NaN</td>\n",
       "      <td>NaN</td>\n",
       "      <td>NaN</td>\n",
       "      <td>NaN</td>\n",
       "      <td>NaN</td>\n",
       "      <td>NaN</td>\n",
       "      <td>0</td>\n",
       "    </tr>\n",
       "    <tr>\n",
       "      <th>2</th>\n",
       "      <td>890</td>\n",
       "      <td>2014-02-22 11:19:50</td>\n",
       "      <td>941.0</td>\n",
       "      <td>2014-02-22 11:19:50</td>\n",
       "      <td>3847.0</td>\n",
       "      <td>2014-02-22 11:19:51</td>\n",
       "      <td>941.0</td>\n",
       "      <td>2014-02-22 11:19:51</td>\n",
       "      <td>942.0</td>\n",
       "      <td>2014-02-22 11:19:51</td>\n",
       "      <td>...</td>\n",
       "      <td>2014-02-22 11:19:51</td>\n",
       "      <td>3847.0</td>\n",
       "      <td>2014-02-22 11:19:52</td>\n",
       "      <td>3846.0</td>\n",
       "      <td>2014-02-22 11:19:52</td>\n",
       "      <td>1516.0</td>\n",
       "      <td>2014-02-22 11:20:15</td>\n",
       "      <td>1518.0</td>\n",
       "      <td>2014-02-22 11:20:16</td>\n",
       "      <td>0</td>\n",
       "    </tr>\n",
       "    <tr>\n",
       "      <th>3</th>\n",
       "      <td>14769</td>\n",
       "      <td>2013-12-16 16:40:17</td>\n",
       "      <td>39.0</td>\n",
       "      <td>2013-12-16 16:40:18</td>\n",
       "      <td>14768.0</td>\n",
       "      <td>2013-12-16 16:40:19</td>\n",
       "      <td>14769.0</td>\n",
       "      <td>2013-12-16 16:40:19</td>\n",
       "      <td>37.0</td>\n",
       "      <td>2013-12-16 16:40:19</td>\n",
       "      <td>...</td>\n",
       "      <td>2013-12-16 16:40:19</td>\n",
       "      <td>14768.0</td>\n",
       "      <td>2013-12-16 16:40:20</td>\n",
       "      <td>14768.0</td>\n",
       "      <td>2013-12-16 16:40:21</td>\n",
       "      <td>14768.0</td>\n",
       "      <td>2013-12-16 16:40:22</td>\n",
       "      <td>14768.0</td>\n",
       "      <td>2013-12-16 16:40:24</td>\n",
       "      <td>0</td>\n",
       "    </tr>\n",
       "    <tr>\n",
       "      <th>4</th>\n",
       "      <td>782</td>\n",
       "      <td>2014-03-28 10:52:12</td>\n",
       "      <td>782.0</td>\n",
       "      <td>2014-03-28 10:52:42</td>\n",
       "      <td>782.0</td>\n",
       "      <td>2014-03-28 10:53:12</td>\n",
       "      <td>782.0</td>\n",
       "      <td>2014-03-28 10:53:42</td>\n",
       "      <td>782.0</td>\n",
       "      <td>2014-03-28 10:54:12</td>\n",
       "      <td>...</td>\n",
       "      <td>2014-03-28 10:54:42</td>\n",
       "      <td>782.0</td>\n",
       "      <td>2014-03-28 10:55:12</td>\n",
       "      <td>782.0</td>\n",
       "      <td>2014-03-28 10:55:42</td>\n",
       "      <td>782.0</td>\n",
       "      <td>2014-03-28 10:56:12</td>\n",
       "      <td>782.0</td>\n",
       "      <td>2014-03-28 10:56:42</td>\n",
       "      <td>0</td>\n",
       "    </tr>\n",
       "    <tr>\n",
       "      <th>5</th>\n",
       "      <td>22</td>\n",
       "      <td>2014-02-28 10:53:05</td>\n",
       "      <td>177.0</td>\n",
       "      <td>2014-02-28 10:55:22</td>\n",
       "      <td>175.0</td>\n",
       "      <td>2014-02-28 10:55:22</td>\n",
       "      <td>178.0</td>\n",
       "      <td>2014-02-28 10:55:23</td>\n",
       "      <td>177.0</td>\n",
       "      <td>2014-02-28 10:55:23</td>\n",
       "      <td>...</td>\n",
       "      <td>2014-02-28 10:55:59</td>\n",
       "      <td>175.0</td>\n",
       "      <td>2014-02-28 10:55:59</td>\n",
       "      <td>177.0</td>\n",
       "      <td>2014-02-28 10:55:59</td>\n",
       "      <td>177.0</td>\n",
       "      <td>2014-02-28 10:57:06</td>\n",
       "      <td>178.0</td>\n",
       "      <td>2014-02-28 10:57:11</td>\n",
       "      <td>0</td>\n",
       "    </tr>\n",
       "  </tbody>\n",
       "</table>\n",
       "<p>5 rows × 21 columns</p>\n",
       "</div>"
      ],
      "text/plain": [
       "            site1                time1  site2                time2    site3  \\\n",
       "session_id                                                                    \n",
       "1             718  2014-02-20 10:02:45    NaN                  NaN      NaN   \n",
       "2             890  2014-02-22 11:19:50  941.0  2014-02-22 11:19:50   3847.0   \n",
       "3           14769  2013-12-16 16:40:17   39.0  2013-12-16 16:40:18  14768.0   \n",
       "4             782  2014-03-28 10:52:12  782.0  2014-03-28 10:52:42    782.0   \n",
       "5              22  2014-02-28 10:53:05  177.0  2014-02-28 10:55:22    175.0   \n",
       "\n",
       "                          time3    site4                time4  site5  \\\n",
       "session_id                                                             \n",
       "1                           NaN      NaN                  NaN    NaN   \n",
       "2           2014-02-22 11:19:51    941.0  2014-02-22 11:19:51  942.0   \n",
       "3           2013-12-16 16:40:19  14769.0  2013-12-16 16:40:19   37.0   \n",
       "4           2014-03-28 10:53:12    782.0  2014-03-28 10:53:42  782.0   \n",
       "5           2014-02-28 10:55:22    178.0  2014-02-28 10:55:23  177.0   \n",
       "\n",
       "                          time5  ...                  time6    site7  \\\n",
       "session_id                       ...                                   \n",
       "1                           NaN  ...                    NaN      NaN   \n",
       "2           2014-02-22 11:19:51  ...    2014-02-22 11:19:51   3847.0   \n",
       "3           2013-12-16 16:40:19  ...    2013-12-16 16:40:19  14768.0   \n",
       "4           2014-03-28 10:54:12  ...    2014-03-28 10:54:42    782.0   \n",
       "5           2014-02-28 10:55:23  ...    2014-02-28 10:55:59    175.0   \n",
       "\n",
       "                          time7    site8                time8    site9  \\\n",
       "session_id                                                               \n",
       "1                           NaN      NaN                  NaN      NaN   \n",
       "2           2014-02-22 11:19:52   3846.0  2014-02-22 11:19:52   1516.0   \n",
       "3           2013-12-16 16:40:20  14768.0  2013-12-16 16:40:21  14768.0   \n",
       "4           2014-03-28 10:55:12    782.0  2014-03-28 10:55:42    782.0   \n",
       "5           2014-02-28 10:55:59    177.0  2014-02-28 10:55:59    177.0   \n",
       "\n",
       "                          time9   site10               time10 target  \n",
       "session_id                                                            \n",
       "1                           NaN      NaN                  NaN      0  \n",
       "2           2014-02-22 11:20:15   1518.0  2014-02-22 11:20:16      0  \n",
       "3           2013-12-16 16:40:22  14768.0  2013-12-16 16:40:24      0  \n",
       "4           2014-03-28 10:56:12    782.0  2014-03-28 10:56:42      0  \n",
       "5           2014-02-28 10:57:06    178.0  2014-02-28 10:57:11      0  \n",
       "\n",
       "[5 rows x 21 columns]"
      ]
     },
     "execution_count": 4,
     "metadata": {},
     "output_type": "execute_result"
    }
   ],
   "source": [
    "train_df.head()"
   ]
  },
  {
   "cell_type": "markdown",
   "metadata": {},
   "source": [
    "**Объединим обучающую и тестовую выборки – это понадобится, чтоб вместе потом привести их к разреженному формату.**"
   ]
  },
  {
   "cell_type": "code",
   "execution_count": 5,
   "metadata": {},
   "outputs": [],
   "source": [
    "train_test_df = pd.concat([train_df, test_df])"
   ]
  },
  {
   "cell_type": "markdown",
   "metadata": {},
   "source": [
    "В обучающей выборке видим следующие признаки:\n",
    "    - site1 – индекс первого посещенного сайта в сессии\n",
    "    - time1 – время посещения первого сайта в сессии\n",
    "    - ...\n",
    "    - site10 – индекс 10-го посещенного сайта в сессии\n",
    "    - time10 – время посещения 10-го сайта в сессии\n",
    "    - user_id – ID пользователя\n",
    "    \n",
    "Сессии пользователей выделены таким образом, что они не могут быть длинее получаса или 10 сайтов. То есть сессия считается оконченной либо когда пользователь посетил 10 сайтов подряд, либо когда сессия заняла по времени более 30 минут. "
   ]
  },
  {
   "cell_type": "markdown",
   "metadata": {},
   "source": [
    "**Посмотрим на статистику признаков.**\n",
    "\n",
    "Пропуски возникают там, где сессии короткие (менее 10 сайтов). Скажем, если человек 1 января 2015 года посетил *vk.com* в 20:01, потом *yandex.ru* в 20:29, затем *google.com* в 20:33, то первая его сессия будет состоять только из двух сайтов (site1 – ID сайта *vk.com*, time1 – 2015-01-01 20:01:00, site2 – ID сайта  *yandex.ru*, time2 – 2015-01-01 20:29:00, остальные признаки – NaN), а начиная с *google.com* пойдет новая сессия, потому что уже прошло более 30 минут с момента посещения *vk.com*."
   ]
  },
  {
   "cell_type": "code",
   "execution_count": 6,
   "metadata": {},
   "outputs": [
    {
     "name": "stdout",
     "output_type": "stream",
     "text": [
      "<class 'pandas.core.frame.DataFrame'>\n",
      "Int64Index: 253561 entries, 1 to 253561\n",
      "Data columns (total 21 columns):\n",
      "site1     253561 non-null int64\n",
      "time1     253561 non-null object\n",
      "site2     250098 non-null float64\n",
      "time2     250098 non-null object\n",
      "site3     246919 non-null float64\n",
      "time3     246919 non-null object\n",
      "site4     244321 non-null float64\n",
      "time4     244321 non-null object\n",
      "site5     241829 non-null float64\n",
      "time5     241829 non-null object\n",
      "site6     239495 non-null float64\n",
      "time6     239495 non-null object\n",
      "site7     237297 non-null float64\n",
      "time7     237297 non-null object\n",
      "site8     235224 non-null float64\n",
      "time8     235224 non-null object\n",
      "site9     233084 non-null float64\n",
      "time9     233084 non-null object\n",
      "site10    231052 non-null float64\n",
      "time10    231052 non-null object\n",
      "target    253561 non-null int64\n",
      "dtypes: float64(9), int64(2), object(10)\n",
      "memory usage: 42.6+ MB\n"
     ]
    }
   ],
   "source": [
    "train_df.info()"
   ]
  },
  {
   "cell_type": "code",
   "execution_count": 7,
   "metadata": {},
   "outputs": [
    {
     "data": {
      "text/html": [
       "<div>\n",
       "<style scoped>\n",
       "    .dataframe tbody tr th:only-of-type {\n",
       "        vertical-align: middle;\n",
       "    }\n",
       "\n",
       "    .dataframe tbody tr th {\n",
       "        vertical-align: top;\n",
       "    }\n",
       "\n",
       "    .dataframe thead th {\n",
       "        text-align: right;\n",
       "    }\n",
       "</style>\n",
       "<table border=\"1\" class=\"dataframe\">\n",
       "  <thead>\n",
       "    <tr style=\"text-align: right;\">\n",
       "      <th></th>\n",
       "      <th>site1</th>\n",
       "      <th>time1</th>\n",
       "      <th>site2</th>\n",
       "      <th>time2</th>\n",
       "      <th>site3</th>\n",
       "      <th>time3</th>\n",
       "      <th>site4</th>\n",
       "      <th>time4</th>\n",
       "      <th>site5</th>\n",
       "      <th>time5</th>\n",
       "      <th>site6</th>\n",
       "      <th>time6</th>\n",
       "      <th>site7</th>\n",
       "      <th>time7</th>\n",
       "      <th>site8</th>\n",
       "      <th>time8</th>\n",
       "      <th>site9</th>\n",
       "      <th>time9</th>\n",
       "      <th>site10</th>\n",
       "      <th>time10</th>\n",
       "    </tr>\n",
       "    <tr>\n",
       "      <th>session_id</th>\n",
       "      <th></th>\n",
       "      <th></th>\n",
       "      <th></th>\n",
       "      <th></th>\n",
       "      <th></th>\n",
       "      <th></th>\n",
       "      <th></th>\n",
       "      <th></th>\n",
       "      <th></th>\n",
       "      <th></th>\n",
       "      <th></th>\n",
       "      <th></th>\n",
       "      <th></th>\n",
       "      <th></th>\n",
       "      <th></th>\n",
       "      <th></th>\n",
       "      <th></th>\n",
       "      <th></th>\n",
       "      <th></th>\n",
       "      <th></th>\n",
       "    </tr>\n",
       "  </thead>\n",
       "  <tbody>\n",
       "    <tr>\n",
       "      <th>1</th>\n",
       "      <td>29</td>\n",
       "      <td>2014-10-04 11:19:53</td>\n",
       "      <td>35.0</td>\n",
       "      <td>2014-10-04 11:19:53</td>\n",
       "      <td>22.0</td>\n",
       "      <td>2014-10-04 11:19:54</td>\n",
       "      <td>321.0</td>\n",
       "      <td>2014-10-04 11:19:54</td>\n",
       "      <td>23.0</td>\n",
       "      <td>2014-10-04 11:19:54</td>\n",
       "      <td>2211.0</td>\n",
       "      <td>2014-10-04 11:19:54</td>\n",
       "      <td>6730.0</td>\n",
       "      <td>2014-10-04 11:19:54</td>\n",
       "      <td>21.0</td>\n",
       "      <td>2014-10-04 11:19:54</td>\n",
       "      <td>44582.0</td>\n",
       "      <td>2014-10-04 11:20:00</td>\n",
       "      <td>15336.0</td>\n",
       "      <td>2014-10-04 11:20:00</td>\n",
       "    </tr>\n",
       "    <tr>\n",
       "      <th>2</th>\n",
       "      <td>782</td>\n",
       "      <td>2014-07-03 11:00:28</td>\n",
       "      <td>782.0</td>\n",
       "      <td>2014-07-03 11:00:53</td>\n",
       "      <td>782.0</td>\n",
       "      <td>2014-07-03 11:00:58</td>\n",
       "      <td>782.0</td>\n",
       "      <td>2014-07-03 11:01:06</td>\n",
       "      <td>782.0</td>\n",
       "      <td>2014-07-03 11:01:09</td>\n",
       "      <td>782.0</td>\n",
       "      <td>2014-07-03 11:01:10</td>\n",
       "      <td>782.0</td>\n",
       "      <td>2014-07-03 11:01:23</td>\n",
       "      <td>782.0</td>\n",
       "      <td>2014-07-03 11:01:29</td>\n",
       "      <td>782.0</td>\n",
       "      <td>2014-07-03 11:01:30</td>\n",
       "      <td>782.0</td>\n",
       "      <td>2014-07-03 11:01:53</td>\n",
       "    </tr>\n",
       "    <tr>\n",
       "      <th>3</th>\n",
       "      <td>55</td>\n",
       "      <td>2014-12-05 15:55:12</td>\n",
       "      <td>55.0</td>\n",
       "      <td>2014-12-05 15:55:13</td>\n",
       "      <td>55.0</td>\n",
       "      <td>2014-12-05 15:55:14</td>\n",
       "      <td>55.0</td>\n",
       "      <td>2014-12-05 15:56:15</td>\n",
       "      <td>55.0</td>\n",
       "      <td>2014-12-05 15:56:16</td>\n",
       "      <td>55.0</td>\n",
       "      <td>2014-12-05 15:56:17</td>\n",
       "      <td>55.0</td>\n",
       "      <td>2014-12-05 15:56:18</td>\n",
       "      <td>55.0</td>\n",
       "      <td>2014-12-05 15:56:19</td>\n",
       "      <td>1445.0</td>\n",
       "      <td>2014-12-05 15:56:33</td>\n",
       "      <td>1445.0</td>\n",
       "      <td>2014-12-05 15:56:36</td>\n",
       "    </tr>\n",
       "    <tr>\n",
       "      <th>4</th>\n",
       "      <td>1023</td>\n",
       "      <td>2014-11-04 10:03:19</td>\n",
       "      <td>1022.0</td>\n",
       "      <td>2014-11-04 10:03:19</td>\n",
       "      <td>50.0</td>\n",
       "      <td>2014-11-04 10:03:20</td>\n",
       "      <td>222.0</td>\n",
       "      <td>2014-11-04 10:03:21</td>\n",
       "      <td>202.0</td>\n",
       "      <td>2014-11-04 10:03:21</td>\n",
       "      <td>3374.0</td>\n",
       "      <td>2014-11-04 10:03:22</td>\n",
       "      <td>50.0</td>\n",
       "      <td>2014-11-04 10:03:22</td>\n",
       "      <td>48.0</td>\n",
       "      <td>2014-11-04 10:03:22</td>\n",
       "      <td>48.0</td>\n",
       "      <td>2014-11-04 10:03:23</td>\n",
       "      <td>3374.0</td>\n",
       "      <td>2014-11-04 10:03:23</td>\n",
       "    </tr>\n",
       "    <tr>\n",
       "      <th>5</th>\n",
       "      <td>301</td>\n",
       "      <td>2014-05-16 15:05:31</td>\n",
       "      <td>301.0</td>\n",
       "      <td>2014-05-16 15:05:32</td>\n",
       "      <td>301.0</td>\n",
       "      <td>2014-05-16 15:05:33</td>\n",
       "      <td>66.0</td>\n",
       "      <td>2014-05-16 15:05:39</td>\n",
       "      <td>67.0</td>\n",
       "      <td>2014-05-16 15:05:40</td>\n",
       "      <td>69.0</td>\n",
       "      <td>2014-05-16 15:05:40</td>\n",
       "      <td>70.0</td>\n",
       "      <td>2014-05-16 15:05:40</td>\n",
       "      <td>68.0</td>\n",
       "      <td>2014-05-16 15:05:40</td>\n",
       "      <td>71.0</td>\n",
       "      <td>2014-05-16 15:05:40</td>\n",
       "      <td>167.0</td>\n",
       "      <td>2014-05-16 15:05:44</td>\n",
       "    </tr>\n",
       "  </tbody>\n",
       "</table>\n",
       "</div>"
      ],
      "text/plain": [
       "            site1                time1   site2                time2  site3  \\\n",
       "session_id                                                                   \n",
       "1              29  2014-10-04 11:19:53    35.0  2014-10-04 11:19:53   22.0   \n",
       "2             782  2014-07-03 11:00:28   782.0  2014-07-03 11:00:53  782.0   \n",
       "3              55  2014-12-05 15:55:12    55.0  2014-12-05 15:55:13   55.0   \n",
       "4            1023  2014-11-04 10:03:19  1022.0  2014-11-04 10:03:19   50.0   \n",
       "5             301  2014-05-16 15:05:31   301.0  2014-05-16 15:05:32  301.0   \n",
       "\n",
       "                          time3  site4                time4  site5  \\\n",
       "session_id                                                           \n",
       "1           2014-10-04 11:19:54  321.0  2014-10-04 11:19:54   23.0   \n",
       "2           2014-07-03 11:00:58  782.0  2014-07-03 11:01:06  782.0   \n",
       "3           2014-12-05 15:55:14   55.0  2014-12-05 15:56:15   55.0   \n",
       "4           2014-11-04 10:03:20  222.0  2014-11-04 10:03:21  202.0   \n",
       "5           2014-05-16 15:05:33   66.0  2014-05-16 15:05:39   67.0   \n",
       "\n",
       "                          time5   site6                time6   site7  \\\n",
       "session_id                                                             \n",
       "1           2014-10-04 11:19:54  2211.0  2014-10-04 11:19:54  6730.0   \n",
       "2           2014-07-03 11:01:09   782.0  2014-07-03 11:01:10   782.0   \n",
       "3           2014-12-05 15:56:16    55.0  2014-12-05 15:56:17    55.0   \n",
       "4           2014-11-04 10:03:21  3374.0  2014-11-04 10:03:22    50.0   \n",
       "5           2014-05-16 15:05:40    69.0  2014-05-16 15:05:40    70.0   \n",
       "\n",
       "                          time7  site8                time8    site9  \\\n",
       "session_id                                                             \n",
       "1           2014-10-04 11:19:54   21.0  2014-10-04 11:19:54  44582.0   \n",
       "2           2014-07-03 11:01:23  782.0  2014-07-03 11:01:29    782.0   \n",
       "3           2014-12-05 15:56:18   55.0  2014-12-05 15:56:19   1445.0   \n",
       "4           2014-11-04 10:03:22   48.0  2014-11-04 10:03:22     48.0   \n",
       "5           2014-05-16 15:05:40   68.0  2014-05-16 15:05:40     71.0   \n",
       "\n",
       "                          time9   site10               time10  \n",
       "session_id                                                     \n",
       "1           2014-10-04 11:20:00  15336.0  2014-10-04 11:20:00  \n",
       "2           2014-07-03 11:01:30    782.0  2014-07-03 11:01:53  \n",
       "3           2014-12-05 15:56:33   1445.0  2014-12-05 15:56:36  \n",
       "4           2014-11-04 10:03:23   3374.0  2014-11-04 10:03:23  \n",
       "5           2014-05-16 15:05:40    167.0  2014-05-16 15:05:44  "
      ]
     },
     "execution_count": 7,
     "metadata": {},
     "output_type": "execute_result"
    }
   ],
   "source": [
    "test_df.head()"
   ]
  },
  {
   "cell_type": "code",
   "execution_count": 8,
   "metadata": {},
   "outputs": [
    {
     "name": "stdout",
     "output_type": "stream",
     "text": [
      "<class 'pandas.core.frame.DataFrame'>\n",
      "Int64Index: 82797 entries, 1 to 82797\n",
      "Data columns (total 20 columns):\n",
      "site1     82797 non-null int64\n",
      "time1     82797 non-null object\n",
      "site2     81308 non-null float64\n",
      "time2     81308 non-null object\n",
      "site3     80075 non-null float64\n",
      "time3     80075 non-null object\n",
      "site4     79182 non-null float64\n",
      "time4     79182 non-null object\n",
      "site5     78341 non-null float64\n",
      "time5     78341 non-null object\n",
      "site6     77566 non-null float64\n",
      "time6     77566 non-null object\n",
      "site7     76840 non-null float64\n",
      "time7     76840 non-null object\n",
      "site8     76151 non-null float64\n",
      "time8     76151 non-null object\n",
      "site9     75484 non-null float64\n",
      "time9     75484 non-null object\n",
      "site10    74806 non-null float64\n",
      "time10    74806 non-null object\n",
      "dtypes: float64(9), int64(1), object(10)\n",
      "memory usage: 13.3+ MB\n"
     ]
    }
   ],
   "source": [
    "test_df.info()"
   ]
  },
  {
   "cell_type": "markdown",
   "metadata": {},
   "source": [
    "**В обучающей выборке – 2297 сессий одного пользователя (Alice) и 251264 сессий – других пользователей, не Элис. Дисбаланс классов очень сильный, и смотреть на долю верных ответов (accuracy) непоказательно.**"
   ]
  },
  {
   "cell_type": "code",
   "execution_count": 9,
   "metadata": {},
   "outputs": [
    {
     "data": {
      "text/plain": [
       "0    251264\n",
       "1      2297\n",
       "Name: target, dtype: int64"
      ]
     },
     "execution_count": 9,
     "metadata": {},
     "output_type": "execute_result"
    }
   ],
   "source": [
    "train_df['target'].value_counts()"
   ]
  },
  {
   "cell_type": "markdown",
   "metadata": {},
   "source": [
    "**Пока для прогноза будем использовать только индексы посещенных сайтов. Индексы нумеровались с 1, так что заменим пропуски на нули.**"
   ]
  },
  {
   "cell_type": "code",
   "execution_count": 10,
   "metadata": {},
   "outputs": [],
   "source": [
    "train_test_df_sites = train_test_df[['site%d' % i for i in range(1, 11)]].fillna(0).astype('int')"
   ]
  },
  {
   "cell_type": "code",
   "execution_count": 11,
   "metadata": {},
   "outputs": [
    {
     "data": {
      "text/html": [
       "<div>\n",
       "<style scoped>\n",
       "    .dataframe tbody tr th:only-of-type {\n",
       "        vertical-align: middle;\n",
       "    }\n",
       "\n",
       "    .dataframe tbody tr th {\n",
       "        vertical-align: top;\n",
       "    }\n",
       "\n",
       "    .dataframe thead th {\n",
       "        text-align: right;\n",
       "    }\n",
       "</style>\n",
       "<table border=\"1\" class=\"dataframe\">\n",
       "  <thead>\n",
       "    <tr style=\"text-align: right;\">\n",
       "      <th></th>\n",
       "      <th>site1</th>\n",
       "      <th>site2</th>\n",
       "      <th>site3</th>\n",
       "      <th>site4</th>\n",
       "      <th>site5</th>\n",
       "      <th>site6</th>\n",
       "      <th>site7</th>\n",
       "      <th>site8</th>\n",
       "      <th>site9</th>\n",
       "      <th>site10</th>\n",
       "    </tr>\n",
       "    <tr>\n",
       "      <th>session_id</th>\n",
       "      <th></th>\n",
       "      <th></th>\n",
       "      <th></th>\n",
       "      <th></th>\n",
       "      <th></th>\n",
       "      <th></th>\n",
       "      <th></th>\n",
       "      <th></th>\n",
       "      <th></th>\n",
       "      <th></th>\n",
       "    </tr>\n",
       "  </thead>\n",
       "  <tbody>\n",
       "    <tr>\n",
       "      <th>1</th>\n",
       "      <td>718</td>\n",
       "      <td>0</td>\n",
       "      <td>0</td>\n",
       "      <td>0</td>\n",
       "      <td>0</td>\n",
       "      <td>0</td>\n",
       "      <td>0</td>\n",
       "      <td>0</td>\n",
       "      <td>0</td>\n",
       "      <td>0</td>\n",
       "    </tr>\n",
       "    <tr>\n",
       "      <th>2</th>\n",
       "      <td>890</td>\n",
       "      <td>941</td>\n",
       "      <td>3847</td>\n",
       "      <td>941</td>\n",
       "      <td>942</td>\n",
       "      <td>3846</td>\n",
       "      <td>3847</td>\n",
       "      <td>3846</td>\n",
       "      <td>1516</td>\n",
       "      <td>1518</td>\n",
       "    </tr>\n",
       "    <tr>\n",
       "      <th>3</th>\n",
       "      <td>14769</td>\n",
       "      <td>39</td>\n",
       "      <td>14768</td>\n",
       "      <td>14769</td>\n",
       "      <td>37</td>\n",
       "      <td>39</td>\n",
       "      <td>14768</td>\n",
       "      <td>14768</td>\n",
       "      <td>14768</td>\n",
       "      <td>14768</td>\n",
       "    </tr>\n",
       "    <tr>\n",
       "      <th>4</th>\n",
       "      <td>782</td>\n",
       "      <td>782</td>\n",
       "      <td>782</td>\n",
       "      <td>782</td>\n",
       "      <td>782</td>\n",
       "      <td>782</td>\n",
       "      <td>782</td>\n",
       "      <td>782</td>\n",
       "      <td>782</td>\n",
       "      <td>782</td>\n",
       "    </tr>\n",
       "    <tr>\n",
       "      <th>5</th>\n",
       "      <td>22</td>\n",
       "      <td>177</td>\n",
       "      <td>175</td>\n",
       "      <td>178</td>\n",
       "      <td>177</td>\n",
       "      <td>178</td>\n",
       "      <td>175</td>\n",
       "      <td>177</td>\n",
       "      <td>177</td>\n",
       "      <td>178</td>\n",
       "    </tr>\n",
       "    <tr>\n",
       "      <th>6</th>\n",
       "      <td>570</td>\n",
       "      <td>21</td>\n",
       "      <td>570</td>\n",
       "      <td>21</td>\n",
       "      <td>21</td>\n",
       "      <td>0</td>\n",
       "      <td>0</td>\n",
       "      <td>0</td>\n",
       "      <td>0</td>\n",
       "      <td>0</td>\n",
       "    </tr>\n",
       "    <tr>\n",
       "      <th>7</th>\n",
       "      <td>803</td>\n",
       "      <td>23</td>\n",
       "      <td>5956</td>\n",
       "      <td>17513</td>\n",
       "      <td>37</td>\n",
       "      <td>21</td>\n",
       "      <td>803</td>\n",
       "      <td>17514</td>\n",
       "      <td>17514</td>\n",
       "      <td>17514</td>\n",
       "    </tr>\n",
       "    <tr>\n",
       "      <th>8</th>\n",
       "      <td>22</td>\n",
       "      <td>21</td>\n",
       "      <td>29</td>\n",
       "      <td>5041</td>\n",
       "      <td>14422</td>\n",
       "      <td>23</td>\n",
       "      <td>21</td>\n",
       "      <td>5041</td>\n",
       "      <td>14421</td>\n",
       "      <td>14421</td>\n",
       "    </tr>\n",
       "    <tr>\n",
       "      <th>9</th>\n",
       "      <td>668</td>\n",
       "      <td>940</td>\n",
       "      <td>942</td>\n",
       "      <td>941</td>\n",
       "      <td>941</td>\n",
       "      <td>942</td>\n",
       "      <td>940</td>\n",
       "      <td>23</td>\n",
       "      <td>21</td>\n",
       "      <td>22</td>\n",
       "    </tr>\n",
       "    <tr>\n",
       "      <th>10</th>\n",
       "      <td>3700</td>\n",
       "      <td>229</td>\n",
       "      <td>570</td>\n",
       "      <td>21</td>\n",
       "      <td>229</td>\n",
       "      <td>21</td>\n",
       "      <td>21</td>\n",
       "      <td>21</td>\n",
       "      <td>2336</td>\n",
       "      <td>2044</td>\n",
       "    </tr>\n",
       "  </tbody>\n",
       "</table>\n",
       "</div>"
      ],
      "text/plain": [
       "            site1  site2  site3  site4  site5  site6  site7  site8  site9  \\\n",
       "session_id                                                                  \n",
       "1             718      0      0      0      0      0      0      0      0   \n",
       "2             890    941   3847    941    942   3846   3847   3846   1516   \n",
       "3           14769     39  14768  14769     37     39  14768  14768  14768   \n",
       "4             782    782    782    782    782    782    782    782    782   \n",
       "5              22    177    175    178    177    178    175    177    177   \n",
       "6             570     21    570     21     21      0      0      0      0   \n",
       "7             803     23   5956  17513     37     21    803  17514  17514   \n",
       "8              22     21     29   5041  14422     23     21   5041  14421   \n",
       "9             668    940    942    941    941    942    940     23     21   \n",
       "10           3700    229    570     21    229     21     21     21   2336   \n",
       "\n",
       "            site10  \n",
       "session_id          \n",
       "1                0  \n",
       "2             1518  \n",
       "3            14768  \n",
       "4              782  \n",
       "5              178  \n",
       "6                0  \n",
       "7            17514  \n",
       "8            14421  \n",
       "9               22  \n",
       "10            2044  "
      ]
     },
     "execution_count": 11,
     "metadata": {},
     "output_type": "execute_result"
    }
   ],
   "source": [
    "train_test_df_sites.head(10)"
   ]
  },
  {
   "cell_type": "markdown",
   "metadata": {},
   "source": [
    "**Создайте разреженные матрицы *X_train_sparse* и *X_test_sparse* аналогично тому, как мы это делали ранее. Используйте объединенную матрицу *train_test_df_sites*, потом разделите обратно на обучающую и тестовую части.**\n",
    "\n",
    "Обратите внимание на то, что в  сессиях меньше 10 сайтов  у нас остались нули, так что первый признак (сколько раз попался 0) по смыслу отличен от остальных (сколько раз попался сайт с индексом $i$). Поэтому первый столбец разреженной матрицы надо будет удалить.\n",
    "\n",
    "**Выделите в отдельный вектор *y* ответы на обучающей выборке.**"
   ]
  },
  {
   "cell_type": "code",
   "execution_count": 12,
   "metadata": {},
   "outputs": [
    {
     "data": {
      "text/html": [
       "<div>\n",
       "<style scoped>\n",
       "    .dataframe tbody tr th:only-of-type {\n",
       "        vertical-align: middle;\n",
       "    }\n",
       "\n",
       "    .dataframe tbody tr th {\n",
       "        vertical-align: top;\n",
       "    }\n",
       "\n",
       "    .dataframe thead th {\n",
       "        text-align: right;\n",
       "    }\n",
       "</style>\n",
       "<table border=\"1\" class=\"dataframe\">\n",
       "  <thead>\n",
       "    <tr style=\"text-align: right;\">\n",
       "      <th></th>\n",
       "      <th>time1</th>\n",
       "      <th>time2</th>\n",
       "      <th>time3</th>\n",
       "      <th>time4</th>\n",
       "      <th>time5</th>\n",
       "      <th>time6</th>\n",
       "      <th>time7</th>\n",
       "      <th>time8</th>\n",
       "      <th>time9</th>\n",
       "      <th>time10</th>\n",
       "    </tr>\n",
       "    <tr>\n",
       "      <th>session_id</th>\n",
       "      <th></th>\n",
       "      <th></th>\n",
       "      <th></th>\n",
       "      <th></th>\n",
       "      <th></th>\n",
       "      <th></th>\n",
       "      <th></th>\n",
       "      <th></th>\n",
       "      <th></th>\n",
       "      <th></th>\n",
       "    </tr>\n",
       "  </thead>\n",
       "  <tbody>\n",
       "    <tr>\n",
       "      <th>1</th>\n",
       "      <td>2014-02-20 10:02:45</td>\n",
       "      <td>NaN</td>\n",
       "      <td>NaN</td>\n",
       "      <td>NaN</td>\n",
       "      <td>NaN</td>\n",
       "      <td>NaN</td>\n",
       "      <td>NaN</td>\n",
       "      <td>NaN</td>\n",
       "      <td>NaN</td>\n",
       "      <td>NaN</td>\n",
       "    </tr>\n",
       "    <tr>\n",
       "      <th>2</th>\n",
       "      <td>2014-02-22 11:19:50</td>\n",
       "      <td>2014-02-22 11:19:50</td>\n",
       "      <td>2014-02-22 11:19:51</td>\n",
       "      <td>2014-02-22 11:19:51</td>\n",
       "      <td>2014-02-22 11:19:51</td>\n",
       "      <td>2014-02-22 11:19:51</td>\n",
       "      <td>2014-02-22 11:19:52</td>\n",
       "      <td>2014-02-22 11:19:52</td>\n",
       "      <td>2014-02-22 11:20:15</td>\n",
       "      <td>2014-02-22 11:20:16</td>\n",
       "    </tr>\n",
       "    <tr>\n",
       "      <th>3</th>\n",
       "      <td>2013-12-16 16:40:17</td>\n",
       "      <td>2013-12-16 16:40:18</td>\n",
       "      <td>2013-12-16 16:40:19</td>\n",
       "      <td>2013-12-16 16:40:19</td>\n",
       "      <td>2013-12-16 16:40:19</td>\n",
       "      <td>2013-12-16 16:40:19</td>\n",
       "      <td>2013-12-16 16:40:20</td>\n",
       "      <td>2013-12-16 16:40:21</td>\n",
       "      <td>2013-12-16 16:40:22</td>\n",
       "      <td>2013-12-16 16:40:24</td>\n",
       "    </tr>\n",
       "    <tr>\n",
       "      <th>4</th>\n",
       "      <td>2014-03-28 10:52:12</td>\n",
       "      <td>2014-03-28 10:52:42</td>\n",
       "      <td>2014-03-28 10:53:12</td>\n",
       "      <td>2014-03-28 10:53:42</td>\n",
       "      <td>2014-03-28 10:54:12</td>\n",
       "      <td>2014-03-28 10:54:42</td>\n",
       "      <td>2014-03-28 10:55:12</td>\n",
       "      <td>2014-03-28 10:55:42</td>\n",
       "      <td>2014-03-28 10:56:12</td>\n",
       "      <td>2014-03-28 10:56:42</td>\n",
       "    </tr>\n",
       "    <tr>\n",
       "      <th>5</th>\n",
       "      <td>2014-02-28 10:53:05</td>\n",
       "      <td>2014-02-28 10:55:22</td>\n",
       "      <td>2014-02-28 10:55:22</td>\n",
       "      <td>2014-02-28 10:55:23</td>\n",
       "      <td>2014-02-28 10:55:23</td>\n",
       "      <td>2014-02-28 10:55:59</td>\n",
       "      <td>2014-02-28 10:55:59</td>\n",
       "      <td>2014-02-28 10:55:59</td>\n",
       "      <td>2014-02-28 10:57:06</td>\n",
       "      <td>2014-02-28 10:57:11</td>\n",
       "    </tr>\n",
       "  </tbody>\n",
       "</table>\n",
       "</div>"
      ],
      "text/plain": [
       "                          time1                time2                time3  \\\n",
       "session_id                                                                  \n",
       "1           2014-02-20 10:02:45                  NaN                  NaN   \n",
       "2           2014-02-22 11:19:50  2014-02-22 11:19:50  2014-02-22 11:19:51   \n",
       "3           2013-12-16 16:40:17  2013-12-16 16:40:18  2013-12-16 16:40:19   \n",
       "4           2014-03-28 10:52:12  2014-03-28 10:52:42  2014-03-28 10:53:12   \n",
       "5           2014-02-28 10:53:05  2014-02-28 10:55:22  2014-02-28 10:55:22   \n",
       "\n",
       "                          time4                time5                time6  \\\n",
       "session_id                                                                  \n",
       "1                           NaN                  NaN                  NaN   \n",
       "2           2014-02-22 11:19:51  2014-02-22 11:19:51  2014-02-22 11:19:51   \n",
       "3           2013-12-16 16:40:19  2013-12-16 16:40:19  2013-12-16 16:40:19   \n",
       "4           2014-03-28 10:53:42  2014-03-28 10:54:12  2014-03-28 10:54:42   \n",
       "5           2014-02-28 10:55:23  2014-02-28 10:55:23  2014-02-28 10:55:59   \n",
       "\n",
       "                          time7                time8                time9  \\\n",
       "session_id                                                                  \n",
       "1                           NaN                  NaN                  NaN   \n",
       "2           2014-02-22 11:19:52  2014-02-22 11:19:52  2014-02-22 11:20:15   \n",
       "3           2013-12-16 16:40:20  2013-12-16 16:40:21  2013-12-16 16:40:22   \n",
       "4           2014-03-28 10:55:12  2014-03-28 10:55:42  2014-03-28 10:56:12   \n",
       "5           2014-02-28 10:55:59  2014-02-28 10:55:59  2014-02-28 10:57:06   \n",
       "\n",
       "                         time10  \n",
       "session_id                       \n",
       "1                           NaN  \n",
       "2           2014-02-22 11:20:16  \n",
       "3           2013-12-16 16:40:24  \n",
       "4           2014-03-28 10:56:42  \n",
       "5           2014-02-28 10:57:11  "
      ]
     },
     "execution_count": 12,
     "metadata": {},
     "output_type": "execute_result"
    }
   ],
   "source": [
    "train_df[['time' + str(i) for i in range(1, 11)]][:5]"
   ]
  },
  {
   "cell_type": "code",
   "execution_count": 13,
   "metadata": {},
   "outputs": [],
   "source": [
    "data_without_user_id = train_test_df_sites.iloc[:, 0:10]\n",
    "flatten = data_without_user_id.values.flatten()\n",
    "data_csr = [1] * len(flatten)\n",
    "indptr_csr = np.arange(0, len(flatten) + 1, 10)\n",
    "X_sparse = csr_matrix((data_csr, flatten, indptr_csr))[:, 1:]\n",
    "y_sparse = train_test_df['target']\n",
    "\n",
    "train_test_sparse = X_sparse#''' ВАШ КОД ЗДЕСЬ '''\n",
    "X_train_sparse = X_sparse[:253561]#''' ВАШ КОД ЗДЕСЬ '''\n",
    "X_test_sparse = X_sparse[253561:]#''' ВАШ КОД ЗДЕСЬ '''\n",
    "y = y_sparse[:253561]#''' ВАШ КОД ЗДЕСЬ '''"
   ]
  },
  {
   "cell_type": "code",
   "execution_count": 14,
   "metadata": {},
   "outputs": [
    {
     "data": {
      "text/plain": [
       "(336358, 48371)"
      ]
     },
     "execution_count": 14,
     "metadata": {},
     "output_type": "execute_result"
    }
   ],
   "source": [
    "X_sparse.shape"
   ]
  },
  {
   "cell_type": "code",
   "execution_count": 15,
   "metadata": {},
   "outputs": [
    {
     "data": {
      "text/plain": [
       "(336358, 10)"
      ]
     },
     "execution_count": 15,
     "metadata": {},
     "output_type": "execute_result"
    }
   ],
   "source": [
    "train_test_df_sites.shape"
   ]
  },
  {
   "cell_type": "code",
   "execution_count": 16,
   "metadata": {},
   "outputs": [
    {
     "data": {
      "text/plain": [
       "(82797, 48371)"
      ]
     },
     "execution_count": 16,
     "metadata": {},
     "output_type": "execute_result"
    }
   ],
   "source": [
    "X_test_sparse.shape"
   ]
  },
  {
   "cell_type": "code",
   "execution_count": 17,
   "metadata": {},
   "outputs": [
    {
     "data": {
      "text/plain": [
       "scipy.sparse.csr.csr_matrix"
      ]
     },
     "execution_count": 17,
     "metadata": {},
     "output_type": "execute_result"
    }
   ],
   "source": [
    "type(X_sparse)"
   ]
  },
  {
   "cell_type": "markdown",
   "metadata": {},
   "source": [
    "**<font color='red'>Вопрос 1. </font> Выведите размерности матриц *X_train_sparse* и *X_test_sparse* – 4 числа на одной строке через пробел: число строк и столбцов матрицы *X_train_sparse*, затем число строк и столбцов матрицы *X_test_sparse*.**"
   ]
  },
  {
   "cell_type": "code",
   "execution_count": 483,
   "metadata": {},
   "outputs": [
    {
     "data": {
      "text/plain": [
       "(253561, 48371, 82797, 48371)"
      ]
     },
     "execution_count": 483,
     "metadata": {},
     "output_type": "execute_result"
    }
   ],
   "source": [
    "X_train_sparse.shape[0], X_train_sparse.shape[1], X_test_sparse.shape[0], X_test_sparse.shape[1]"
   ]
  },
  {
   "cell_type": "markdown",
   "metadata": {},
   "source": [
    "**Сохраним в pickle-файлы объекты *X_train_sparse*, *X_test_sparse* и *y* (последний – в файл *kaggle_data/train_target.pkl*).**"
   ]
  },
  {
   "cell_type": "code",
   "execution_count": 19,
   "metadata": {},
   "outputs": [],
   "source": [
    "with open(os.path.join(PATH_TO_DATA, 'X_train_sparse.pkl'), 'wb') as X_train_sparse_pkl:\n",
    "    pickle.dump(X_train_sparse, X_train_sparse_pkl, protocol=2)\n",
    "with open(os.path.join(PATH_TO_DATA, 'X_test_sparse.pkl'), 'wb') as X_test_sparse_pkl:\n",
    "    pickle.dump(X_test_sparse, X_test_sparse_pkl, protocol=2)\n",
    "with open(os.path.join(PATH_TO_DATA, 'train_target.pkl'), 'wb') as train_target_pkl:\n",
    "    pickle.dump(y, train_target_pkl, protocol=2)"
   ]
  },
  {
   "cell_type": "markdown",
   "metadata": {},
   "source": [
    "**Разобьем обучающую выборку на 2 части в пропорции 7/3, причем не перемешивая. Исходные данные упорядочены по времени, тестовая выборка по времени четко отделена от обучающей, это же соблюдем и здесь.**"
   ]
  },
  {
   "cell_type": "code",
   "execution_count": 484,
   "metadata": {},
   "outputs": [],
   "source": [
    "train_share = int(.7 * X_train_sparse.shape[0])\n",
    "X_train, y_train = X_train_sparse[:train_share, :], y[:train_share]\n",
    "X_valid, y_valid  = X_train_sparse[train_share:, :], y[train_share:]"
   ]
  },
  {
   "cell_type": "code",
   "execution_count": 21,
   "metadata": {},
   "outputs": [
    {
     "data": {
      "text/plain": [
       "(177492, (177492, 48371), (76069, 48371))"
      ]
     },
     "execution_count": 21,
     "metadata": {},
     "output_type": "execute_result"
    }
   ],
   "source": [
    "train_share, X_train.shape, X_valid.shape"
   ]
  },
  {
   "cell_type": "markdown",
   "metadata": {
    "collapsed": true
   },
   "source": [
    "**Создайте объект `sklearn.linear_model.SGDClassifier` с логистической функцией потерь и параметром *random_state*=17. Остальные параметры оставьте по умолчанию, разве что *n_jobs*=-1 никогда не помешает. Обучите  модель на выборке `(X_train, y_train)`.**"
   ]
  },
  {
   "cell_type": "code",
   "execution_count": 485,
   "metadata": {},
   "outputs": [
    {
     "data": {
      "text/plain": [
       "SGDClassifier(alpha=0.0001, average=False, class_weight=None,\n",
       "       early_stopping=False, epsilon=0.1, eta0=0.0, fit_intercept=True,\n",
       "       l1_ratio=0.15, learning_rate='optimal', loss='log', max_iter=None,\n",
       "       n_iter=None, n_iter_no_change=5, n_jobs=-1, penalty='l2',\n",
       "       power_t=0.5, random_state=17, shuffle=True, tol=None,\n",
       "       validation_fraction=0.1, verbose=0, warm_start=False)"
      ]
     },
     "execution_count": 485,
     "metadata": {},
     "output_type": "execute_result"
    }
   ],
   "source": [
    "sgd_logit = SGDClassifier(loss = 'log', random_state=17,  n_jobs=-1)#''' ВАШ КОД ЗДЕСЬ '''\n",
    "sgd_logit.fit(X_train, y_train) #''' ВАШ КОД ЗДЕСЬ '''"
   ]
  },
  {
   "cell_type": "markdown",
   "metadata": {},
   "source": [
    "**Сделайте прогноз в виде предсказанных вероятностей того, что это сессия Элис, на отложенной выборке *(X_valid, y_valid)*.**"
   ]
  },
  {
   "cell_type": "code",
   "execution_count": 486,
   "metadata": {},
   "outputs": [],
   "source": [
    "logit_valid_pred_proba = sgd_logit.predict_proba(X_valid) #''' ВАШ КОД ЗДЕСЬ '''"
   ]
  },
  {
   "cell_type": "markdown",
   "metadata": {},
   "source": [
    "**<font color='red'>Вопрос 2. </font> Посчитайте ROC AUC логистической регрессии, обученной с помощью стохастического градиентного спуска, на отложенной выборке. Округлите до 3 знаков после разделителя.**"
   ]
  },
  {
   "cell_type": "code",
   "execution_count": 487,
   "metadata": {},
   "outputs": [
    {
     "name": "stdout",
     "output_type": "stream",
     "text": [
      "0.9338469992188017\n"
     ]
    }
   ],
   "source": [
    "ras = roc_auc_score(y_valid, logit_valid_pred_proba[:, 1])\n",
    "print(ras)\n",
    "#''' ВАШ КОД ЗДЕСЬ '''"
   ]
  },
  {
   "cell_type": "markdown",
   "metadata": {},
   "source": [
    "**<font color='red'>Вопрос 3-4 </font> Бенчмарки (оба) побиты. Тк соревнований два, то уточню, что искать надо в этом https://www.kaggle.com/c/catch-me-if-you-can-intruder-detection-through-webpage-session-tracking2/leaderboard мой ник Natalie, пока что это место 1335 с точностью 0.93008. Список мучений с подбором параметров описан в конце этого ноутбука.**"
   ]
  },
  {
   "cell_type": "markdown",
   "metadata": {},
   "source": [
    "**Сделайте прогноз в виде предсказанных вероятностей отнесения к классу 1 для тестовой выборки с помощью той же *sgd_logit*, обученной уже на всей обучающей выборке (а не на 70%).**"
   ]
  },
  {
   "cell_type": "code",
   "execution_count": 25,
   "metadata": {},
   "outputs": [
    {
     "name": "stdout",
     "output_type": "stream",
     "text": [
      "Wall time: 620 ms\n"
     ]
    }
   ],
   "source": [
    "%%time\n",
    "sgd_logit.fit(X_train_sparse, y)#''' ВАШ КОД ЗДЕСЬ '''\n",
    "logit_test_pred_proba = sgd_logit.predict_proba(X_test_sparse)[:, 1]#''' ВАШ КОД ЗДЕСЬ '''"
   ]
  },
  {
   "cell_type": "markdown",
   "metadata": {},
   "source": [
    "**Запишите ответы в файл и сделайте посылку на Kaggle. Дайте своей команде (из одного человека) на Kaggle говорящее название – по шаблону \"[YDF & MIPT] Coursera_Username\", чтоб можно было легко идентифицировать Вашу посылку на [лидерборде](https://inclass.kaggle.com/c/catch-me-if-you-can-intruder-detection-through-webpage-session-tracking2/leaderboard/public).**\n",
    "\n",
    "**Результат, который мы только что получили, соответствует бейзлайну \"SGDCLassifer\" на лидерборде, задача на эту неделю – как минимум его побить.**"
   ]
  },
  {
   "cell_type": "code",
   "execution_count": 26,
   "metadata": {},
   "outputs": [],
   "source": [
    "def write_to_submission_file(predicted_labels, out_file,\n",
    "                             target='target', index_label=\"session_id\"):\n",
    "    # turn predictions into data frame and save as csv file\n",
    "    predicted_df = pd.DataFrame(predicted_labels,\n",
    "                                index = np.arange(1, len(predicted_labels) + 1),\n",
    "                                columns=[target])\n",
    "    predicted_df.to_csv(out_file, index_label=index_label)"
   ]
  },
  {
   "cell_type": "code",
   "execution_count": 27,
   "metadata": {},
   "outputs": [],
   "source": [
    "write_to_submission_file(logit_test_pred_proba, 'kaggle_comp.csv')"
   ]
  },
  {
   "cell_type": "markdown",
   "metadata": {},
   "source": [
    "### эксперимент с подбором параметров классификатора"
   ]
  },
  {
   "cell_type": "code",
   "execution_count": 28,
   "metadata": {},
   "outputs": [
    {
     "name": "stdout",
     "output_type": "stream",
     "text": [
      "0.9403227713702091\n",
      "{'tol': 1e-05}\n"
     ]
    }
   ],
   "source": [
    "test_sgd_logit = SGDClassifier(loss = 'log', random_state=17,  n_jobs=-1)\n",
    "params = { 'tol': [0.000001, 0.00001]}\n",
    "skf = StratifiedKFold(n_splits=3, shuffle=True, random_state=17)\n",
    "grid_searcher = GridSearchCV(test_sgd_logit, params, cv = skf)\n",
    "grid_searcher.fit(X_train, y_train)\n",
    "pred_proba = grid_searcher.best_estimator_.predict_proba(X_valid)\n",
    "ras = roc_auc_score(y_valid, pred_proba[:, 1])\n",
    "print(ras)\n",
    "print(grid_searcher.best_params_)"
   ]
  },
  {
   "cell_type": "code",
   "execution_count": 29,
   "metadata": {},
   "outputs": [
    {
     "data": {
      "text/plain": [
       "((177492, 48371), (76069, 48371))"
      ]
     },
     "execution_count": 29,
     "metadata": {},
     "output_type": "execute_result"
    }
   ],
   "source": [
    "X_train.shape, X_valid.shape"
   ]
  },
  {
   "cell_type": "code",
   "execution_count": 30,
   "metadata": {},
   "outputs": [],
   "source": [
    "grid_searcher.best_estimator_.fit(X_train_sparse, y)#''' ВАШ КОД ЗДЕСЬ '''\n",
    "kaggle_pred_proba = grid_searcher.best_estimator_.predict_proba(X_test_sparse)[:, 1]\n",
    "write_to_submission_file(kaggle_pred_proba, 'kaggle_comp_try1_alpha.csv')"
   ]
  },
  {
   "cell_type": "code",
   "execution_count": 414,
   "metadata": {},
   "outputs": [],
   "source": [
    "#train_df[train_df['target'] == 1].shape, train_df[train_df['target'] == 0].shape\n",
    "train_df_Alice = train_df[train_df['target'] == 1]\n",
    "train_df_not_Alice = train_df[train_df['target'] == 0]\n",
    "to_add_count = len(train_df_not_Alice) - len(train_df_Alice)\n",
    "#balanced_df = train_df\n",
    "balanced_ar = [] \n",
    "balanced_ar.append(list(train_df.values.flatten()))\n",
    "balanced_ar = balanced_ar[0]\n",
    "\n",
    "np.random.seed(10)\n",
    "for i in range(0, to_add_count):\n",
    "    random_index = np.random.choice(train_df_Alice.index, 1)\n",
    "    row_to_add = train_df_Alice.loc[random_index[0]]\n",
    "    #balanced_ar = np.hstack((balanced_ar, row_to_add))\n",
    "    for val in row_to_add:\n",
    "        balanced_ar.append(val)\n",
    "cols = train_df.columns\n",
    "balanced_ar = np.array(balanced_ar).reshape(train_df.shape[0] + to_add_count, train_df.shape[1])\n",
    "#balanced_data = pd.DataFrame(columns = cols)\n",
    "balanced_data = pd.DataFrame(data = balanced_ar, columns = cols)\n",
    "#balanced_data = balanced_data.set_index('session_id')\n"
   ]
  },
  {
   "cell_type": "code",
   "execution_count": 212,
   "metadata": {},
   "outputs": [],
   "source": [
    "balanced_data.to_csv('balanced_data.csv', index = False)\n",
    "#balanced_data = pd.read_csv()"
   ]
  },
  {
   "cell_type": "code",
   "execution_count": 429,
   "metadata": {},
   "outputs": [],
   "source": [
    "balanced_data['time1'] = pd.to_datetime(balanced_data['time1'])\n",
    "balanced_data = balanced_data.sort_values(by = 'time1')"
   ]
  },
  {
   "cell_type": "code",
   "execution_count": 430,
   "metadata": {},
   "outputs": [],
   "source": [
    "balanced_target = balanced_data.iloc[:, -1]\n",
    "balanced_train_test_df = pd.concat([balanced_data.iloc[:, :-1], test_df])\n",
    "balanced_train_test_df = balanced_train_test_df.replace('nan', 0)\n",
    "balanced_train_test_df_balanced_sites = balanced_train_test_df[['site%d' % i for i in range(1, 11)]].fillna(0).astype('float').astype('int')"
   ]
  },
  {
   "cell_type": "code",
   "execution_count": 431,
   "metadata": {},
   "outputs": [
    {
     "data": {
      "text/html": [
       "<div>\n",
       "<style scoped>\n",
       "    .dataframe tbody tr th:only-of-type {\n",
       "        vertical-align: middle;\n",
       "    }\n",
       "\n",
       "    .dataframe tbody tr th {\n",
       "        vertical-align: top;\n",
       "    }\n",
       "\n",
       "    .dataframe thead th {\n",
       "        text-align: right;\n",
       "    }\n",
       "</style>\n",
       "<table border=\"1\" class=\"dataframe\">\n",
       "  <thead>\n",
       "    <tr style=\"text-align: right;\">\n",
       "      <th></th>\n",
       "      <th>site1</th>\n",
       "      <th>site2</th>\n",
       "      <th>site3</th>\n",
       "      <th>site4</th>\n",
       "      <th>site5</th>\n",
       "      <th>site6</th>\n",
       "      <th>site7</th>\n",
       "      <th>site8</th>\n",
       "      <th>site9</th>\n",
       "      <th>site10</th>\n",
       "    </tr>\n",
       "  </thead>\n",
       "  <tbody>\n",
       "    <tr>\n",
       "      <th>21668</th>\n",
       "      <td>56</td>\n",
       "      <td>55</td>\n",
       "      <td>0</td>\n",
       "      <td>0</td>\n",
       "      <td>0</td>\n",
       "      <td>0</td>\n",
       "      <td>0</td>\n",
       "      <td>0</td>\n",
       "      <td>0</td>\n",
       "      <td>0</td>\n",
       "    </tr>\n",
       "    <tr>\n",
       "      <th>54842</th>\n",
       "      <td>56</td>\n",
       "      <td>55</td>\n",
       "      <td>56</td>\n",
       "      <td>55</td>\n",
       "      <td>0</td>\n",
       "      <td>0</td>\n",
       "      <td>0</td>\n",
       "      <td>0</td>\n",
       "      <td>0</td>\n",
       "      <td>0</td>\n",
       "    </tr>\n",
       "    <tr>\n",
       "      <th>77291</th>\n",
       "      <td>946</td>\n",
       "      <td>946</td>\n",
       "      <td>951</td>\n",
       "      <td>946</td>\n",
       "      <td>946</td>\n",
       "      <td>945</td>\n",
       "      <td>948</td>\n",
       "      <td>784</td>\n",
       "      <td>949</td>\n",
       "      <td>946</td>\n",
       "    </tr>\n",
       "    <tr>\n",
       "      <th>114020</th>\n",
       "      <td>945</td>\n",
       "      <td>948</td>\n",
       "      <td>949</td>\n",
       "      <td>948</td>\n",
       "      <td>945</td>\n",
       "      <td>946</td>\n",
       "      <td>947</td>\n",
       "      <td>945</td>\n",
       "      <td>946</td>\n",
       "      <td>946</td>\n",
       "    </tr>\n",
       "    <tr>\n",
       "      <th>146669</th>\n",
       "      <td>947</td>\n",
       "      <td>950</td>\n",
       "      <td>948</td>\n",
       "      <td>947</td>\n",
       "      <td>950</td>\n",
       "      <td>952</td>\n",
       "      <td>946</td>\n",
       "      <td>951</td>\n",
       "      <td>946</td>\n",
       "      <td>947</td>\n",
       "    </tr>\n",
       "    <tr>\n",
       "      <th>242170</th>\n",
       "      <td>952</td>\n",
       "      <td>947</td>\n",
       "      <td>953</td>\n",
       "      <td>946</td>\n",
       "      <td>947</td>\n",
       "      <td>946</td>\n",
       "      <td>953</td>\n",
       "      <td>955</td>\n",
       "      <td>946</td>\n",
       "      <td>947</td>\n",
       "    </tr>\n",
       "    <tr>\n",
       "      <th>57156</th>\n",
       "      <td>953</td>\n",
       "      <td>947</td>\n",
       "      <td>946</td>\n",
       "      <td>953</td>\n",
       "      <td>955</td>\n",
       "      <td>947</td>\n",
       "      <td>953</td>\n",
       "      <td>946</td>\n",
       "      <td>953</td>\n",
       "      <td>1033</td>\n",
       "    </tr>\n",
       "    <tr>\n",
       "      <th>240200</th>\n",
       "      <td>946</td>\n",
       "      <td>947</td>\n",
       "      <td>954</td>\n",
       "      <td>953</td>\n",
       "      <td>946</td>\n",
       "      <td>954</td>\n",
       "      <td>946</td>\n",
       "      <td>956</td>\n",
       "      <td>957</td>\n",
       "      <td>956</td>\n",
       "    </tr>\n",
       "    <tr>\n",
       "      <th>210685</th>\n",
       "      <td>946</td>\n",
       "      <td>956</td>\n",
       "      <td>946</td>\n",
       "      <td>946</td>\n",
       "      <td>955</td>\n",
       "      <td>954</td>\n",
       "      <td>946</td>\n",
       "      <td>946</td>\n",
       "      <td>946</td>\n",
       "      <td>948</td>\n",
       "    </tr>\n",
       "    <tr>\n",
       "      <th>98803</th>\n",
       "      <td>948</td>\n",
       "      <td>946</td>\n",
       "      <td>948</td>\n",
       "      <td>784</td>\n",
       "      <td>49</td>\n",
       "      <td>53</td>\n",
       "      <td>812</td>\n",
       "      <td>982</td>\n",
       "      <td>52</td>\n",
       "      <td>52</td>\n",
       "    </tr>\n",
       "  </tbody>\n",
       "</table>\n",
       "</div>"
      ],
      "text/plain": [
       "        site1  site2  site3  site4  site5  site6  site7  site8  site9  site10\n",
       "21668      56     55      0      0      0      0      0      0      0       0\n",
       "54842      56     55     56     55      0      0      0      0      0       0\n",
       "77291     946    946    951    946    946    945    948    784    949     946\n",
       "114020    945    948    949    948    945    946    947    945    946     946\n",
       "146669    947    950    948    947    950    952    946    951    946     947\n",
       "242170    952    947    953    946    947    946    953    955    946     947\n",
       "57156     953    947    946    953    955    947    953    946    953    1033\n",
       "240200    946    947    954    953    946    954    946    956    957     956\n",
       "210685    946    956    946    946    955    954    946    946    946     948\n",
       "98803     948    946    948    784     49     53    812    982     52      52"
      ]
     },
     "execution_count": 431,
     "metadata": {},
     "output_type": "execute_result"
    }
   ],
   "source": [
    "balanced_train_test_df_balanced_sites[:10]"
   ]
  },
  {
   "cell_type": "markdown",
   "metadata": {},
   "source": [
    "### Вводим новые признаки"
   ]
  },
  {
   "cell_type": "code",
   "execution_count": 637,
   "metadata": {},
   "outputs": [],
   "source": [
    "train_test_df_to_sparse = train_test_df_sites#balanced_train_test_df_balanced_sites\n",
    "times = train_df[['time' + str(i) for i in range(1, 11)]]#balanced_data[['time' + str(i) for i in range(1, 11)]]\n",
    "times_test = test_df[['time' + str(i) for i in range(1, 11)]]\n",
    "times = times.fillna(0)\n",
    "times_test = times_test.fillna(0)\n",
    "times = times.replace('nan', 0)\n",
    "for col in times.columns:\n",
    "    times[col] = times[col].astype('datetime64[ns]')\n",
    "    times_test[col] = times_test[col].astype('datetime64[ns]')\n",
    "train_test_times = pd.concat([times, times_test])\n",
    "train_test_df_to_sparse = pd.concat([train_test_df_to_sparse.reset_index(drop=True), train_test_times.reset_index(drop=True)], axis = 1)\n",
    "#train_test_df_to_sprse[10: len(times)] = times"
   ]
  },
  {
   "cell_type": "code",
   "execution_count": 638,
   "metadata": {},
   "outputs": [
    {
     "data": {
      "text/plain": [
       "(336358, 20)"
      ]
     },
     "execution_count": 638,
     "metadata": {},
     "output_type": "execute_result"
    }
   ],
   "source": [
    "train_test_df_to_sparse.shape"
   ]
  },
  {
   "cell_type": "code",
   "execution_count": 639,
   "metadata": {},
   "outputs": [],
   "source": [
    "s = X_sparse.sum(axis = 0)\n",
    "s_arg = s.argsort(axis = 1)\n",
    "top_10_sites_codes = s_arg[:, -10:]\n",
    "top_10_freqs = s[0, s_arg[:, -10:]]\n",
    "#print(s)\n",
    "#print(s_arg)\n",
    "#print(top_10_sites_codes)\n",
    "#print(top_10_freqs)\n",
    "#print(s_arg.max())\n",
    "#sites_names = [d_k for i in top_10_sites_codes.tolist()[0] for d_k, d_v in train_data_10users[1].items() if d_v[0] == i + 1]\n",
    "#print(sites_names)"
   ]
  },
  {
   "cell_type": "code",
   "execution_count": 651,
   "metadata": {},
   "outputs": [],
   "source": [
    "def feature_engineering(sparse_matrix, features, top_sites_codes, session_length = 10):\n",
    "    gen_data_ar = []  \n",
    "    cols = ['session_id']\n",
    "    for c in features:\n",
    "        cols.append(c)\n",
    "    gen_data = pd.DataFrame(columns = cols)\n",
    "    \n",
    "    for row in sparse_matrix.itertuples():      \n",
    "        chunck_ar = np.zeros(len(features) + 1 , dtype = float)\n",
    "        #return row\n",
    "        chunck_ar[0] = row.Index\n",
    "        sessioin_sites_ids = row[1:session_length + 1]\n",
    "        chunck_ar[1:len(sessioin_sites_ids)+1] = sessioin_sites_ids\n",
    "        timestamps = row[11:]                \n",
    "        #time_diff = [30 * 60 if abs((timestamps[i + 1] - timestamps[i]).total_seconds()) > 30 * 60 else (timestamps[i + 1] - timestamps[i]).total_seconds() for i, t in enumerate(timestamps) if i != len(timestamps) - 1]\n",
    "        # время, проведенное на каждом сайте\n",
    "        #chunck_ar[session_length + 1 : session_length + 1 + len(time_diff)] = time_diff                \n",
    "        # время сессии\n",
    "        #chunck_ar[session_length + 1] = 30 * 60 if abs((max(timestamps) - min(timestamps)).total_seconds()) > 30 * 60 else abs(max(timestamps) - min(timestamps)).total_seconds()#'''session_length'''\n",
    "        # количество уникальных сайтов\n",
    "        #chunck_ar[session_length + 1] = len(list(set(sessioin_sites_ids)))#'''1 + session_length'''\n",
    "        chunck_ar[1 + session_length] = pd.to_datetime(timestamps[0]).hour#'''2 + session_length'''        \n",
    "        chunck_ar[2 + session_length] = pd.to_datetime(timestamps[0]).dayofweek#'''3 + session_length'''\n",
    "        chunck_ar[3 + session_length] = pd.to_datetime(timestamps[0]).dayofweek#'''2 + session_length'''\n",
    "        #частота посещения топ-10 сайтов за сессию\n",
    "        #chunck_ar[session_length + 3] = len([i for i in sessioin_sites_ids if i in top_sites_codes]) / session_length\n",
    "        #время, проведенное на каком-то топовом сайте\n",
    "        top_time = [30 * 60 if abs((timestamps[i + 1] - timestamps[i]).total_seconds()) > 30 * 60 else (timestamps[i + 1] - timestamps[i]).total_seconds() for i, t in enumerate(timestamps) if i != len(timestamps) - 1 and sessioin_sites_ids[i] in top_sites_codes]\n",
    "        #среднее время, проведенное на топ-10 сайтов\n",
    "        #time_diff_top = 0\n",
    "        #if (len(top_time) != 0):\n",
    "            #time_diff_top = sum(top_time) / len(top_time)             \n",
    "        #chunck_ar[session_length + 3] = time_diff_top #session_length + 5 + session_length             \n",
    "        # признак посещения каждого из топовых сайтов\n",
    "        #chunck_ar[session_length + 4 : session_length + 4 + 11] = [1 if i in sessioin_sites_ids else 0 for i in features[-10:]] #session_length + 6 + session_length : session_length + 6 + session_length + 10       \n",
    "        gen_data_ar.append(chunck_ar)#np.append(gen_data_ar, chunck_ar)\n",
    "    gen_data_ar = np.array(gen_data_ar).reshape(sparse_matrix.shape[0], len(features) + 1)\n",
    "    gen_data = pd.DataFrame(data = gen_data_ar, columns = cols)\n",
    "    gen_data = gen_data.set_index('session_id')\n",
    "    return gen_data"
   ]
  },
  {
   "cell_type": "code",
   "execution_count": 652,
   "metadata": {},
   "outputs": [],
   "source": [
    "a = list(map(lambda i: i, top_10_sites_codes))[0].A[0]\n",
    "b = [str(i) for i in a]\n",
    "#['time_diff' + str(j) for j in range(1,10)] + \\\n",
    "feature_names_new = ['site' + str(i) for i in range(1,11)] + ['start_hour', 'day_of_week', 'day_scaled'] #+ b\n",
    "                #['session_timespan', '#unique_sites', 'start_hour', \n",
    "                 #'day_of_week']#, 'top_10_freq', 'top_10_time'] + \\\n",
    "        #b\n",
    "data = feature_engineering(train_test_df_to_sparse, feature_names_new, top_10_sites_codes)\n",
    "#data_dummies = pd.get_dummies(data, columns=['day_of_week'])"
   ]
  },
  {
   "cell_type": "code",
   "execution_count": 662,
   "metadata": {},
   "outputs": [],
   "source": [
    "data_dummies = pd.get_dummies(data, columns=['day_of_week'])"
   ]
  },
  {
   "cell_type": "code",
   "execution_count": 663,
   "metadata": {},
   "outputs": [],
   "source": [
    "#data_dummies['day_scaled'] = StandardScaler().fit_transform(data_dummies['day_scaled'].values.reshape(-1, 1))"
   ]
  },
  {
   "cell_type": "code",
   "execution_count": 664,
   "metadata": {},
   "outputs": [],
   "source": [
    "#data_dummies = data_dummies.drop(['day_of_week_0.0', 'day_of_week_1.0', 'day_of_week_2.0', 'day_of_week_3.0', 'day_of_week_4.0', 'day_of_week_5.0', ], axis = 1)"
   ]
  },
  {
   "cell_type": "code",
   "execution_count": 665,
   "metadata": {},
   "outputs": [
    {
     "data": {
      "text/plain": [
       "Index([u'site1', u'site2', u'site3', u'site4', u'site5', u'site6', u'site7',\n",
       "       u'site8', u'site9', u'site10', u'start_hour', u'day_scaled',\n",
       "       u'day_of_week_0.0', u'day_of_week_1.0', u'day_of_week_2.0',\n",
       "       u'day_of_week_3.0', u'day_of_week_4.0', u'day_of_week_5.0',\n",
       "       u'day_of_week_6.0'],\n",
       "      dtype='object')"
      ]
     },
     "execution_count": 665,
     "metadata": {},
     "output_type": "execute_result"
    }
   ],
   "source": [
    "data_dummies.columns"
   ]
  },
  {
   "cell_type": "code",
   "execution_count": 666,
   "metadata": {},
   "outputs": [],
   "source": [
    "data_without_user_id = data_dummies.iloc[:, 0:10]\n",
    "flatten = data_without_user_id.values.flatten()\n",
    "data_csr = [1] * len(flatten)\n",
    "indptr_csr = np.arange(0, len(flatten) + 1, 10)\n",
    "X_sparse_fe = csr_matrix((data_csr, flatten, indptr_csr))[:, 1:]\n",
    "y_sparse_fe = train_test_df['target']#balanced_target\n",
    "\n",
    "#train_test_sparse_fe = X_sparse_fe#''' ВАШ КОД ЗДЕСЬ '''\n",
    "X_sparse_fe = hstack((X_sparse_fe, data_dummies.iloc[:, 10:])).tocsr()\n",
    "X_train_sparse_fe = X_sparse_fe[:-82797]#''' ВАШ КОД ЗДЕСЬ '''\n",
    "X_test_sparse_fe = X_sparse_fe[-82797:]#''' ВАШ КОД ЗДЕСЬ '''\n",
    "y_fe = y_sparse_fe[:-82797]#y_sparse_fe"
   ]
  },
  {
   "cell_type": "code",
   "execution_count": 667,
   "metadata": {},
   "outputs": [
    {
     "data": {
      "text/plain": [
       "((253561L,), (253561, 48380))"
      ]
     },
     "execution_count": 667,
     "metadata": {},
     "output_type": "execute_result"
    }
   ],
   "source": [
    "y_fe.shape, X_train_sparse_fe.shape"
   ]
  },
  {
   "cell_type": "code",
   "execution_count": 668,
   "metadata": {},
   "outputs": [
    {
     "data": {
      "text/plain": [
       "((336358, 13), (336358, 10), (336358, 10), (336358L, 48380L), (336358, 48371))"
      ]
     },
     "execution_count": 668,
     "metadata": {},
     "output_type": "execute_result"
    }
   ],
   "source": [
    "data.shape, data_without_user_id.shape, train_test_df_sites.shape, X_sparse_fe.shape, X_sparse.shape"
   ]
  },
  {
   "cell_type": "code",
   "execution_count": 669,
   "metadata": {},
   "outputs": [],
   "source": [
    "#data_train_sparse = data.iloc[:253561]\n",
    "#data_test_sparse = data.iloc[253561:]\n",
    "#data_y = y_sparse[:253561]\n",
    "\n",
    "train_share_fe = int(.7 * X_train_sparse_fe.shape[0])\n",
    "X_train_fe, y_train_fe = X_train_sparse_fe[:train_share_fe, :], y_fe[:train_share_fe]\n",
    "X_valid_fe, y_valid_fe  = X_train_sparse_fe[train_share_fe:, :], y_fe[train_share_fe:]"
   ]
  },
  {
   "cell_type": "code",
   "execution_count": 488,
   "metadata": {},
   "outputs": [
    {
     "name": "stdout",
     "output_type": "stream",
     "text": [
      "0.9338469992188017\n",
      "{}\n"
     ]
    }
   ],
   "source": [
    "\n",
    "\n",
    "data_without_user_id = train_test_df_sites.iloc[:, 0:10]\n",
    "flatten = data_without_user_id.values.flatten()\n",
    "data_csr = [1] * len(flatten)\n",
    "indptr_csr = np.arange(0, len(flatten) + 1, 10)\n",
    "X_sparse = csr_matrix((data_csr, flatten, indptr_csr))[:, 1:]\n",
    "y_sparse = train_test_df['target']\n",
    "\n",
    "train_test_sparse = X_sparse#''' ВАШ КОД ЗДЕСЬ '''\n",
    "X_train_sparse = X_sparse[:253561]#''' ВАШ КОД ЗДЕСЬ '''\n",
    "X_test_sparse = X_sparse[253561:]#''' ВАШ КОД ЗДЕСЬ '''\n",
    "y = y_sparse[:253561]#''' ВАШ КОД ЗДЕСЬ '''\n",
    "\n",
    "train_share = int(.7 * X_train_sparse.shape[0])\n",
    "X_train, y_train = X_train_sparse[:train_share, :], y[:train_share]\n",
    "X_valid, y_valid  = X_train_sparse[train_share:, :], y[train_share:]\n",
    "\n",
    "test_sgd_logit = SGDClassifier(loss = 'log', random_state=17,  n_jobs=-1)\n",
    "params = { }\n",
    "skf = StratifiedKFold(n_splits=3, shuffle=True, random_state=17)\n",
    "grid_searcher = GridSearchCV(test_sgd_logit, params, cv = skf)\n",
    "grid_searcher.fit(X_train, y_train)\n",
    "pred_proba = grid_searcher.best_estimator_.predict_proba(X_valid)\n",
    "ras = roc_auc_score(y_valid, pred_proba[:, 1])\n",
    "print(ras)\n",
    "print(grid_searcher.best_params_)"
   ]
  },
  {
   "cell_type": "code",
   "execution_count": 479,
   "metadata": {},
   "outputs": [
    {
     "data": {
      "text/plain": [
       "(177492, 48371)"
      ]
     },
     "execution_count": 479,
     "metadata": {},
     "output_type": "execute_result"
    }
   ],
   "source": [
    "X_train.shape"
   ]
  },
  {
   "cell_type": "code",
   "execution_count": 670,
   "metadata": {},
   "outputs": [
    {
     "name": "stdout",
     "output_type": "stream",
     "text": [
      "0.9561715250071299\n",
      "{}\n"
     ]
    }
   ],
   "source": [
    "test_sgd_logit = SGDClassifier(loss = 'log', random_state=17,  n_jobs=-1)\n",
    "params = { }\n",
    "skf = StratifiedKFold(n_splits=3, shuffle=True, random_state=17)\n",
    "grid_searcher = GridSearchCV(test_sgd_logit, params, cv = skf)\n",
    "grid_searcher.fit(X_train_fe, y_train_fe)\n",
    "pred_proba = grid_searcher.best_estimator_.predict_proba(X_valid_fe)\n",
    "ras = roc_auc_score(y_valid_fe, pred_proba[:, 1])\n",
    "print(ras)\n",
    "print(grid_searcher.best_params_)"
   ]
  },
  {
   "cell_type": "markdown",
   "metadata": {},
   "source": [
    "сбалансированные классы: <br>\n",
    " только сайты: 8788 <br>\n",
    " сайты + время сессии: 8065 <br>\n",
    " сайты + количество уникальных сайтов: 8784 <br>\n",
    " сайты + час начала сессии: 9226 <br>\n",
    " сайты + час начала сессии + день начала сессии (dummies) : 9319 <br>\n",
    " сайты + час начала сессии + день начала сессии (dummies) + частота посещения топ-10 сайтов : 9318 <br>\n",
    " сайты + час начала сессии + день начала сессии (dummies) + время, проведенное на каждом сайте : 7733<br>\n",
    " сайты + час начала сессии + день начала сессии (dummies) + признак посещений каждого из топовых сайтов: 9319<br>\n",
    "сайты + час начала сессии + день начала сессии (dummies) + ср.время, проведенное на топ-10 сайтов: 892 <br>\n",
    "сайты + час начала сессии (масштабированный) + день начала сессии (dummies) : 9303 <br>\n",
    "сайты + час начала сессии (масштабированный) + день начала сессии (dummies) только среда: 9343 <br>\n",
    "сайты + час начала сессии + день начала сессии (dummies) только среда: 9361 (ухудшение в kaggle) <br>\n",
    "сайты + час начала сессии + день начала сессии (dummies) только среда и воскресенье: 9372 (ухудшение в kaggle)<br>\n",
    "сайты + час начала сессии (масштабированный) + день начала сессии (dummies) только среда и воскресенье: 9353 (ухудшение в kaggle)<br>\n",
    "сайты + час начала сессии (не и масштабированный) + день начала сессии (dummies) пн, вт, вс + месяца (кр. 2, 3, 4, 11, 12): 9323\n",
    "\n",
    "несбалансированные классы:<br>\n",
    "сайты + час начала сессии + день начала сессии (dummies) + день начала сессии : 0.9561 (это сработало и помогло побить указанные бенчмарки)"
   ]
  },
  {
   "cell_type": "code",
   "execution_count": 585,
   "metadata": {},
   "outputs": [
    {
     "data": {
      "text/plain": [
       "(15L, 48374L)"
      ]
     },
     "execution_count": 585,
     "metadata": {},
     "output_type": "execute_result"
    }
   ],
   "source": [
    "X_train_sparse_fe[:15].todense().shape"
   ]
  },
  {
   "cell_type": "code",
   "execution_count": 671,
   "metadata": {},
   "outputs": [],
   "source": [
    "sgd_logit.fit(X_train_sparse_fe, y_fe)#''' ВАШ КОД ЗДЕСЬ '''\n",
    "pred_proba_fe = sgd_logit.predict_proba(X_test_sparse_fe)[:, 1]#''' ВАШ КОД ЗДЕСЬ '''\n",
    "write_to_submission_file(pred_proba_fe, 'kaggle_comp_new_fe.csv')"
   ]
  },
  {
   "cell_type": "markdown",
   "metadata": {},
   "source": [
    "## Критерии оценки работы (только для Peer Review в специализации):\n",
    "- Правильные ли получились размерности матриц в п. 1? (max. 2 балла)\n",
    "- Правильным ли получилось значения ROC AUC в п. 2? (max. 4 балла)\n",
    "- Побит ли бенчмарк \"sgd_logit_benchmark.csv\" на публичной части рейтинга в соревновании Kaggle? (max. 2 балла)\n",
    "- Побит ли бенчмарк \"Logit +3 features\" на публичной части рейтинга в соревновании Kaggle? (max. 2 балла)"
   ]
  },
  {
   "cell_type": "code",
   "execution_count": 189,
   "metadata": {},
   "outputs": [
    {
     "data": {
      "text/plain": [
       "(76068,)"
      ]
     },
     "execution_count": 189,
     "metadata": {},
     "output_type": "execute_result"
    }
   ],
   "source": [
    "y_valid.shape"
   ]
  },
  {
   "cell_type": "code",
   "execution_count": 190,
   "metadata": {},
   "outputs": [
    {
     "data": {
      "text/plain": [
       "(76069,)"
      ]
     },
     "execution_count": 190,
     "metadata": {},
     "output_type": "execute_result"
    }
   ],
   "source": [
    "pred_proba[:, 1].shape"
   ]
  },
  {
   "cell_type": "markdown",
   "metadata": {
    "collapsed": true
   },
   "source": [
    "## Пути улучшения\n",
    "На этой неделе дается много времени на соревнование. Не забывайте вносить хорошие идеи, к которым Вы пришли по ходу соревнования, в описание финального проекта (`html`, `pdf` или `ipynb`). Это только в случае, если вы проходите специализацию.\n",
    "Что можно попробовать:\n",
    " - Использовать ранее построенные признаки для улучшения модели (проверить их можно на меньшей выборке по 150 пользователям, отделив одного из пользователей от остальных – это быстрее)\n",
    " - Настроить параметры моделей (например, коэффициенты регуляризации)\n",
    " - Если позволяют мощности (или хватает терпения), можно попробовать смешивание (блендинг) ответов бустинга и линейной модели. [Вот](http://mlwave.com/kaggle-ensembling-guide/) один из самых известных тьюториалов по смешиванию ответов алгоритмов, также хороша [статья](https://alexanderdyakonov.wordpress.com/2017/03/10/cтекинг-stacking-и-блендинг-blending) Александра Дьяконова\n",
    " - Обратите внимание, что в соревновании также даны исходные данные о посещенных веб-страницах Элис и остальными 1557 пользователями (*train.zip*). По этим данным можно сформировать свою обучающую выборку. \n",
    "\n",
    "На 6 неделе мы пройдем большой тьюториал по Vowpal Wabbit и попробуем его в деле, на данных соревнования."
   ]
  }
 ],
 "metadata": {
  "kernelspec": {
   "display_name": "Python 2",
   "language": "python",
   "name": "python2"
  },
  "language_info": {
   "codemirror_mode": {
    "name": "ipython",
    "version": 2
   },
   "file_extension": ".py",
   "mimetype": "text/x-python",
   "name": "python",
   "nbconvert_exporter": "python",
   "pygments_lexer": "ipython2",
   "version": "2.7.15"
  }
 },
 "nbformat": 4,
 "nbformat_minor": 1
}
