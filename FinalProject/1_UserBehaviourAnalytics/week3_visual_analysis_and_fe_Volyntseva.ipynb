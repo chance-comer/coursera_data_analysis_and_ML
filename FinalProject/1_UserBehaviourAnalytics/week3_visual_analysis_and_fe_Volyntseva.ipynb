{
 "cells": [
  {
   "cell_type": "markdown",
   "metadata": {},
   "source": [
    "<center>\n",
    "<img src=\"https://habrastorage.org/web/677/8e1/337/6778e1337c3d4b159d7e99df94227cb2.jpg\"/>\n",
    "## Специализация \"Машинное обучение и анализ данных\"\n",
    "<center>Автор материала: программист-исследователь Mail.Ru Group, старший преподаватель Факультета Компьютерных Наук ВШЭ [Юрий Кашницкий](https://yorko.github.io/)"
   ]
  },
  {
   "cell_type": "markdown",
   "metadata": {},
   "source": [
    "# <center>  Capstone проект №1 <br> Идентификация пользователей по посещенным веб-страницам\n",
    "<img src='http://i.istockimg.com/file_thumbview_approve/21546327/5/stock-illustration-21546327-identification-de-l-utilisateur.jpg'>\n",
    "\n",
    "# <center>Неделя 3. Визуальный анализ данных и построение признаков\n",
    "\n",
    "На 3 неделе мы займемся визуальным анализом данных и построением признаков. Сначала мы вместе построим и проанализируем несколько признаков, потом Вы сможете сами придумать и описать различные признаки. \n",
    "\n",
    "**План 3 недели:**\n",
    " - Часть 1. Построение признаков\n",
    " - Часть 2. Визуальный анализ данных\n",
    " - Часть 3. Дальнейшее построение признаков\n",
    " - Часть 4. Проверка построенных признаков\n",
    "\n",
    "**В этой части проекта Вам могут быть полезны видеозаписи следующих лекций курса \"Поиск структуры в данных\":**\n",
    "   - [Задача визуализации](https://www.coursera.org/learn/unsupervised-learning/lecture/hlvlT/zadacha-vizualizatsii)\n",
    "   - [Визуализация данных в sklearn](https://www.coursera.org/learn/unsupervised-learning/lecture/ityMo/vizualizatsiia-dannykh-v-sklearn)\n",
    "   \n",
    "**Также в задании будет использоваться библиотека Seaborn (ее можно дополнительно установить командой *pip install seaborn*), будет полезно обращаться к документациям [Matplotlib](http://matplotlib.org/users/) и [Seaborn](http://seaborn.pydata.org/), а также к примерам визуализации, описанным на StackOverflow.**\n",
    "\n"
   ]
  },
  {
   "cell_type": "markdown",
   "metadata": {},
   "source": [
    "### Задание\n",
    "1. Заполните код в этой тетрадке \n",
    "2. Если вы проходите специализацию Яндеса и МФТИ, пошлите тетрадку в соответствующем Peer Review. <br> Если вы проходите курс ODS, выберите ответы в [веб-форме](https://docs.google.com/forms/d/1EbjK7-hF-Gepi6RH-K5I2XeiYGRoY0LNDx03QmLu9Xo). "
   ]
  },
  {
   "cell_type": "markdown",
   "metadata": {},
   "source": [
    "## Часть 1. Построение признаков"
   ]
  },
  {
   "cell_type": "code",
   "execution_count": 1,
   "metadata": {
    "collapsed": true
   },
   "outputs": [],
   "source": [
    "from __future__ import division, print_function\n",
    "# отключим всякие предупреждения Anaconda\n",
    "import warnings\n",
    "warnings.filterwarnings('ignore')\n",
    "from glob import glob\n",
    "import os\n",
    "from tqdm import tqdm_notebook\n",
    "import numpy as np\n",
    "import pandas as pd\n",
    "pd.set_option('display.max.columns', 25)\n",
    "import pickle\n",
    "#pip install seaborn\n",
    "import seaborn as sns\n",
    "%matplotlib inline\n",
    "from matplotlib import pyplot as plt"
   ]
  },
  {
   "cell_type": "code",
   "execution_count": 2,
   "metadata": {
    "collapsed": true
   },
   "outputs": [],
   "source": [
    "# Поменяйте на свой путь к данным\n",
    "PATH_TO_DATA = '.'"
   ]
  },
  {
   "cell_type": "markdown",
   "metadata": {},
   "source": [
    "**Создайте на основе функций *prepare_train_set* и *prepare_sparse_train_set_window*  новую – *prepare_train_set_with_fe*, (от \"feature engineering\"), создайте следующие признаки:**\n",
    "- `session_timespan` – продолжительность сессии (разница между максимальным и минимальным временем посещения сайтов в сессии, в секундах)\n",
    "- `#unique_sites` – число уникальных сайтов в сессии \n",
    "- `start_hour` – час начала сессии (то есть час в записи минимального timestamp среди десяти)\n",
    "- `day_of_week` – день недели (то есть день недели в записи минимального timestamp среди десяти)\n",
    "\n",
    "Функция должна возвращать новый DataFrame (как возвращала функция *prepare_train_set*), только признаков должно быть на 4 больше. Порядок, в котором добавляются признаки: *site1*, ... *site10*, *session_timespan*, *#unique_sites*, *start_hour*, *day_of_week* и *user_id* (это видно и чуть ниже по тому, как функция вызывается)."
   ]
  },
  {
   "cell_type": "code",
   "execution_count": 3,
   "metadata": {},
   "outputs": [
    {
     "data": {
      "text/html": [
       "<div>\n",
       "<style scoped>\n",
       "    .dataframe tbody tr th:only-of-type {\n",
       "        vertical-align: middle;\n",
       "    }\n",
       "\n",
       "    .dataframe tbody tr th {\n",
       "        vertical-align: top;\n",
       "    }\n",
       "\n",
       "    .dataframe thead th {\n",
       "        text-align: right;\n",
       "    }\n",
       "</style>\n",
       "<table border=\"1\" class=\"dataframe\">\n",
       "  <thead>\n",
       "    <tr style=\"text-align: right;\">\n",
       "      <th></th>\n",
       "      <th>site1</th>\n",
       "      <th>site2</th>\n",
       "      <th>site3</th>\n",
       "      <th>site4</th>\n",
       "      <th>site5</th>\n",
       "      <th>site6</th>\n",
       "      <th>site7</th>\n",
       "      <th>site8</th>\n",
       "      <th>site9</th>\n",
       "      <th>site10</th>\n",
       "      <th>time_diff1</th>\n",
       "      <th>time_diff2</th>\n",
       "      <th>time_diff3</th>\n",
       "      <th>time_diff4</th>\n",
       "      <th>time_diff5</th>\n",
       "      <th>time_diff6</th>\n",
       "      <th>time_diff7</th>\n",
       "      <th>time_diff8</th>\n",
       "      <th>time_diff9</th>\n",
       "      <th>session_timespan</th>\n",
       "      <th>#unique_sites</th>\n",
       "      <th>start_hour</th>\n",
       "      <th>day_of_week</th>\n",
       "      <th>target</th>\n",
       "    </tr>\n",
       "  </thead>\n",
       "  <tbody>\n",
       "    <tr>\n",
       "      <th>0</th>\n",
       "      <td>3</td>\n",
       "      <td>2</td>\n",
       "      <td>2</td>\n",
       "      <td>7</td>\n",
       "      <td>2</td>\n",
       "      <td>1</td>\n",
       "      <td>8</td>\n",
       "      <td>5</td>\n",
       "      <td>9</td>\n",
       "      <td>10</td>\n",
       "      <td>287</td>\n",
       "      <td>1184</td>\n",
       "      <td>6278</td>\n",
       "      <td>186</td>\n",
       "      <td>2</td>\n",
       "      <td>1</td>\n",
       "      <td>2</td>\n",
       "      <td>3</td>\n",
       "      <td>55</td>\n",
       "      <td>7998</td>\n",
       "      <td>8</td>\n",
       "      <td>9</td>\n",
       "      <td>4</td>\n",
       "      <td>1</td>\n",
       "    </tr>\n",
       "    <tr>\n",
       "      <th>1</th>\n",
       "      <td>3</td>\n",
       "      <td>1</td>\n",
       "      <td>1</td>\n",
       "      <td>1</td>\n",
       "      <td>0</td>\n",
       "      <td>0</td>\n",
       "      <td>0</td>\n",
       "      <td>0</td>\n",
       "      <td>0</td>\n",
       "      <td>0</td>\n",
       "      <td>2</td>\n",
       "      <td>3</td>\n",
       "      <td>55</td>\n",
       "      <td>0</td>\n",
       "      <td>0</td>\n",
       "      <td>0</td>\n",
       "      <td>0</td>\n",
       "      <td>0</td>\n",
       "      <td>0</td>\n",
       "      <td>60</td>\n",
       "      <td>2</td>\n",
       "      <td>12</td>\n",
       "      <td>4</td>\n",
       "      <td>1</td>\n",
       "    </tr>\n",
       "    <tr>\n",
       "      <th>2</th>\n",
       "      <td>3</td>\n",
       "      <td>2</td>\n",
       "      <td>6</td>\n",
       "      <td>6</td>\n",
       "      <td>2</td>\n",
       "      <td>0</td>\n",
       "      <td>0</td>\n",
       "      <td>0</td>\n",
       "      <td>0</td>\n",
       "      <td>0</td>\n",
       "      <td>287</td>\n",
       "      <td>1184</td>\n",
       "      <td>6278</td>\n",
       "      <td>186</td>\n",
       "      <td>0</td>\n",
       "      <td>0</td>\n",
       "      <td>0</td>\n",
       "      <td>0</td>\n",
       "      <td>0</td>\n",
       "      <td>7935</td>\n",
       "      <td>3</td>\n",
       "      <td>9</td>\n",
       "      <td>4</td>\n",
       "      <td>2</td>\n",
       "    </tr>\n",
       "    <tr>\n",
       "      <th>3</th>\n",
       "      <td>4</td>\n",
       "      <td>1</td>\n",
       "      <td>2</td>\n",
       "      <td>1</td>\n",
       "      <td>2</td>\n",
       "      <td>1</td>\n",
       "      <td>1</td>\n",
       "      <td>5</td>\n",
       "      <td>11</td>\n",
       "      <td>4</td>\n",
       "      <td>287</td>\n",
       "      <td>1184</td>\n",
       "      <td>6278</td>\n",
       "      <td>186</td>\n",
       "      <td>2</td>\n",
       "      <td>1</td>\n",
       "      <td>2</td>\n",
       "      <td>3</td>\n",
       "      <td>55</td>\n",
       "      <td>7998</td>\n",
       "      <td>5</td>\n",
       "      <td>9</td>\n",
       "      <td>4</td>\n",
       "      <td>3</td>\n",
       "    </tr>\n",
       "    <tr>\n",
       "      <th>4</th>\n",
       "      <td>4</td>\n",
       "      <td>1</td>\n",
       "      <td>2</td>\n",
       "      <td>0</td>\n",
       "      <td>0</td>\n",
       "      <td>0</td>\n",
       "      <td>0</td>\n",
       "      <td>0</td>\n",
       "      <td>0</td>\n",
       "      <td>0</td>\n",
       "      <td>287</td>\n",
       "      <td>1184</td>\n",
       "      <td>0</td>\n",
       "      <td>0</td>\n",
       "      <td>0</td>\n",
       "      <td>0</td>\n",
       "      <td>0</td>\n",
       "      <td>0</td>\n",
       "      <td>0</td>\n",
       "      <td>1471</td>\n",
       "      <td>3</td>\n",
       "      <td>12</td>\n",
       "      <td>4</td>\n",
       "      <td>3</td>\n",
       "    </tr>\n",
       "  </tbody>\n",
       "</table>\n",
       "</div>"
      ],
      "text/plain": [
       "   site1  site2  site3  site4  site5  site6  site7  site8  site9  site10  \\\n",
       "0      3      2      2      7      2      1      8      5      9      10   \n",
       "1      3      1      1      1      0      0      0      0      0       0   \n",
       "2      3      2      6      6      2      0      0      0      0       0   \n",
       "3      4      1      2      1      2      1      1      5     11       4   \n",
       "4      4      1      2      0      0      0      0      0      0       0   \n",
       "\n",
       "  time_diff1 time_diff2 time_diff3 time_diff4 time_diff5 time_diff6  \\\n",
       "0        287       1184       6278        186          2          1   \n",
       "1          2          3         55          0          0          0   \n",
       "2        287       1184       6278        186          0          0   \n",
       "3        287       1184       6278        186          2          1   \n",
       "4        287       1184          0          0          0          0   \n",
       "\n",
       "  time_diff7 time_diff8 time_diff9 session_timespan #unique_sites start_hour  \\\n",
       "0          2          3         55             7998             8          9   \n",
       "1          0          0          0               60             2         12   \n",
       "2          0          0          0             7935             3          9   \n",
       "3          2          3         55             7998             5          9   \n",
       "4          0          0          0             1471             3         12   \n",
       "\n",
       "  day_of_week target  \n",
       "0           4      1  \n",
       "1           4      1  \n",
       "2           4      2  \n",
       "3           4      3  \n",
       "4           4      3  "
      ]
     },
     "execution_count": 3,
     "metadata": {},
     "output_type": "execute_result"
    }
   ],
   "source": [
    "import math\n",
    "from collections import Counter,OrderedDict\n",
    "\n",
    "def load_pkl(fname):\n",
    "    with open(os.path.join(PATH_TO_DATA, fname), 'rb') as pkl:\n",
    "        return pickle.load(pkl)\n",
    "\n",
    "def slice_with_nulls(df, i, session_length, window_size):\n",
    "    inds = range(i*window_size, i*window_size+session_length \n",
    "                 if i*window_size+session_length < df.shape[0] \n",
    "                 else df.shape[0])\n",
    "    diff = (pd.to_datetime(df['timestamp'].values[inds[1:]])-\\\n",
    "                               pd.to_datetime(df['timestamp'].values[inds[0:-1]])).seconds.values\n",
    "\n",
    "    return np.concatenate((df['site'].values[inds], \n",
    "                            np.zeros([session_length - len(inds)]),\n",
    "                            diff, \n",
    "                            np.zeros([session_length - 1 - len(inds[0:-1])]), \n",
    "                            (\n",
    "                            sum(diff), \n",
    "                            df['site'].iloc[inds].nunique(), \n",
    "                            int(df['timestamp'].iloc[inds[0]][-8:-6]), \n",
    "                            pd.to_datetime(df['timestamp'].iloc[inds[0]]).weekday()\n",
    "                            )\n",
    "                                    ))\n",
    "    \n",
    "def get_file_sessions(fname, frequencies, session_length=10, window_size=10):\n",
    "    df = pd.read_csv(fname, sep=',')\n",
    "    user_id = int(os.path.basename(fname)[4:8])\n",
    "    \n",
    "    #n of rows   \n",
    "    N = math.ceil(df.shape[0]/window_size)    \n",
    "    sessions_rows = np.array([slice_with_nulls(df, i, session_length, window_size) for i in range(0,N)])\\\n",
    "                    .reshape(N,session_length*2-1+4)\n",
    "#     print(sessions_rows)\n",
    "    user_column = np.full((N,1), user_id)\n",
    "    to_add = np.concatenate([sessions_rows, user_column], axis=1)\n",
    "\n",
    "    return to_add\n",
    "\n",
    "def prepare_train_set_with_fe(path_to_csv_files, site_freq_path, feature_names,\n",
    "                                    session_length=10, window_size=10):\n",
    "    #загрузим частоты из первой части, не будем пересчитывать\n",
    "    frequencies = load_pkl(site_freq_path)\n",
    "\n",
    "    sessions = pd.DataFrame(np.concatenate([get_file_sessions(f, frequencies, session_length, window_size) for f \n",
    "                                            in glob(os.path.join(path_to_csv_files, '*.csv'))]))\n",
    "#     display(sessions)\n",
    "    sessions.columns = feature_names\n",
    "\n",
    "    #replace site names with ids in sessions\n",
    "    sessions = pd.concat([sessions.iloc[:, 0:session_length]\n",
    "                          .apply(lambda col: col.apply(lambda el: 0 if el == 0 else frequencies[el][0])),\n",
    "                         sessions.iloc[:, session_length:]], axis=1)#.apply(np.int64)\n",
    "    \n",
    "    return sessions\n",
    "    \n",
    "feature_names = ['site' + str(i) for i in range(1,11)] + \\\n",
    "                ['time_diff' + str(j) for j in range(1,10)] + \\\n",
    "                ['session_timespan', '#unique_sites', 'start_hour', \n",
    "                 'day_of_week', 'target']\n",
    "prepare_train_set_with_fe(os.path.join(PATH_TO_DATA, \n",
    "                                                         '3users'), \n",
    "                  site_freq_path=os.path.join(PATH_TO_DATA, \n",
    "                                              'site_freq_3users.pkl'),\n",
    "                  feature_names=feature_names, session_length=10)"
   ]
  },
  {
   "cell_type": "code",
   "execution_count": null,
   "metadata": {
    "collapsed": true
   },
   "outputs": [],
   "source": []
  },
  {
   "cell_type": "markdown",
   "metadata": {},
   "source": [
    "**Проверим функцию на игрушечном примере.**"
   ]
  },
  {
   "cell_type": "code",
   "execution_count": 4,
   "metadata": {
    "collapsed": true
   },
   "outputs": [],
   "source": [
    "feature_names = ['site' + str(i) for i in range(1,11)] + \\\n",
    "                ['time_diff' + str(j) for j in range(1,10)] + \\\n",
    "                ['session_timespan', '#unique_sites', 'start_hour', \n",
    "                 'day_of_week', 'target']\n",
    "train_data_toy  = prepare_train_set_with_fe(os.path.join(PATH_TO_DATA, \n",
    "                                                         '3users'), \n",
    "                  site_freq_path=os.path.join(PATH_TO_DATA, \n",
    "                                              'site_freq_3users.pkl'),\n",
    "                  feature_names=feature_names, session_length=10)"
   ]
  },
  {
   "cell_type": "code",
   "execution_count": 5,
   "metadata": {},
   "outputs": [
    {
     "data": {
      "text/html": [
       "<div>\n",
       "<style scoped>\n",
       "    .dataframe tbody tr th:only-of-type {\n",
       "        vertical-align: middle;\n",
       "    }\n",
       "\n",
       "    .dataframe tbody tr th {\n",
       "        vertical-align: top;\n",
       "    }\n",
       "\n",
       "    .dataframe thead th {\n",
       "        text-align: right;\n",
       "    }\n",
       "</style>\n",
       "<table border=\"1\" class=\"dataframe\">\n",
       "  <thead>\n",
       "    <tr style=\"text-align: right;\">\n",
       "      <th></th>\n",
       "      <th>site1</th>\n",
       "      <th>site2</th>\n",
       "      <th>site3</th>\n",
       "      <th>site4</th>\n",
       "      <th>site5</th>\n",
       "      <th>site6</th>\n",
       "      <th>site7</th>\n",
       "      <th>site8</th>\n",
       "      <th>site9</th>\n",
       "      <th>site10</th>\n",
       "      <th>time_diff1</th>\n",
       "      <th>time_diff2</th>\n",
       "      <th>time_diff3</th>\n",
       "      <th>time_diff4</th>\n",
       "      <th>time_diff5</th>\n",
       "      <th>time_diff6</th>\n",
       "      <th>time_diff7</th>\n",
       "      <th>time_diff8</th>\n",
       "      <th>time_diff9</th>\n",
       "      <th>session_timespan</th>\n",
       "      <th>#unique_sites</th>\n",
       "      <th>start_hour</th>\n",
       "      <th>day_of_week</th>\n",
       "      <th>target</th>\n",
       "    </tr>\n",
       "  </thead>\n",
       "  <tbody>\n",
       "    <tr>\n",
       "      <th>0</th>\n",
       "      <td>3</td>\n",
       "      <td>2</td>\n",
       "      <td>2</td>\n",
       "      <td>7</td>\n",
       "      <td>2</td>\n",
       "      <td>1</td>\n",
       "      <td>8</td>\n",
       "      <td>5</td>\n",
       "      <td>9</td>\n",
       "      <td>10</td>\n",
       "      <td>287</td>\n",
       "      <td>1184</td>\n",
       "      <td>6278</td>\n",
       "      <td>186</td>\n",
       "      <td>2</td>\n",
       "      <td>1</td>\n",
       "      <td>2</td>\n",
       "      <td>3</td>\n",
       "      <td>55</td>\n",
       "      <td>7998</td>\n",
       "      <td>8</td>\n",
       "      <td>9</td>\n",
       "      <td>4</td>\n",
       "      <td>1</td>\n",
       "    </tr>\n",
       "    <tr>\n",
       "      <th>1</th>\n",
       "      <td>3</td>\n",
       "      <td>1</td>\n",
       "      <td>1</td>\n",
       "      <td>1</td>\n",
       "      <td>0</td>\n",
       "      <td>0</td>\n",
       "      <td>0</td>\n",
       "      <td>0</td>\n",
       "      <td>0</td>\n",
       "      <td>0</td>\n",
       "      <td>2</td>\n",
       "      <td>3</td>\n",
       "      <td>55</td>\n",
       "      <td>0</td>\n",
       "      <td>0</td>\n",
       "      <td>0</td>\n",
       "      <td>0</td>\n",
       "      <td>0</td>\n",
       "      <td>0</td>\n",
       "      <td>60</td>\n",
       "      <td>2</td>\n",
       "      <td>12</td>\n",
       "      <td>4</td>\n",
       "      <td>1</td>\n",
       "    </tr>\n",
       "    <tr>\n",
       "      <th>2</th>\n",
       "      <td>3</td>\n",
       "      <td>2</td>\n",
       "      <td>6</td>\n",
       "      <td>6</td>\n",
       "      <td>2</td>\n",
       "      <td>0</td>\n",
       "      <td>0</td>\n",
       "      <td>0</td>\n",
       "      <td>0</td>\n",
       "      <td>0</td>\n",
       "      <td>287</td>\n",
       "      <td>1184</td>\n",
       "      <td>6278</td>\n",
       "      <td>186</td>\n",
       "      <td>0</td>\n",
       "      <td>0</td>\n",
       "      <td>0</td>\n",
       "      <td>0</td>\n",
       "      <td>0</td>\n",
       "      <td>7935</td>\n",
       "      <td>3</td>\n",
       "      <td>9</td>\n",
       "      <td>4</td>\n",
       "      <td>2</td>\n",
       "    </tr>\n",
       "    <tr>\n",
       "      <th>3</th>\n",
       "      <td>4</td>\n",
       "      <td>1</td>\n",
       "      <td>2</td>\n",
       "      <td>1</td>\n",
       "      <td>2</td>\n",
       "      <td>1</td>\n",
       "      <td>1</td>\n",
       "      <td>5</td>\n",
       "      <td>11</td>\n",
       "      <td>4</td>\n",
       "      <td>287</td>\n",
       "      <td>1184</td>\n",
       "      <td>6278</td>\n",
       "      <td>186</td>\n",
       "      <td>2</td>\n",
       "      <td>1</td>\n",
       "      <td>2</td>\n",
       "      <td>3</td>\n",
       "      <td>55</td>\n",
       "      <td>7998</td>\n",
       "      <td>5</td>\n",
       "      <td>9</td>\n",
       "      <td>4</td>\n",
       "      <td>3</td>\n",
       "    </tr>\n",
       "    <tr>\n",
       "      <th>4</th>\n",
       "      <td>4</td>\n",
       "      <td>1</td>\n",
       "      <td>2</td>\n",
       "      <td>0</td>\n",
       "      <td>0</td>\n",
       "      <td>0</td>\n",
       "      <td>0</td>\n",
       "      <td>0</td>\n",
       "      <td>0</td>\n",
       "      <td>0</td>\n",
       "      <td>287</td>\n",
       "      <td>1184</td>\n",
       "      <td>0</td>\n",
       "      <td>0</td>\n",
       "      <td>0</td>\n",
       "      <td>0</td>\n",
       "      <td>0</td>\n",
       "      <td>0</td>\n",
       "      <td>0</td>\n",
       "      <td>1471</td>\n",
       "      <td>3</td>\n",
       "      <td>12</td>\n",
       "      <td>4</td>\n",
       "      <td>3</td>\n",
       "    </tr>\n",
       "  </tbody>\n",
       "</table>\n",
       "</div>"
      ],
      "text/plain": [
       "   site1  site2  site3  site4  site5  site6  site7  site8  site9  site10  \\\n",
       "0      3      2      2      7      2      1      8      5      9      10   \n",
       "1      3      1      1      1      0      0      0      0      0       0   \n",
       "2      3      2      6      6      2      0      0      0      0       0   \n",
       "3      4      1      2      1      2      1      1      5     11       4   \n",
       "4      4      1      2      0      0      0      0      0      0       0   \n",
       "\n",
       "  time_diff1 time_diff2 time_diff3 time_diff4 time_diff5 time_diff6  \\\n",
       "0        287       1184       6278        186          2          1   \n",
       "1          2          3         55          0          0          0   \n",
       "2        287       1184       6278        186          0          0   \n",
       "3        287       1184       6278        186          2          1   \n",
       "4        287       1184          0          0          0          0   \n",
       "\n",
       "  time_diff7 time_diff8 time_diff9 session_timespan #unique_sites start_hour  \\\n",
       "0          2          3         55             7998             8          9   \n",
       "1          0          0          0               60             2         12   \n",
       "2          0          0          0             7935             3          9   \n",
       "3          2          3         55             7998             5          9   \n",
       "4          0          0          0             1471             3         12   \n",
       "\n",
       "  day_of_week target  \n",
       "0           4      1  \n",
       "1           4      1  \n",
       "2           4      2  \n",
       "3           4      3  \n",
       "4           4      3  "
      ]
     },
     "execution_count": 5,
     "metadata": {},
     "output_type": "execute_result"
    }
   ],
   "source": [
    "train_data_toy"
   ]
  },
  {
   "cell_type": "markdown",
   "metadata": {},
   "source": [
    "**Примените функцию *prepare_train_set_with_fe* к данным по 10 пользователям, укажите *session_length*=10.**"
   ]
  },
  {
   "cell_type": "code",
   "execution_count": 6,
   "metadata": {},
   "outputs": [
    {
     "name": "stdout",
     "output_type": "stream",
     "text": [
      "Wall time: 20.8 s\n"
     ]
    }
   ],
   "source": [
    "%%time\n",
    "train_data_10users = prepare_train_set_with_fe(os.path.join(PATH_TO_DATA, \n",
    "                                                         '10users'), \n",
    "                  site_freq_path=os.path.join(PATH_TO_DATA, \n",
    "                                              'site_freq_10users.pkl'),\n",
    "                  feature_names=feature_names, session_length=10)\n",
    "train_data_10users.to_csv(os.path.join(PATH_TO_DATA, \n",
    "                                       'train_data_10users.csv'), \n",
    "                        index_label='session_id', float_format='%d')"
   ]
  },
  {
   "cell_type": "code",
   "execution_count": 7,
   "metadata": {},
   "outputs": [
    {
     "data": {
      "text/html": [
       "<div>\n",
       "<style scoped>\n",
       "    .dataframe tbody tr th:only-of-type {\n",
       "        vertical-align: middle;\n",
       "    }\n",
       "\n",
       "    .dataframe tbody tr th {\n",
       "        vertical-align: top;\n",
       "    }\n",
       "\n",
       "    .dataframe thead th {\n",
       "        text-align: right;\n",
       "    }\n",
       "</style>\n",
       "<table border=\"1\" class=\"dataframe\">\n",
       "  <thead>\n",
       "    <tr style=\"text-align: right;\">\n",
       "      <th></th>\n",
       "      <th>site1</th>\n",
       "      <th>site2</th>\n",
       "      <th>site3</th>\n",
       "      <th>site4</th>\n",
       "      <th>site5</th>\n",
       "      <th>site6</th>\n",
       "      <th>site7</th>\n",
       "      <th>site8</th>\n",
       "      <th>site9</th>\n",
       "      <th>site10</th>\n",
       "      <th>time_diff1</th>\n",
       "      <th>time_diff2</th>\n",
       "      <th>time_diff3</th>\n",
       "      <th>time_diff4</th>\n",
       "      <th>time_diff5</th>\n",
       "      <th>time_diff6</th>\n",
       "      <th>time_diff7</th>\n",
       "      <th>time_diff8</th>\n",
       "      <th>time_diff9</th>\n",
       "      <th>session_timespan</th>\n",
       "      <th>#unique_sites</th>\n",
       "      <th>start_hour</th>\n",
       "      <th>day_of_week</th>\n",
       "      <th>target</th>\n",
       "    </tr>\n",
       "  </thead>\n",
       "  <tbody>\n",
       "    <tr>\n",
       "      <th>0</th>\n",
       "      <td>192</td>\n",
       "      <td>574</td>\n",
       "      <td>133</td>\n",
       "      <td>3</td>\n",
       "      <td>133</td>\n",
       "      <td>133</td>\n",
       "      <td>3</td>\n",
       "      <td>133</td>\n",
       "      <td>203</td>\n",
       "      <td>133</td>\n",
       "      <td>10</td>\n",
       "      <td>0</td>\n",
       "      <td>0</td>\n",
       "      <td>1</td>\n",
       "      <td>20</td>\n",
       "      <td>1</td>\n",
       "      <td>0</td>\n",
       "      <td>1</td>\n",
       "      <td>0</td>\n",
       "      <td>33</td>\n",
       "      <td>5</td>\n",
       "      <td>8</td>\n",
       "      <td>4</td>\n",
       "      <td>31</td>\n",
       "    </tr>\n",
       "    <tr>\n",
       "      <th>1</th>\n",
       "      <td>415</td>\n",
       "      <td>193</td>\n",
       "      <td>674</td>\n",
       "      <td>254</td>\n",
       "      <td>133</td>\n",
       "      <td>31</td>\n",
       "      <td>393</td>\n",
       "      <td>3305</td>\n",
       "      <td>217</td>\n",
       "      <td>55</td>\n",
       "      <td>1</td>\n",
       "      <td>0</td>\n",
       "      <td>163</td>\n",
       "      <td>105</td>\n",
       "      <td>0</td>\n",
       "      <td>1</td>\n",
       "      <td>3</td>\n",
       "      <td>3</td>\n",
       "      <td>8</td>\n",
       "      <td>284</td>\n",
       "      <td>10</td>\n",
       "      <td>8</td>\n",
       "      <td>4</td>\n",
       "      <td>31</td>\n",
       "    </tr>\n",
       "    <tr>\n",
       "      <th>2</th>\n",
       "      <td>55</td>\n",
       "      <td>3</td>\n",
       "      <td>55</td>\n",
       "      <td>55</td>\n",
       "      <td>5</td>\n",
       "      <td>293</td>\n",
       "      <td>415</td>\n",
       "      <td>333</td>\n",
       "      <td>897</td>\n",
       "      <td>55</td>\n",
       "      <td>0</td>\n",
       "      <td>14</td>\n",
       "      <td>1</td>\n",
       "      <td>242</td>\n",
       "      <td>0</td>\n",
       "      <td>0</td>\n",
       "      <td>1</td>\n",
       "      <td>0</td>\n",
       "      <td>0</td>\n",
       "      <td>258</td>\n",
       "      <td>7</td>\n",
       "      <td>8</td>\n",
       "      <td>4</td>\n",
       "      <td>31</td>\n",
       "    </tr>\n",
       "    <tr>\n",
       "      <th>3</th>\n",
       "      <td>473</td>\n",
       "      <td>3306</td>\n",
       "      <td>473</td>\n",
       "      <td>55</td>\n",
       "      <td>55</td>\n",
       "      <td>55</td>\n",
       "      <td>55</td>\n",
       "      <td>937</td>\n",
       "      <td>199</td>\n",
       "      <td>123</td>\n",
       "      <td>2</td>\n",
       "      <td>1</td>\n",
       "      <td>0</td>\n",
       "      <td>1</td>\n",
       "      <td>25</td>\n",
       "      <td>1</td>\n",
       "      <td>0</td>\n",
       "      <td>0</td>\n",
       "      <td>0</td>\n",
       "      <td>30</td>\n",
       "      <td>6</td>\n",
       "      <td>8</td>\n",
       "      <td>4</td>\n",
       "      <td>31</td>\n",
       "    </tr>\n",
       "    <tr>\n",
       "      <th>4</th>\n",
       "      <td>342</td>\n",
       "      <td>55</td>\n",
       "      <td>5</td>\n",
       "      <td>3307</td>\n",
       "      <td>258</td>\n",
       "      <td>211</td>\n",
       "      <td>3308</td>\n",
       "      <td>2086</td>\n",
       "      <td>675</td>\n",
       "      <td>2086</td>\n",
       "      <td>1</td>\n",
       "      <td>0</td>\n",
       "      <td>1</td>\n",
       "      <td>1</td>\n",
       "      <td>1</td>\n",
       "      <td>0</td>\n",
       "      <td>1</td>\n",
       "      <td>1</td>\n",
       "      <td>0</td>\n",
       "      <td>6</td>\n",
       "      <td>9</td>\n",
       "      <td>8</td>\n",
       "      <td>4</td>\n",
       "      <td>31</td>\n",
       "    </tr>\n",
       "  </tbody>\n",
       "</table>\n",
       "</div>"
      ],
      "text/plain": [
       "   site1  site2  site3  site4  site5  site6  site7  site8  site9  site10  \\\n",
       "0    192    574    133      3    133    133      3    133    203     133   \n",
       "1    415    193    674    254    133     31    393   3305    217      55   \n",
       "2     55      3     55     55      5    293    415    333    897      55   \n",
       "3    473   3306    473     55     55     55     55    937    199     123   \n",
       "4    342     55      5   3307    258    211   3308   2086    675    2086   \n",
       "\n",
       "  time_diff1 time_diff2 time_diff3 time_diff4 time_diff5 time_diff6  \\\n",
       "0         10          0          0          1         20          1   \n",
       "1          1          0        163        105          0          1   \n",
       "2          0         14          1        242          0          0   \n",
       "3          2          1          0          1         25          1   \n",
       "4          1          0          1          1          1          0   \n",
       "\n",
       "  time_diff7 time_diff8 time_diff9 session_timespan #unique_sites start_hour  \\\n",
       "0          0          1          0               33             5          8   \n",
       "1          3          3          8              284            10          8   \n",
       "2          1          0          0              258             7          8   \n",
       "3          0          0          0               30             6          8   \n",
       "4          1          1          0                6             9          8   \n",
       "\n",
       "  day_of_week target  \n",
       "0           4     31  \n",
       "1           4     31  \n",
       "2           4     31  \n",
       "3           4     31  \n",
       "4           4     31  "
      ]
     },
     "execution_count": 7,
     "metadata": {},
     "output_type": "execute_result"
    }
   ],
   "source": [
    "train_data_10users.head()"
   ]
  },
  {
   "cell_type": "markdown",
   "metadata": {},
   "source": [
    "**Примените функцию *prepare_train_set_with_fe* к данным по 150 пользователям, укажите *session_length*=10.**"
   ]
  },
  {
   "cell_type": "code",
   "execution_count": 8,
   "metadata": {},
   "outputs": [
    {
     "name": "stdout",
     "output_type": "stream",
     "text": [
      "Wall time: 2min 48s\n"
     ]
    }
   ],
   "source": [
    "%%time\n",
    "train_data_150users = prepare_train_set_with_fe(os.path.join(PATH_TO_DATA, \n",
    "                                                         '150users'), \n",
    "                  site_freq_path=os.path.join(PATH_TO_DATA, \n",
    "                                              'site_freq_150users.pkl'),\n",
    "                  feature_names=feature_names, session_length=10)\n",
    "train_data_150users.to_csv(os.path.join(PATH_TO_DATA, \n",
    "                                       'train_data_150users.csv'), \n",
    "                        index_label='session_id', float_format='%d')"
   ]
  },
  {
   "cell_type": "markdown",
   "metadata": {},
   "source": [
    "**Сохраните в pickle-файлы признаки *session_timespan*, *#unique_sites*, *start_hour* и *day_of_week* для 10 и 150 пользователей.**"
   ]
  },
  {
   "cell_type": "code",
   "execution_count": 9,
   "metadata": {
    "collapsed": true
   },
   "outputs": [],
   "source": [
    "new_features_10users = train_data_10users[['session_timespan', '#unique_sites', 'start_hour', 'day_of_week']]\n",
    "new_features_150users = train_data_150users[['session_timespan', '#unique_sites', 'start_hour', 'day_of_week']]"
   ]
  },
  {
   "cell_type": "code",
   "execution_count": 10,
   "metadata": {
    "collapsed": true
   },
   "outputs": [],
   "source": [
    "with open(os.path.join(PATH_TO_DATA, \n",
    "                       'new_features_10users.pkl'), 'wb') as new_features_10users_pkl:\n",
    "    pickle.dump(new_features_10users, new_features_10users_pkl)\n",
    "with open(os.path.join(PATH_TO_DATA, \n",
    "                       'new_features_150users.pkl'), 'wb') as new_features_150users_pkl:\n",
    "    pickle.dump(new_features_150users, new_features_150users_pkl)"
   ]
  },
  {
   "cell_type": "markdown",
   "metadata": {},
   "source": [
    "**<font color='red'>Вопрос 1. </font> Выведите медианную продолжительность сессии (*session_timespan*) для сессий 10 пользователей.**"
   ]
  },
  {
   "cell_type": "code",
   "execution_count": 11,
   "metadata": {},
   "outputs": [
    {
     "data": {
      "text/plain": [
       "37.0"
      ]
     },
     "execution_count": 11,
     "metadata": {},
     "output_type": "execute_result"
    }
   ],
   "source": [
    "train_data_10users['session_timespan'].median()"
   ]
  },
  {
   "cell_type": "markdown",
   "metadata": {},
   "source": [
    "**<font color='red'>Вопрос 2. </font> Выведите медианный день недели, в который началась сессия, для сессий 10 пользователей.**"
   ]
  },
  {
   "cell_type": "code",
   "execution_count": 12,
   "metadata": {},
   "outputs": [
    {
     "data": {
      "text/plain": [
       "2.0"
      ]
     },
     "execution_count": 12,
     "metadata": {},
     "output_type": "execute_result"
    }
   ],
   "source": [
    "train_data_10users['day_of_week'].median()"
   ]
  },
  {
   "cell_type": "markdown",
   "metadata": {},
   "source": [
    "**<font color='red'>Вопрос 3. </font>Выведите медианный час начала сессии для сессий 150 пользователей.**"
   ]
  },
  {
   "cell_type": "code",
   "execution_count": 13,
   "metadata": {},
   "outputs": [
    {
     "data": {
      "text/plain": [
       "13.0"
      ]
     },
     "execution_count": 13,
     "metadata": {},
     "output_type": "execute_result"
    }
   ],
   "source": [
    "train_data_150users['start_hour'].median()"
   ]
  },
  {
   "cell_type": "markdown",
   "metadata": {},
   "source": [
    "**<font color='red'>Вопрос 4. </font>Выведите медианное значение числа уникальных сайтов в сессиях 150 пользователей.**"
   ]
  },
  {
   "cell_type": "code",
   "execution_count": 14,
   "metadata": {},
   "outputs": [
    {
     "data": {
      "text/plain": [
       "7.0"
      ]
     },
     "execution_count": 14,
     "metadata": {},
     "output_type": "execute_result"
    }
   ],
   "source": [
    "train_data_150users['#unique_sites'].median()"
   ]
  },
  {
   "cell_type": "markdown",
   "metadata": {},
   "source": [
    "## Часть 2. Визуальный анализ данных"
   ]
  },
  {
   "cell_type": "markdown",
   "metadata": {},
   "source": [
    "**Забавы ради, потехи для дадим пользователям имена и ассоциируем с ними цвета.**"
   ]
  },
  {
   "cell_type": "code",
   "execution_count": 15,
   "metadata": {
    "collapsed": true
   },
   "outputs": [],
   "source": [
    "id_name_dict = {128: 'Mary-Kate', 39: 'Ashley', 207: 'Lindsey', 127: 'Naomi', 237: 'Avril',\n",
    "               33: 'Bob', 50: 'Bill', 31: 'John', 100: 'Dick', 241: 'Ed'}\n",
    "train_data_10users['target'] = train_data_10users['target'].map(id_name_dict)"
   ]
  },
  {
   "cell_type": "code",
   "execution_count": 16,
   "metadata": {
    "collapsed": true
   },
   "outputs": [],
   "source": [
    "color_dic = {'Mary-Kate': 'pink', 'Ashley': 'darkviolet', 'Lindsey':'blueviolet', \n",
    "             'Naomi': 'hotpink', 'Avril': 'orchid', \n",
    "             'Bob': 'firebrick', 'Bill': 'gold', 'John': 'forestgreen', \n",
    "             'Dick': 'slategrey', 'Ed':'brown'}"
   ]
  },
  {
   "cell_type": "markdown",
   "metadata": {},
   "source": [
    "**1. Постройте гистограмму распределения длины сессии в секундах (*session_timespan*). Ограничьте по *x* значением 200 (иначе слишком тяжелый хвост). Сделайте гистограмму цвета *darkviolet*, подпишите оси по-русски.**"
   ]
  },
  {
   "cell_type": "code",
   "execution_count": 17,
   "metadata": {
    "collapsed": true
   },
   "outputs": [],
   "source": [
    "train_data_10users['session_timespan'] = train_data_10users['session_timespan'].apply(int)"
   ]
  },
  {
   "cell_type": "code",
   "execution_count": 18,
   "metadata": {},
   "outputs": [
    {
     "data": {
      "text/plain": [
       "<matplotlib.axes._subplots.AxesSubplot at 0x253284dfa58>"
      ]
     },
     "execution_count": 18,
     "metadata": {},
     "output_type": "execute_result"
    },
    {
     "data": {
      "image/png": "[encoded data removed]",
      "text/plain": [
       "<Figure size 432x288 with 1 Axes>"
      ]
     },
     "metadata": {},
     "output_type": "display_data"
    }
   ],
   "source": [
    "train_data_10users[train_data_10users['session_timespan']<=200]['session_timespan'][0:100].hist(color = 'darkviolet')"
   ]
  },
  {
   "cell_type": "code",
   "execution_count": 19,
   "metadata": {},
   "outputs": [
    {
     "data": {
      "text/plain": [
       "Text(0, 0.5, 'Количество')"
      ]
     },
     "execution_count": 19,
     "metadata": {},
     "output_type": "execute_result"
    },
    {
     "data": {
      "image/png": "[encoded data removed]",
      "text/plain": [
       "<Figure size 432x288 with 1 Axes>"
      ]
     },
     "metadata": {},
     "output_type": "display_data"
    }
   ],
   "source": [
    "train_data_10users[train_data_10users['session_timespan']<=200]['session_timespan'].hist(color ='darkviolet')\n",
    "plt.title('Гистограмма распределения длины сессии в секундах',x=0.5,y = 1.04, size= 18 )\n",
    "plt.xlabel('Длина сессии')\n",
    "plt.ylabel('Количество')"
   ]
  },
  {
   "cell_type": "markdown",
   "metadata": {},
   "source": [
    "**2. Постройте гистограмму распределения числа уникальных сайтов в сессии (*#unique_sites*). Сделайте гистограмму цвета *aqua*, подпишите оси по-русски.**"
   ]
  },
  {
   "cell_type": "code",
   "execution_count": 20,
   "metadata": {},
   "outputs": [
    {
     "data": {
      "text/plain": [
       "Text(0, 0.5, 'Количество')"
      ]
     },
     "execution_count": 20,
     "metadata": {},
     "output_type": "execute_result"
    },
    {
     "data": {
      "image/png": "[encoded data removed]",
      "text/plain": [
       "<Figure size 432x288 with 1 Axes>"
      ]
     },
     "metadata": {},
     "output_type": "display_data"
    }
   ],
   "source": [
    "train_data_10users['#unique_sites'] = train_data_10users['#unique_sites'].apply(int)\n",
    "train_data_10users['#unique_sites'].hist(color='aqua')\n",
    "plt.title('Гистограмма распределения числа уникальных сайтов в сессии')\n",
    "plt.xlabel('Число уникальных сайтов')\n",
    "plt.ylabel('Количество')"
   ]
  },
  {
   "cell_type": "markdown",
   "metadata": {},
   "source": [
    "**3. Постройте гистограммы распределения числа уникальных сайтов в сессии (*#unique_sites*) для каждого из 10 пользователей по отдельности. Используйте *subplots*, чтоб разместить все 10 картинок на одной большой. Пометьте легендой каждую картинку, на легенде должно быть написано имя пользователя. Для каждого пользователя раскрасьте гистограмму его/ее цветом (*color_dic*). Подпишите оси по-русски в каждой из 10 гистограмм.**"
   ]
  },
  {
   "cell_type": "code",
   "execution_count": 107,
   "metadata": {},
   "outputs": [
    {
     "data": {
      "image/png": "[encoded data removed]",
      "text/plain": [
       "<Figure size 1152x720 with 12 Axes>"
      ]
     },
     "metadata": {},
     "output_type": "display_data"
    }
   ],
   "source": [
    "fig, axes = plt.subplots(nrows=3, ncols=4, figsize=(16, 10), sharex=True)#, sharey=True)\n",
    "fig.suptitle('Гистограммы распределения числа уникальных сайтов в сессии')\n",
    "# как вариант, можно и по-другому\n",
    "for idx, (user, sub_df) in  enumerate(pd.groupby(train_data_10users, 'target')): \n",
    "    ax = axes[int(idx/4), int(idx%4)]\n",
    "    sub_df['#unique_sites'].hist(color=color_dic[user], ax = ax, label = user)\n",
    "    ax.legend(loc='upper right')\n",
    "    ax.set(xlabel='Число уникальных сайтов в сессии', ylabel = 'Количество')\n",
    "    "
   ]
  },
  {
   "cell_type": "markdown",
   "metadata": {},
   "source": [
    "**4. Постройте гистограмму распределения часа начала сессии (*start_hour*). Сделайте гистограмму цвета *darkgreen*, подпишите оси по-русски.**"
   ]
  },
  {
   "cell_type": "code",
   "execution_count": 22,
   "metadata": {},
   "outputs": [
    {
     "data": {
      "text/plain": [
       "<matplotlib.axes._subplots.AxesSubplot at 0x253284cd828>"
      ]
     },
     "execution_count": 22,
     "metadata": {},
     "output_type": "execute_result"
    },
    {
     "data": {
      "image/png": "[encoded data removed]",
      "text/plain": [
       "<Figure size 432x288 with 1 Axes>"
      ]
     },
     "metadata": {},
     "output_type": "display_data"
    }
   ],
   "source": [
    "train_data_10users['start_hour'] = train_data_10users['start_hour'].apply(int)\n",
    "plt.title('Гистограмма распределения часа начала сессии')\n",
    "plt.xlabel('Час начала сессии')\n",
    "plt.ylabel('Количество')\n",
    "train_data_10users['start_hour'].hist(color='darkgreen')"
   ]
  },
  {
   "cell_type": "markdown",
   "metadata": {},
   "source": [
    "**5. Постройте гистограммы распределения часа начала сессии (*start_hour*) для каждого из 10 пользователей по отдельности. Используйте *subplots*, чтоб разместить все 10 картинок на одной большой. Пометьте легендой каждую картинку, на легенде должно быть написано имя пользователя. Для каждого пользователя раскрасьте гистограмму его/ее цветом (*color_dic*). Подпишите оси по-русски в каждой из 10 гистограмм.**"
   ]
  },
  {
   "cell_type": "code",
   "execution_count": 106,
   "metadata": {},
   "outputs": [
    {
     "data": {
      "image/png": "[encoded data removed]",
      "text/plain": [
       "<Figure size 1152x720 with 12 Axes>"
      ]
     },
     "metadata": {},
     "output_type": "display_data"
    }
   ],
   "source": [
    "fig, axes = plt.subplots(nrows=3, ncols=4, figsize=(16, 10), sharex=True)#, sharey=True)\n",
    "fig.suptitle('Гистограммы распределения часа начала сессии')\n",
    "# как вариант, можно и по-другому\n",
    "for idx, (user, sub_df) in  enumerate(pd.groupby(train_data_10users, 'target')): \n",
    "    ax = axes[int(idx/4), int(idx%4)]\n",
    "    sub_df['start_hour'].hist(color=color_dic[user], ax = ax, label = user)\n",
    "    ax.legend(loc='upper right')\n",
    "    ax.set(xlabel='Час начала сессии', ylabel = 'Количество')"
   ]
  },
  {
   "cell_type": "markdown",
   "metadata": {},
   "source": [
    "**6. Постройте гистограмму распределения дня недели, в который началась сессия (*day_of_week*). Сделайте гистограмму цвета *sienna*, подпишите оси по-русски.**"
   ]
  },
  {
   "cell_type": "code",
   "execution_count": 24,
   "metadata": {},
   "outputs": [
    {
     "data": {
      "text/plain": [
       "dict_values(['Понедельник', 'Вторник', 'Среда', 'Четверг', 'Пятница', 'Суббота', 'Воскресенье'])"
      ]
     },
     "execution_count": 24,
     "metadata": {},
     "output_type": "execute_result"
    }
   ],
   "source": [
    "dow_name_dict = {0: 'Понедельник', 1: 'Вторник', 2: 'Среда', 3: 'Четверг', 4: 'Пятница',\n",
    "               5: 'Суббота', 6 : 'Воскресенье'}\n",
    "dow_names = dow_name_dict.values()\n",
    "train_data_10users['day_of_week'] = train_data_10users['day_of_week'].map(dow_name_dict)\n",
    "dow_names"
   ]
  },
  {
   "cell_type": "code",
   "execution_count": 25,
   "metadata": {},
   "outputs": [
    {
     "data": {
      "text/plain": [
       "array(['Пятница', 'Пятница', 'Пятница', ..., 'Среда', 'Среда', 'Среда'],\n",
       "      dtype=object)"
      ]
     },
     "execution_count": 25,
     "metadata": {},
     "output_type": "execute_result"
    }
   ],
   "source": [
    "train_data_10users['day_of_week'].value_counts()\n",
    "dow_name_dict.values()\n",
    "train_data_10users['day_of_week'].values"
   ]
  },
  {
   "cell_type": "code",
   "execution_count": 26,
   "metadata": {},
   "outputs": [
    {
     "data": {
      "text/plain": [
       "<matplotlib.axes._subplots.AxesSubplot at 0x2532a5633c8>"
      ]
     },
     "execution_count": 26,
     "metadata": {},
     "output_type": "execute_result"
    },
    {
     "data": {
      "image/png": "[encoded data removed]",
      "text/plain": [
       "<Figure size 864x576 with 1 Axes>"
      ]
     },
     "metadata": {},
     "output_type": "display_data"
    }
   ],
   "source": [
    "# train_data_10users['day_of_week']=train_data_10users['day_of_week'].apply(int)\n",
    "plt.figure(figsize=(12,8))\n",
    "plt.title('Гистограмма распределения дня недели, в который началась сессия')\n",
    "plt.xlabel('День недели')\n",
    "plt.ylabel('Количество')\n",
    "# train_data_10users['day_of_week'].hist(color='sienna')\n",
    "sns.countplot(x=train_data_10users['day_of_week'].values, alpha=0.7, color='sienna', order = dow_names ) "
   ]
  },
  {
   "cell_type": "markdown",
   "metadata": {},
   "source": [
    "**7. Постройте гистограммы распределения дня недели, в который началась сессия (*day_of_week*) для каждого из 10 пользователей по отдельности. Используйте *subplots*, чтоб разместить все 10 картинок на одной большой. Измените метки по оси *X* на ['Пн', 'Вт', 'Ср', 'Чт', 'Пт', 'Сб', 'Вс'] – метод *set_xticklabels*. Пометьте легендой каждую картинку, на легенде должно быть написано имя пользователя. Для каждого пользователя раскрасьте гистограмму его/ее цветом (*color_dic*). Подпишите по-русски название каждой из 10 гистограмм.**"
   ]
  },
  {
   "cell_type": "code",
   "execution_count": 27,
   "metadata": {},
   "outputs": [
    {
     "data": {
      "image/png": "[encoded data removed]",
      "text/plain": [
       "<Figure size 1152x720 with 12 Axes>"
      ]
     },
     "metadata": {},
     "output_type": "display_data"
    }
   ],
   "source": [
    "fig, axes = plt.subplots(nrows=3, ncols=4, figsize=(16, 10), sharex = True)#, sharey = True)\n",
    "fig.suptitle('Гистограммы распределения дня недели, в который началась сессия')\n",
    "# как вариант, можно и по-другому\n",
    "for idx, (user, sub_df) in  enumerate(pd.groupby(train_data_10users, 'target')): \n",
    "    ax = axes[int(idx/4), int(idx%4)]\n",
    "    sns.countplot(x= sub_df['day_of_week'].values, color=color_dic[user], ax = ax, label = user, \n",
    "                  order = dow_names)\n",
    "    ax.legend(loc='upper right')\n",
    "    ax.set(xlabel='День недели', ylabel = 'Количество')\n",
    "    ax.set_xticklabels(['Пн', 'Вт', 'Ср', 'Чт', 'Пт', 'Сб', 'Вс'])"
   ]
  },
  {
   "cell_type": "markdown",
   "metadata": {},
   "source": [
    "**8. Сделайте выводы про каждого пользователя по построенным графикам.**"
   ]
  },
  {
   "cell_type": "markdown",
   "metadata": {},
   "source": [
    "Mary-Kate: скорее всего, есть два любимых сайта, чаще всего заходит по субботам вечером, реже всего - в понедельник, самый активный пользователь из 10, судя по площади гистограммы, отражающей число сессий (видно на первом графике с общими координатами по оси ординат)\n",
    "\n",
    "Ashley: по выходным нет данных об использовании интернета, чаще всего серфит по средам, нет предпочитаемого количества сайтов в сессию, в сети чаще заполночь\n",
    "\n",
    "Lindsey: часто в сети по вторникам, по выходным - отдыхает, в сети в основном в середине дня, сайтов в сессию чаще больше разных\n",
    "\n",
    "Naomi: В сети несколько чаще по четвергам, реже по выходным, чаще в середине дня, по числу уникальных сайтов предпочтения выражены слабо, скорее больше уникальных, чем неуникальных\n",
    "\n",
    "Avril: реже выходит в сеть по пятницам и субботам, в 14 и 17 часов наибольшая вероятность посещения, среднее число уникальных посещаемых сайтов - 6\n",
    "\n",
    "Bob: по выходным нет данных о посещениях, чаще в сети с раннего утра и до 10ти, по числу уникальных сайтов предпочтения выражены слабо\n",
    "\n",
    "Bill: Чаще в сети в начале недели, предпочтительно в 15 часов дня, по числу уникальных сайтов предпочтения выражены слабо\n",
    "\n",
    "John: по выходным не бывает в сети, больше всего появляется в пятницу, в среднем чаще в середине дня, среднее число уникальных сайтов - 7\n",
    "\n",
    "Dick: мало пользуется сетью, чаще по средам и субботам, реже всего выходит в 19-20 часов, чаще всего сессия из двух сайтов\n",
    "\n",
    "Ed: меньше всех пользуется сетью, чаще всего по средам, в среднем - 6-7 уникальных сайтов в сессию, в основном в середине дня"
   ]
  },
  {
   "cell_type": "markdown",
   "metadata": {},
   "source": [
    "**Загрузите сохраненный ранее в pickle-файл частотный словарь сайтов для 10 пользователей. **"
   ]
  },
  {
   "cell_type": "code",
   "execution_count": 28,
   "metadata": {},
   "outputs": [
    {
     "data": {
      "text/plain": [
       "{'s.youtube.com': (1, 8300),\n",
       " 'www.google.fr': (2, 7813),\n",
       " 'www.google.com': (3, 5441),\n",
       " 'mail.google.com': (4, 4158),\n",
       " 'www.facebook.com': (5, 4141),\n",
       " 'apis.google.com': (6, 3758),\n",
       " 'r3---sn-gxo5uxg-jqbe.googlevideo.com': (7, 3244),\n",
       " 'r1---sn-gxo5uxg-jqbe.googlevideo.com': (8, 3094),\n",
       " 'plus.google.com': (9, 2630),\n",
       " 'accounts.google.com': (10, 2089),\n",
       " 'r2---sn-gxo5uxg-jqbe.googlevideo.com': (11, 1939),\n",
       " 'fr-mg42.mail.yahoo.com': (12, 1868),\n",
       " 'www.youtube.com': (13, 1804),\n",
       " 'r4---sn-gxo5uxg-jqbe.googlevideo.com': (14, 1702),\n",
       " 'clients1.google.com': (15, 1493),\n",
       " 'download.jboss.org': (16, 1441),\n",
       " 's-static.ak.facebook.com': (17, 1388),\n",
       " 'static.ak.facebook.com': (18, 1265),\n",
       " 'i1.ytimg.com': (19, 1232),\n",
       " 'twitter.com': (20, 1204),\n",
       " 'accounts.youtube.com': (21, 1057),\n",
       " 'platform.twitter.com': (22, 1041),\n",
       " 'clients6.google.com': (23, 1039),\n",
       " 'safebrowsing-cache.google.com': (24, 1039),\n",
       " 'translate.google.fr': (25, 1002),\n",
       " 'api.twitter.com': (26, 982),\n",
       " 'accounts.google.fr': (27, 974),\n",
       " 'talkgadget.google.com': (28, 965),\n",
       " 'mts0.google.com': (29, 763),\n",
       " 'clients2.google.com': (30, 748),\n",
       " 'ajax.googleapis.com': (31, 711),\n",
       " 'login.yahoo.com': (32, 700),\n",
       " 'chatenabled.mail.google.com': (33, 676),\n",
       " 'media.melty.fr': (34, 671),\n",
       " 'mts1.google.com': (35, 666),\n",
       " 'fr.openclassrooms.com': (36, 662),\n",
       " 'safebrowsing.clients.google.com': (37, 598),\n",
       " 's.ytimg.com': (38, 583),\n",
       " 'javadl-esd-secure.oracle.com': (39, 582),\n",
       " 'maps.googleapis.com': (40, 559),\n",
       " 'login.live.com': (41, 553),\n",
       " 'maps.google.fr': (42, 531),\n",
       " 'ieonline.microsoft.com': (43, 484),\n",
       " 'connect.facebook.net': (44, 482),\n",
       " 'h.live.com': (45, 482),\n",
       " 'syndication.twitter.com': (46, 463),\n",
       " 'khms1.google.fr': (47, 460),\n",
       " 'khms0.google.fr': (48, 454),\n",
       " 'docs.oracle.com': (49, 442),\n",
       " 'www.melty.fr': (50, 439),\n",
       " 'drive.google.com': (51, 427),\n",
       " 'ocsp.digicert.com': (52, 416),\n",
       " 'www.linkedin.com': (53, 407),\n",
       " 'bits.wikimedia.org': (54, 402),\n",
       " 'webmail.laposte.net': (55, 399),\n",
       " 'fr.yahoo.com': (56, 379),\n",
       " 'ycpi-mail-rest-core4.msg.yahoo.com': (57, 367),\n",
       " 'www.developpez.net': (58, 357),\n",
       " 'fbstatic-a.akamaihd.net': (59, 357),\n",
       " 'armmf.adobe.com': (60, 339),\n",
       " 'www.bing.com': (61, 332),\n",
       " 'fr.wikipedia.org': (62, 330),\n",
       " 'www.stid-france.com': (63, 330),\n",
       " 'translate.google.com': (64, 326),\n",
       " 'accounts.google.dz': (65, 319),\n",
       " 'download.oracle.com': (66, 313),\n",
       " 'gtssl-ocsp.geotrust.com': (67, 297),\n",
       " 'ucs.query.yahoo.com': (68, 295),\n",
       " 'www.oracle.com': (69, 293),\n",
       " 'bay178.mail.live.com': (70, 288),\n",
       " 'g.msn.com': (71, 281),\n",
       " 'gtglobal-ocsp.geotrust.com': (72, 279),\n",
       " 'pixel.alephd.com': (73, 275),\n",
       " 'live.lemde.fr': (74, 274),\n",
       " 'plus.googleapis.com': (75, 270),\n",
       " 'halc.iadvize.com': (76, 268),\n",
       " 'gg.google.com': (77, 267),\n",
       " 'yt3.ggpht.com': (78, 265),\n",
       " 'regie2.iquesta.com': (79, 261),\n",
       " 'ocsp.thawte.com': (80, 257),\n",
       " 'go.microsoft.com': (81, 253),\n",
       " 'windowslive.tt.omtrdc.net': (82, 250),\n",
       " 'auto-ecole-cezeaux-clermont-freand.packweb2.com': (83, 243),\n",
       " 'www.linternaute.com': (84, 241),\n",
       " 'ocsp.verisign.com': (85, 239),\n",
       " 'meta.wikimedia.org': (86, 234),\n",
       " 'its.tradelab.fr': (87, 230),\n",
       " 'clients1.google.fr': (88, 226),\n",
       " 'fbexternal-a.akamaihd.net': (89, 225),\n",
       " 'static.ccm2.net': (90, 213),\n",
       " 'khms0.google.com': (91, 208),\n",
       " 'doug1izaerwt3.cloudfront.net': (92, 207),\n",
       " 'api.bing.com': (93, 205),\n",
       " 'fbcdn-creative-a.akamaihd.net': (94, 200),\n",
       " 'go.trouter.io': (95, 191),\n",
       " 'khms1.google.com': (96, 188),\n",
       " 'secure.shared.live.com': (97, 180),\n",
       " 'deliv.leboncoin.fr': (98, 179),\n",
       " 'people.directory.live.com': (99, 172),\n",
       " 'www.iquesta.com': (100, 170),\n",
       " 'static.ccmbg.com': (101, 167),\n",
       " 'maps.google.com': (102, 167),\n",
       " 'www.developpez.com': (103, 164),\n",
       " 'secure.footprint.net': (104, 164),\n",
       " 'www.googleapis.com': (105, 163),\n",
       " 'hal9000.redintelligence.net': (106, 162),\n",
       " 'evsecure-ocsp.verisign.com': (107, 161),\n",
       " 'ba.commentcamarche.net': (108, 160),\n",
       " 'repo.maven.apache.org': (109, 157),\n",
       " 'socialprofiles.zenfs.com': (110, 154),\n",
       " 'ir2-attach.mail.yahoo.com': (111, 154),\n",
       " 'ocsp.usertrust.com': (112, 151),\n",
       " 'geo0.ggpht.com': (113, 151),\n",
       " 'limos.raksmey.fr': (114, 150),\n",
       " 'b.mail.google.com': (115, 141),\n",
       " 'skydrive.live.com': (116, 140),\n",
       " 'www.commentcamarche.net': (117, 139),\n",
       " 'osm.geobretagne.fr': (118, 139),\n",
       " 'www.gravatar.com': (119, 138),\n",
       " 'www.chu-clermontferrand.fr': (120, 138),\n",
       " 'mts3.google.com': (121, 137),\n",
       " 'www.francetvinfo.fr': (122, 137),\n",
       " 'av.mediapostcommunication.net': (123, 133),\n",
       " 'docs.google.com': (124, 133),\n",
       " 'widgets.pinterest.com': (125, 132),\n",
       " 'mts2.google.com': (126, 132),\n",
       " 'disqus.com': (127, 130),\n",
       " 'um.simpli.fi': (128, 129),\n",
       " 'geo1.ggpht.com': (129, 126),\n",
       " 'platform.linkedin.com': (130, 123),\n",
       " 'ad.melty.fr': (131, 122),\n",
       " 'fr.msn.com': (132, 121),\n",
       " 'www.laposte.net': (133, 119),\n",
       " 'geo3.ggpht.com': (134, 119),\n",
       " 'fr.news.yahoo.com': (135, 118),\n",
       " 'premium.hi-mediaserver.com': (136, 117),\n",
       " 'gdata.youtube.com': (137, 116),\n",
       " 'ocsp.tcs.terena.org': (138, 116),\n",
       " 'geo2.ggpht.com': (139, 116),\n",
       " 'fr.mail.yahoo.com': (140, 116),\n",
       " 'ak.cdiscount.com': (141, 116),\n",
       " 'login.wikimedia.org': (142, 115),\n",
       " 'mg.mail.yahoo.com': (143, 115),\n",
       " 'c.msn.com': (144, 114),\n",
       " 'www.jeux-geographiques.com': (145, 114),\n",
       " 'r.ccmbg.com': (146, 113),\n",
       " 'h2.msn.com': (147, 112),\n",
       " 'fr.massivetriviaquiz.com': (148, 111),\n",
       " 'pbs.twimg.com': (149, 111),\n",
       " 'www.voyages-sncf.com': (150, 111),\n",
       " 'www.dropbox.com': (151, 111),\n",
       " 'www.youtube-nocookie.com': (152, 110),\n",
       " 'dub125.mail.live.com': (153, 110),\n",
       " 'full-stream.net': (154, 109),\n",
       " 'www.google.dz': (155, 107),\n",
       " 'p.sfx.ms': (156, 106),\n",
       " 'dnn506yrbagrg.cloudfront.net': (157, 105),\n",
       " 'www.showroomprive.com': (158, 105),\n",
       " 'storage.live.com': (159, 104),\n",
       " 'js.microsoft.com': (160, 103),\n",
       " 'apex.oracle.com': (161, 103),\n",
       " 'dub116.mail.live.com': (162, 103),\n",
       " 'static.leboncoin.fr': (163, 103),\n",
       " 'windows.microsoft.com': (164, 102),\n",
       " 'mail.live.com': (165, 101),\n",
       " 'www.letudiant.fr': (166, 100),\n",
       " 'res1.windows.microsoft.com': (167, 99),\n",
       " 'www.google.com.pe': (168, 99),\n",
       " 'dub114.mail.live.com': (169, 99),\n",
       " 'choices.truste.com': (170, 98),\n",
       " 'www.journaldunet.com': (171, 98),\n",
       " 'pixel2368.everesttech.net': (172, 97),\n",
       " 'banniere.reussissonsensemble.fr': (173, 97),\n",
       " 'ba.linternaute.com': (174, 97),\n",
       " 'stackoverflow.com': (175, 96),\n",
       " 'www.leboncoin.fr': (176, 95),\n",
       " 'locdrop.query.yahoo.com': (177, 94),\n",
       " 'www.w3schools.com': (178, 94),\n",
       " 'mt0.googleapis.com': (179, 93),\n",
       " 'mt1.googleapis.com': (180, 93),\n",
       " 'as.showroomprive.com': (181, 93),\n",
       " 'res2.windows.microsoft.com': (182, 92),\n",
       " 'www.games-workshop.com': (183, 92),\n",
       " 'evintl-ocsp.verisign.com': (184, 91),\n",
       " '160.92.123.193': (185, 91),\n",
       " 'www.lequipe.fr': (186, 90),\n",
       " 'js.live.net': (187, 90),\n",
       " 'careers.accenture.com': (188, 89),\n",
       " 'ajax.coveritlive.com': (189, 89),\n",
       " 'fbcdn-sphotos-b-a.akamaihd.net': (190, 89),\n",
       " 'cbk0.googleapis.com': (191, 89),\n",
       " 'fpdownload2.macromedia.com': (192, 88),\n",
       " 'rp.gwallet.com': (193, 88),\n",
       " 'ftn.fortuneo.fr': (194, 87),\n",
       " 'fbcdn-sphotos-c-a.akamaihd.net': (195, 87),\n",
       " 'www.byperiscope.com': (196, 87),\n",
       " 'ws.mediapostcommunication.net': (197, 86),\n",
       " 'marketplace.eclipse.org': (198, 86),\n",
       " 'rs.mediapostcommunication.net': (199, 85),\n",
       " 'p.typekit.net': (200, 85),\n",
       " 'www.cdiscount.com': (201, 85),\n",
       " 'fbcdn-sphotos-f-a.akamaihd.net': (202, 85),\n",
       " 'match.rtbidder.net': (203, 84),\n",
       " 'w.sharethis.com': (204, 84),\n",
       " 'proxy-bay-people.directory.live.com': (205, 83),\n",
       " 'wwwd.caf.fr': (206, 83),\n",
       " 'www.dailymotion.com': (207, 82),\n",
       " 'www.blogger.com': (208, 82),\n",
       " 'www.squid-cache.org': (209, 82),\n",
       " 'www.coutellerie-tourangelle.com': (210, 82),\n",
       " 'probe.cedexis.org': (211, 81),\n",
       " 'ce.lijit.com': (212, 81),\n",
       " 'id.google.fr': (213, 80),\n",
       " 'mm.eulerian.net': (214, 79),\n",
       " 'www.gmail.com': (215, 79),\n",
       " 'prod.registrar.skype.com': (216, 79),\n",
       " 'limelight.cedexis.com': (217, 78),\n",
       " 'ocsp.godaddy.com': (218, 78),\n",
       " 'office.microsoft.com': (219, 78),\n",
       " 'fbcdn-sphotos-d-a.akamaihd.net': (220, 78),\n",
       " 'r7---sn-cg07lues.googlevideo.com': (221, 78),\n",
       " 'www.audienceinsights.net': (222, 77),\n",
       " 'dlc.sun.com.edgesuite.net': (223, 77),\n",
       " 'r2---sn-cg07luez.googlevideo.com': (224, 77),\n",
       " 'www.cg18.fr': (225, 77),\n",
       " 'cloudfront.cedexis.com': (226, 76),\n",
       " '0.gravatar.com': (227, 76),\n",
       " 'www.t2c.fr': (228, 76),\n",
       " 'g.live.com': (229, 76),\n",
       " 'proxy-blu-people.directory.live.com': (230, 76),\n",
       " 'fbcdn-sphotos-g-a.akamaihd.net': (231, 76),\n",
       " 'vp-eu.scene7.com': (232, 75),\n",
       " 'r6---sn-cg07lues.googlevideo.com': (233, 75),\n",
       " 'static.iquesta.com': (234, 75),\n",
       " 'fbcdn-sphotos-h-a.akamaihd.net': (235, 74),\n",
       " 'fansubresistance.in': (236, 73),\n",
       " 'news.google.fr': (237, 72),\n",
       " 'ea.numericable.fr': (238, 72),\n",
       " 'java.sun.com': (239, 72),\n",
       " 'www.covoiturage.fr': (240, 72),\n",
       " 'img.babylon.com': (241, 71),\n",
       " 'www.talendforge.org': (242, 71),\n",
       " 'updates.netbeans.org': (243, 71),\n",
       " 'code.jquery.com': (244, 69),\n",
       " 'ad.publicidees.com': (245, 68),\n",
       " 'adventori.com': (246, 68),\n",
       " 'img1.video.s-msn.com': (247, 68),\n",
       " 'yui.yahooapis.com': (248, 67),\n",
       " 'api.skype.com': (249, 67),\n",
       " 'ba.journaldunet.com': (250, 67),\n",
       " 'apnx-match.dotomi.com': (251, 66),\n",
       " 'www.lordoftheringswords.com': (252, 66),\n",
       " 'www.chu-tours.fr': (253, 66),\n",
       " 'dl.javafx.com': (254, 65),\n",
       " 'dub130.mail.live.com': (255, 65),\n",
       " 'hub.video.msn.com': (256, 65),\n",
       " 'fbcdn-sphotos-e-a.akamaihd.net': (257, 65),\n",
       " 'level3.cedexis.com': (258, 64),\n",
       " 'ocsp.comodoca.com': (259, 64),\n",
       " 'ping.mail.yahoo.com': (260, 64),\n",
       " 'www.brandalley.fr': (261, 64),\n",
       " 'clicks.beap.bc.yahoo.com': (262, 63),\n",
       " 'www.rivesparis.banquepopulaire.fr': (263, 63),\n",
       " 'jobs-stages.letudiant.fr': (264, 63),\n",
       " 'armdl.adobe.com': (265, 62),\n",
       " 'player.vimeo.com': (266, 62),\n",
       " 'tracking.melty.fr': (267, 62),\n",
       " 'www.mindat.org': (268, 61),\n",
       " 'shell.windows.com': (269, 61),\n",
       " 'i-cms.linternaute.com': (270, 61),\n",
       " 'support.sas.com': (271, 61),\n",
       " 'www.medi-partenaires.com': (272, 61),\n",
       " 'media-1.melty.fr': (273, 60),\n",
       " 's0.wp.com': (274, 59),\n",
       " 'ia.nspmotion.com': (275, 59),\n",
       " 'fdata.over-blog.net': (276, 59),\n",
       " 'network.aufeminin.com': (277, 59),\n",
       " 'dub128.mail.live.com': (278, 59),\n",
       " 'graph.facebook.com': (279, 59),\n",
       " '1.gravatar.com': (280, 59),\n",
       " 'fbcdn-photos-b-a.akamaihd.net': (281, 59),\n",
       " 'fbcdn-sphotos-a-a.akamaihd.net': (282, 59),\n",
       " 'cdn-careers.sstatic.net': (283, 58),\n",
       " 'cid-4b3abd3dcf708cdf.users.storage.live.com': (284, 57),\n",
       " 'www.talend.com': (285, 57),\n",
       " 'spagobi.eng.it': (286, 57),\n",
       " 'photos.fr.msn.com': (287, 57),\n",
       " 'go.disqus.com': (288, 56),\n",
       " 'prod4.rest-core.msg.yahoo.com': (289, 56),\n",
       " 'fbcdn-photos-d-a.akamaihd.net': (290, 56),\n",
       " 'fbcdn-photos-h-a.akamaihd.net': (291, 56),\n",
       " 'www.grdf.fr': (292, 56),\n",
       " 'rubicon-match.dotomi.com': (293, 55),\n",
       " 'www.ibm.com': (294, 55),\n",
       " 'www.histoiredor.com': (295, 55),\n",
       " 'rapidssl-ocsp.geotrust.com': (296, 54),\n",
       " 'careers.stackoverflow.com': (297, 54),\n",
       " 'byperiscopfr.track.emarketing-factory.com': (298, 54),\n",
       " 'picda.ilius.net': (299, 53),\n",
       " 'http.tidaltv.com': (300, 53),\n",
       " 'miniimg4.rightinthebox.com': (301, 53),\n",
       " 'sourceforge.net': (302, 53),\n",
       " 'iquesta.com': (303, 53),\n",
       " 'ocsp.entrust.net': (304, 52),\n",
       " 'mail.yahoo.com': (305, 52),\n",
       " 'api.facebook.com': (306, 52),\n",
       " 'word-edit.officeapps.live.com': (307, 52),\n",
       " 'media.brandalley.com': (308, 52),\n",
       " 'snt146.mail.live.com': (309, 52),\n",
       " 'static.s-sfr.fr': (310, 51),\n",
       " 'ajax.microsoft.com': (311, 51),\n",
       " 'c.fr.msn.com': (312, 51),\n",
       " 'mw2.google.com': (313, 51),\n",
       " 'assets.pinterest.com': (314, 51),\n",
       " 'fbcdn-photos-f-a.akamaihd.net': (315, 51),\n",
       " 'fbcdn-photos-g-a.akamaihd.net': (316, 51),\n",
       " 'www.dell.com': (317, 51),\n",
       " 'www.journaldesfemmes.com': (318, 50),\n",
       " 'www.caf.fr': (319, 50),\n",
       " 'miniimg6.rightinthebox.com': (320, 50),\n",
       " 'livestats.fr': (321, 50),\n",
       " 'gm1.ggpht.com': (322, 50),\n",
       " '0.drive.google.com': (323, 49),\n",
       " 'offres.groupama-gan-recrute.com': (324, 49),\n",
       " 'www.lamontagne.fr': (325, 49),\n",
       " 'www.ultimedia.com': (326, 48),\n",
       " 'www.miniinthebox.com': (327, 48),\n",
       " 'miniimg3.rightinthebox.com': (328, 48),\n",
       " 'miniimg1.rightinthebox.com': (329, 48),\n",
       " 'fr.scribd.com': (330, 48),\n",
       " 'rs2.scribd.com': (331, 48),\n",
       " 'wikiora.com': (332, 48),\n",
       " 'pr.ybp.yahoo.com': (333, 47),\n",
       " 'blufiles.storage.msn.com': (334, 47),\n",
       " 'fr.vente-privee.com': (335, 47),\n",
       " 'kissanime.com': (336, 47),\n",
       " 'miniimg5.rightinthebox.com': (337, 47),\n",
       " 'oracle.developpez.com': (338, 47),\n",
       " 'i-cms.journaldunet.com': (339, 47),\n",
       " 'www.youscribe.com': (340, 47),\n",
       " 'fbcdn-photos-a-a.akamaihd.net': (341, 47),\n",
       " 'rbp.mxptint.net': (342, 46),\n",
       " 'c1.adform.net': (343, 46),\n",
       " 'ecx.images-amazon.com': (344, 46),\n",
       " 'translate.googleapis.com': (345, 46),\n",
       " 'netbeans.org': (346, 46),\n",
       " 'download.eclipse.org': (347, 46),\n",
       " 'ea.histoiredor.com': (348, 46),\n",
       " 'dub121.mail.live.com': (349, 46),\n",
       " 'bitgravity.cedexis.com': (350, 45),\n",
       " 'dl.patchbeam.com': (351, 45),\n",
       " 'www.wat.tv': (352, 45),\n",
       " 'wtpn.twenga.fr': (353, 45),\n",
       " 'www.meltybuzz.fr': (354, 45),\n",
       " 'miniimg2.rightinthebox.com': (355, 45),\n",
       " 'fbcdn-photos-c-a.akamaihd.net': (356, 45),\n",
       " 'www.michelin.com': (357, 45),\n",
       " 'khm1.googleapis.com': (358, 45),\n",
       " 's1.lemde.fr': (359, 44),\n",
       " 'khms2.google.com': (360, 44),\n",
       " 'factominer.free.fr': (361, 44),\n",
       " 'www.tour-du-monde-80-idees-neuves.com': (362, 44),\n",
       " 'www.michelincareers.com': (363, 44),\n",
       " 'www.avise.org': (364, 44),\n",
       " 'avis.cdiscount.com': (365, 44),\n",
       " 'www.sfr.fr': (366, 43),\n",
       " 'netdna.cedexis.com': (367, 43),\n",
       " 'miniimg7.rightinthebox.com': (368, 43),\n",
       " 'stackauth.com': (369, 43),\n",
       " 'books.google.fr': (370, 43),\n",
       " 'www.franceo.fr': (371, 43),\n",
       " '193.164.196.60': (372, 43),\n",
       " '193.164.196.40': (373, 43),\n",
       " 'www.ac-orleans-tours.fr': (374, 43),\n",
       " 'api.adyoulike.com': (375, 42),\n",
       " 'medias.lequipe.fr': (376, 42),\n",
       " 'apikeys.civiccomputing.com': (377, 42),\n",
       " 'jdn.monster.com': (378, 42),\n",
       " 'discovery.renater.fr': (379, 42),\n",
       " 'www.reddit.com': (380, 42),\n",
       " 'nexus.ensighten.com': (381, 42),\n",
       " '193.164.197.50': (382, 42),\n",
       " 'fbcdn-photos-e-a.akamaihd.net': (383, 42),\n",
       " 'r.ccm2.net': (384, 41),\n",
       " 'static.lequipe.fr': (385, 41),\n",
       " 'player.ooyala.com': (386, 41),\n",
       " 'khms3.google.com': (387, 41),\n",
       " 'miniimg8.rightinthebox.com': (388, 41),\n",
       " 'omni.accenture.com': (389, 41),\n",
       " '193.164.197.40': (390, 41),\n",
       " 'compteperso.leboncoin.fr': (391, 41),\n",
       " 'pole-sante-republique.medi-partenaires.com': (392, 41),\n",
       " 'api.dailymotion.com': (393, 40),\n",
       " 'evt.adrcntr.com': (394, 40),\n",
       " 'od2.visiblemeasures.com': (395, 40),\n",
       " 'fastly.bench.cedexis.com': (396, 40),\n",
       " 's2.wp.com': (397, 40),\n",
       " 'www.emploi.bouyguestelecom.fr': (398, 40),\n",
       " 'us.lrd.yahoo.com': (399, 40),\n",
       " '193.164.197.60': (400, 40),\n",
       " 'khm0.googleapis.com': (401, 40),\n",
       " 'eulerian.canal-plus.com': (402, 39),\n",
       " 'blufiles.storage.live.com': (403, 39),\n",
       " 'a248.e.akamai.net': (404, 39),\n",
       " 'metrics.cdiscount.com': (405, 39),\n",
       " '193.164.196.50': (406, 39),\n",
       " 'bigup.madmoizelle.com': (407, 39),\n",
       " 'static.siteduzero.com': (408, 38),\n",
       " 'www.apache.org': (409, 38),\n",
       " 'a.fsdn.com': (410, 38),\n",
       " 'static.francetv.fr': (411, 38),\n",
       " 'bfss.cr-auvergne.fr': (412, 38),\n",
       " '193.164.196.30': (413, 38),\n",
       " 'cbk1.googleapis.com': (414, 38),\n",
       " 'x2.vindicosuite.com': (415, 37),\n",
       " 'ak.c.ooyala.com': (416, 37),\n",
       " 'javadl-esd.sun.com': (417, 37),\n",
       " 'dc1w54.wysistat.com': (418, 37),\n",
       " 'cache.20minutes.fr': (419, 37),\n",
       " 'gmail.com': (420, 37),\n",
       " 'pings.conviva.com': (421, 37),\n",
       " 'spot.static.meetic.com': (422, 37),\n",
       " 'www.aufeminin.com': (423, 37),\n",
       " 'cdn2.reverso.net': (424, 37),\n",
       " '193.164.197.30': (425, 37),\n",
       " 'www.lemonde.fr': (426, 36),\n",
       " 'img2.video.s-msn.com': (427, 36),\n",
       " 'eros.usgs.gov': (428, 36),\n",
       " 'www.ngwinfo.com': (429, 36),\n",
       " 'z-ecx.images-amazon.com': (430, 36),\n",
       " 'www.stage.fr': (431, 36),\n",
       " 'mts0.googleapis.com': (432, 36),\n",
       " 'media.histoiredor.com': (433, 36),\n",
       " 'ig4.i-grasp.com': (434, 36),\n",
       " 'www.govoyages.com': (435, 36),\n",
       " 'illiweb.com': (436, 35),\n",
       " 'g-ecx.images-amazon.com': (437, 35),\n",
       " 'www.amazon.fr': (438, 35),\n",
       " 'xslttest.appspot.com': (439, 35),\n",
       " 'accenture.tt.omtrdc.net': (440, 35),\n",
       " 'www.isima.fr': (441, 35),\n",
       " 'cid-b1a1925cdfe846a7.users.storage.live.com': (442, 35),\n",
       " 'sci.sciences.univ-bpclermont.fr': (443, 34),\n",
       " 'word-view.officeapps.live.com': (444, 34),\n",
       " 'core.adprotected.com': (445, 34),\n",
       " 'www.airfrance.fr': (446, 34),\n",
       " 'log.caspion.com': (447, 34),\n",
       " 'pic.dhe.ibm.com': (448, 34),\n",
       " 'fbcdn-vthumb-a.akamaihd.net': (449, 34),\n",
       " 'fcs.dell.com': (450, 34),\n",
       " 'www.cg37.fr': (451, 34),\n",
       " 'videosfr.s3.amazonaws.com': (452, 33),\n",
       " 'cip.gagnoo.com': (453, 33),\n",
       " 'livepassdl.conviva.com': (454, 33),\n",
       " 'style.ad6.fr': (455, 33),\n",
       " 'www.rhul.ac.uk': (456, 33),\n",
       " 'cs.specificclick.net': (457, 33),\n",
       " 'skyapi.skydrive.live.com': (458, 33),\n",
       " 'groupes.renater.fr': (459, 33),\n",
       " 'www.gmx.fr': (460, 33),\n",
       " 'www.cloveretl.com': (461, 33),\n",
       " 'www.visainfoservices.com': (462, 33),\n",
       " 'google.fr': (463, 32),\n",
       " 'messagerie-11.sfr.fr': (464, 32),\n",
       " 'images.orangepublicite.fr': (465, 32),\n",
       " 'login.skype.com': (466, 32),\n",
       " 'www.caisse-epargne.fr': (467, 32),\n",
       " 'mts1.googleapis.com': (468, 32),\n",
       " 'repository.apache.org': (469, 32),\n",
       " 'eulerian.brandalley.fr': (470, 32),\n",
       " 'www.ac-clermont.fr': (471, 32),\n",
       " 'semio1.files.wordpress.com': (472, 32),\n",
       " 'b12.myspace.com': (473, 31),\n",
       " 'www.mathworks.fr': (474, 31),\n",
       " 'pt200204.unica.com': (475, 31),\n",
       " 'img.over-blog.com': (476, 31),\n",
       " 'www.cartejeunes-nouveaumonde.fr': (477, 31),\n",
       " 'www.melty.de': (478, 31),\n",
       " 'y.one.impact-ad.jp': (479, 31),\n",
       " 'sync.uuidcshmg.com': (480, 31),\n",
       " 'resources.arcgis.com': (481, 31),\n",
       " 'fr.web.img6.acsta.net': (482, 31),\n",
       " 'lc.iadvize.com': (483, 31),\n",
       " 'www.kfc.fr': (484, 31),\n",
       " 'fr.pourelles.yahoo.com': (485, 31),\n",
       " 'www.les-mathematiques.net': (486, 31),\n",
       " 'msfs.nspmotion.com': (487, 30),\n",
       " 's3-eu-west-1.amazonaws.com': (488, 30),\n",
       " 'sites.google.com': (489, 30),\n",
       " 'c.live.com': (490, 30),\n",
       " 'www.viedemerde.fr': (491, 30),\n",
       " 'media.fan2.fr': (492, 30),\n",
       " 'dev.twitter.com': (493, 30),\n",
       " 'www.stumbleupon.com': (494, 30),\n",
       " 'www.capital.fr': (495, 30),\n",
       " 'img1.blogblog.com': (496, 29),\n",
       " '2.bp.blogspot.com': (497, 29),\n",
       " 'adzerk-www.s3.amazonaws.com': (498, 29),\n",
       " 'rs4.scribd.com': (499, 29),\n",
       " 'lh6.ggpht.com': (500, 29),\n",
       " 'www.coveritlive.com': (501, 29),\n",
       " 'www.pfl-cepia.inra.fr': (502, 29),\n",
       " 'www.business.gov.au': (503, 29),\n",
       " 's.videostep.com': (504, 28),\n",
       " 'www.powerarchiver.com': (505, 28),\n",
       " 'cid-0f9a1ff31470c0bc.users.storage.live.com': (506, 28),\n",
       " '85.17.77.13': (507, 28),\n",
       " 'images.gx101.com': (508, 28),\n",
       " 'media.meltybuzz.fr': (509, 28),\n",
       " 'www.fan2.fr': (510, 28),\n",
       " 'qsearch.media.net': (511, 28),\n",
       " 'gdfsuez.taleo.net': (512, 28),\n",
       " 'boutique-online.orange.fr': (513, 27),\n",
       " 'www.lerugbynistere.fr': (514, 27),\n",
       " 'widget.achetezfacile.com': (515, 27),\n",
       " 'r.kelkoo.com': (516, 27),\n",
       " 'image.jeuxvideo.com': (517, 27),\n",
       " 'edge.sharethis.com': (518, 27),\n",
       " 'fstatic.iadvize.com': (519, 27),\n",
       " 'ac.babsrv.com': (520, 27),\n",
       " 'imworld.aufeminin.com': (521, 27),\n",
       " 'images-na.ssl-images-amazon.com': (522, 27),\n",
       " 'optim.dekalee.fr': (523, 27),\n",
       " 'i.stack.imgur.com': (524, 27),\n",
       " 'uaa.springsource.org': (525, 27),\n",
       " 'rcm-fr.amazon.fr': (526, 27),\n",
       " 'dev.mysql.com': (527, 27),\n",
       " 'www.chine-nouvelle.com': (528, 27),\n",
       " 'ws-cdi.web-boosting.net': (529, 27),\n",
       " 'emea3.recruitmentplatform.com': (530, 27),\n",
       " 'static.lexpress.fr': (531, 27),\n",
       " 'www.trocdestrains.com': (532, 27),\n",
       " 'bibliotheque.clermont-universite.fr': (533, 27),\n",
       " 'sfr.cedexis.com': (534, 26),\n",
       " 'lh4.ggpht.com': (535, 26),\n",
       " 'emailretargeting.com': (536, 26),\n",
       " 'sb-ssl.google.com': (537, 26),\n",
       " '1.www.s81c.com': (538, 26),\n",
       " 'login.secure.emea.msn.com': (539, 26),\n",
       " 'www.groupon.fr': (540, 26),\n",
       " 'l.ooyala.com': (541, 26),\n",
       " 'news.fr.msn.com': (542, 26),\n",
       " 'hotmail.fr': (543, 26),\n",
       " '0.docs.google.com': (544, 26),\n",
       " 'akio-1-17.akio-solutions.com': (545, 26),\n",
       " 't.voyages-sncf.com': (546, 26),\n",
       " 'bbcphotos.s3.amazonaws.com': (547, 26),\n",
       " 'cms.abmr.net': (548, 25),\n",
       " 'chinacache.cedexis.com': (549, 25),\n",
       " 'fastly.bench.cedexis.com.global.prod.fastly.net': (550, 25),\n",
       " 'office14client.microsoft.com': (551, 25),\n",
       " 'rbx-cdn-tpn.c4tw.net': (552, 25),\n",
       " 'www.lightinthebox.com': (553, 25),\n",
       " 'www.lagardedenuit.com': (554, 25),\n",
       " 'consent-st.truste.com': (555, 25),\n",
       " 'www.oracleimg.com': (556, 25),\n",
       " 'www.snapengage.com': (557, 25),\n",
       " 'lfov.net': (558, 25),\n",
       " '837-events.olark.com': (559, 25),\n",
       " 'ccu.viamichelin.com': (560, 25),\n",
       " 'kh6qrx0f8h.s.ad6media.fr': (561, 24),\n",
       " 'cedexis.cachefly.net': (562, 24),\n",
       " 'badge.facebook.com': (563, 24),\n",
       " 'fr-fr.facebook.com': (564, 24),\n",
       " 'www.jeuxvideo.com': (565, 24),\n",
       " 'video.msn.com': (566, 24),\n",
       " 'wd.sharethis.com': (567, 24),\n",
       " 'ibeu2.mookie1.com': (568, 24),\n",
       " 'www.eclipse.org': (569, 24),\n",
       " 'widgets.wp.com': (570, 24),\n",
       " 'www.agence-maths-entreprises.fr': (571, 24),\n",
       " 'media.query.yahoo.com': (572, 24),\n",
       " 'www.ca-centrefrance.fr': (573, 24),\n",
       " 'laposte.net': (574, 23),\n",
       " 'msc2.s-sfr.fr': (575, 23),\n",
       " 'cimg.leguide.com': (576, 23),\n",
       " 'geo.mozilla.org': (577, 23),\n",
       " 'us-mg42.mail.yahoo.com': (578, 23),\n",
       " 'www.meltystyle.fr': (579, 23),\n",
       " 'smart2.allocine.fr': (580, 23),\n",
       " '4.bp.blogspot.com': (581, 23),\n",
       " 'lh5.ggpht.com': (582, 23),\n",
       " 'www.mistra.fr': (583, 23),\n",
       " 's1.wp.com': (584, 23),\n",
       " 'www.freebsd.org': (585, 23),\n",
       " 'www.sas.com': (586, 23),\n",
       " 'www.indeed.fr': (587, 23),\n",
       " 'fr.ad4mat.net': (588, 22),\n",
       " 'feeds.delicious.com': (589, 22),\n",
       " 'tc.airfrance.com': (590, 22),\n",
       " 'broadcast.piximedia.fr': (591, 22),\n",
       " 'www.cinejaude.fr': (592, 22),\n",
       " 'www.accenture.com': (593, 22),\n",
       " 'didier.deleglise.free.fr': (594, 22),\n",
       " 'google.com': (595, 22),\n",
       " 'cdns3.coveritlive.com': (596, 22),\n",
       " 'www.emploi-alternance.net': (597, 22),\n",
       " 'www.expedia.co.uk': (598, 22),\n",
       " 'www.rue89.com': (599, 22),\n",
       " 'www.ladera.com': (600, 22),\n",
       " 'eu-ams1.joyent.bench.cedexis.com': (601, 21),\n",
       " 'onapp.cedexis.com': (602, 21),\n",
       " 'style2.ad6.fr': (603, 21),\n",
       " 'cedexis-test01.insnw.net': (604, 21),\n",
       " 'ec2-us-west-2a.cedexis.com': (605, 21),\n",
       " 'ec2-us-east-1a.cedexis.com': (606, 21),\n",
       " 'netstorage.lequipe.fr': (607, 21),\n",
       " 'sa.kewego.com': (608, 21),\n",
       " 'www.annuaire.com': (609, 21),\n",
       " 'www.beead.fr': (610, 21),\n",
       " 'forum.hardware.fr': (611, 21),\n",
       " 'www.w3.org': (612, 21),\n",
       " 'www.listesdemots.fr': (613, 21),\n",
       " '1.bp.blogspot.com': (614, 21),\n",
       " 'planet.jboss.org': (615, 21),\n",
       " 'www.reverso.net': (616, 21),\n",
       " 'dl-web.dropbox.com': (617, 21),\n",
       " '488-nko-684.mktoresp.com': (618, 21),\n",
       " 'foad.univ-ubs.fr': (619, 21),\n",
       " 'fr.tv.yahoo.com': (620, 21),\n",
       " 'www.directetudiant.com': (621, 21),\n",
       " 'siteswebdev.locinfor2.serveur-host.fr': (622, 21),\n",
       " 'www.restaurantsclermont.com': (623, 21),\n",
       " 'common.numerigraphe.com': (624, 21),\n",
       " 'a.nonstoppartner.net': (625, 20),\n",
       " 'wwwimages.adobe.com': (626, 20),\n",
       " 'www.geneanet.org': (627, 20),\n",
       " 'i2.ytimg.com': (628, 20),\n",
       " 'chart.googleapis.com': (629, 20),\n",
       " 'media-social.s-msn.com': (630, 20),\n",
       " 'www.u-psud.fr': (631, 20),\n",
       " 'manoa.hawaii.edu': (632, 20),\n",
       " 'media.expedia.com': (633, 20),\n",
       " 'www.leparisien.fr': (634, 20),\n",
       " 'www.parisetudiant.com': (635, 20),\n",
       " 'htmlimg3.scribdassets.com': (636, 20),\n",
       " 'facebook.com': (637, 20),\n",
       " 'www.soapui.org': (638, 20),\n",
       " 'www.gwtproject.org': (639, 20),\n",
       " 'forums.oracle.com': (640, 20),\n",
       " 'brandalley-box.akio-solutions.com': (641, 20),\n",
       " 'home.edt02.net': (642, 20),\n",
       " 'ec2-eu-west-1a.cedexis.com': (643, 19),\n",
       " 's3.amazonaws.com': (644, 19),\n",
       " 'i.htfacile.fr': (645, 19),\n",
       " 'eulerian.sarenza.com': (646, 19),\n",
       " 'mpp2.vindicosuite.com': (647, 19),\n",
       " 'cnfg.toolbarservices.com': (648, 19),\n",
       " 'forum-images.hardware.fr': (649, 19),\n",
       " 'www.mail.live.com': (650, 19),\n",
       " 'd3cxv97fi8q177.cloudfront.net': (651, 19),\n",
       " 'cdn-files.deezer.com': (652, 19),\n",
       " 's.huffpost.com': (653, 19),\n",
       " 'admaym.com': (654, 19),\n",
       " 'mangafox.me': (655, 19),\n",
       " 'u.jimdo.com': (656, 19),\n",
       " '3.bp.blogspot.com': (657, 19),\n",
       " 'dtym7iokkjlif.cloudfront.net': (658, 19),\n",
       " 'blog.xebia.fr': (659, 19),\n",
       " 'www.paypal.com': (660, 19),\n",
       " 'static.addtoany.com': (661, 19),\n",
       " 'docs.jboss.org': (662, 19),\n",
       " 'liris.cnrs.fr': (663, 19),\n",
       " '800-tiv-782.mktoresp.com': (664, 19),\n",
       " 'y8d63b9ic5.s.ad6media.fr': (665, 19),\n",
       " 'public.dhe.ibm.com': (666, 19),\n",
       " 'forums.futura-sciences.com': (667, 19),\n",
       " 'www-01.ibm.com': (668, 19),\n",
       " 'mbouayoun.developpez.com': (669, 19),\n",
       " 'www.ukba.homeoffice.gov.uk': (670, 19),\n",
       " 'perso.univ-rennes1.fr': (671, 19),\n",
       " 'static.monmenu.fr': (672, 19),\n",
       " 'www.numericable.biz': (673, 19),\n",
       " 'pool-eu-ie.creative-serving.com': (674, 18),\n",
       " 'ec2-ap-northeast-1a.cedexis.com': (675, 18),\n",
       " 'www.pagesjaunes.fr': (676, 18),\n",
       " 's5.scribdassets.com': (677, 18),\n",
       " 'html1.scribdassets.com': (678, 18),\n",
       " 'www.slideshare.net': (679, 18),\n",
       " 'i2.wp.com': (680, 18),\n",
       " 'www.blogblog.com': (681, 18),\n",
       " 'i10.twenga.com': (682, 18),\n",
       " 'www.sensagent.com': (683, 18),\n",
       " 'www.valyriansteel.com': (684, 18),\n",
       " 'www.melty.it': (685, 18),\n",
       " 'www.melty.es': (686, 18),\n",
       " 'fls-eu.amazon.fr': (687, 18),\n",
       " 's374.meetrics.net': (688, 18),\n",
       " 'java.developpez.com': (689, 18),\n",
       " 'static.commentcamarche.net': (690, 18),\n",
       " 's20.postimg.org': (691, 18),\n",
       " 'maven.apache.org': (692, 18),\n",
       " 'html4.scribdassets.com': (693, 18),\n",
       " 'public-api.wordpress.com': (694, 18),\n",
       " 'www.mobifiesta.com': (695, 18),\n",
       " 'medias.jules.fr': (696, 18),\n",
       " 'www.dba-ora.fr': (697, 18),\n",
       " 'consommateur-modedevie.com': (698, 18),\n",
       " 'szrmtenqc1bkuvk9.col.ip-label.net': (699, 18),\n",
       " 'www.dogfinance.com': (700, 18),\n",
       " 'yep.video.yahoo.com': (701, 18),\n",
       " 'files.multiposting.fr': (702, 18),\n",
       " 'www.master280.com': (703, 18),\n",
       " 'www.bellanaija.com': (704, 18),\n",
       " 'catalogue.clermont-universite.fr': (705, 18),\n",
       " 'i.dell.com': (706, 18),\n",
       " 'player.mediabong.com': (707, 17),\n",
       " 'htmlimg2.scribdassets.com': (708, 17),\n",
       " 'ocsp.gandi.net': (709, 17),\n",
       " 'fr-himedia.videoplaza.tv': (710, 17),\n",
       " 'cdns.gigya.com': (711, 17),\n",
       " 'link.springer.com': (712, 17),\n",
       " 'stat.di.u-psud.fr': (713, 17),\n",
       " 'js.sddan.com': (714, 17),\n",
       " 'www.hawaii.edu': (715, 17),\n",
       " 'fr.web.img4.acsta.net': (716, 17),\n",
       " 'miniimg.rightinthebox.com': (717, 17),\n",
       " 'htmlimg4.scribdassets.com': (718, 17),\n",
       " 'www.classcroute.com': (719, 17),\n",
       " 'code.google.com': (720, 17),\n",
       " 'images.gmx.com': (721, 17),\n",
       " 'playforfree.travian.fr': (722, 17),\n",
       " 'www.bwin.fr': (723, 17),\n",
       " 'www.le1513.com': (724, 17),\n",
       " 'get.adobe.com': (725, 17),\n",
       " 'media.newjobs.com': (726, 17),\n",
       " 'ssl.bing.com': (727, 17),\n",
       " 'candidatures.u-pec.fr': (728, 17),\n",
       " 'st.free.fr': (729, 17),\n",
       " 'www.invs.sante.fr': (730, 17),\n",
       " 'bonpatron.com': (731, 17),\n",
       " 'www.solarear.com.br': (732, 17),\n",
       " 'player.kpsule.me': (733, 16),\n",
       " 'redir.adbutter.net': (734, 16),\n",
       " 'us-west1.joyent.bench.cedexis.com': (735, 16),\n",
       " 'listener.ezakus.net': (736, 16),\n",
       " 'cshoppingbox.partner.leguide.com': (737, 16),\n",
       " 'www.europe1.fr': (738, 16),\n",
       " 'logger-02.vty.dailymotion.com': (739, 16),\n",
       " 'www.adobe.com': (740, 16),\n",
       " 'static.geneanet.org': (741, 16),\n",
       " 'maps-api-ssl.google.com': (742, 16),\n",
       " 'i11.twenga.com': (743, 16),\n",
       " 'serv3.vizury.com': (744, 16),\n",
       " 'goo.gl': (745, 16),\n",
       " 's.kau.li': (746, 16),\n",
       " 'bay03.calendar.live.com': (747, 16),\n",
       " 'bay178.afx.ms': (748, 16),\n",
       " 'adprotected.com': (749, 16),\n",
       " 'imgv2-4.scribdassets.com': (750, 16),\n",
       " 'lh3.ggpht.com': (751, 16),\n",
       " 'psoug.org': (752, 16),\n",
       " 'it3yv1v73b.s.ad6media.fr': (753, 16),\n",
       " 'html3.scribdassets.com': (754, 16),\n",
       " 'dev.eclipse.org': (755, 16),\n",
       " 'alma.univ-nantes.fr': (756, 16),\n",
       " 'fxdepo-a.akamaihd.net': (757, 16),\n",
       " 'video.query.yahoo.com': (758, 16),\n",
       " 'cadres.apec.fr': (759, 16),\n",
       " 'candidatures.u-pem.fr': (760, 16),\n",
       " 'fr.sports.yahoo.com': (761, 16),\n",
       " 'fr.cinema.yahoo.com': (762, 16),\n",
       " 'books.google.com': (763, 16),\n",
       " 'spc.cecebdhhbhpgeemgigiekedh.vast2as3.audiencetv-pubnet.fr.telemetryverification.net': (764,\n",
       "  16),\n",
       " 'pub6.media-clic.com': (765, 16),\n",
       " 'www.sdis63.fr': (766, 16),\n",
       " 'aws-ap-southeast-2a.bench.cedexis.com': (767, 15),\n",
       " 'ad.foxitsoftware.com': (768, 15),\n",
       " 'static.ebz.io': (769, 15),\n",
       " 'static.mediabong.com': (770, 15),\n",
       " 'ba.journaldesfemmes.com': (771, 15),\n",
       " 'en.wikipedia.org': (772, 15),\n",
       " 'ta.kewego.com': (773, 15),\n",
       " 's1.libe.com': (774, 15),\n",
       " 'ocsp2.globalsign.com': (775, 15),\n",
       " 'img2.blogblog.com': (776, 15),\n",
       " 'utils.delta-search.com': (777, 15),\n",
       " 'byfiles.storage.msn.com': (778, 15),\n",
       " 'clients1.google.com.pe': (779, 15),\n",
       " 'ajax.cloudflare.com': (780, 15),\n",
       " 'i.imgur.com': (781, 15),\n",
       " 'www.toutlecine.com': (782, 15),\n",
       " 'xmlfr.org': (783, 15),\n",
       " 'static.cotecine.fr': (784, 15),\n",
       " 'tracking.veoxa.com': (785, 15),\n",
       " 'd1447tq2m68ekg.cloudfront.net': (786, 15),\n",
       " 'www.quizz.biz': (787, 15),\n",
       " 'static.pagesjaunes.fr': (788, 15),\n",
       " 'cbks0.google.com': (789, 15),\n",
       " 'www.tutorialspoint.com': (790, 15),\n",
       " 'blogosquare.com': (791, 15),\n",
       " 'orange.jobs': (792, 15),\n",
       " 'fr.answers.yahoo.com': (793, 15),\n",
       " 'www.maxitoys.fr': (794, 15),\n",
       " 'www.cora.fr': (795, 15),\n",
       " 'www.quintiles.com': (796, 15),\n",
       " 'www.optioncarriere.com': (797, 15),\n",
       " 'spiral.univ-lyon1.fr': (798, 15),\n",
       " 'www.jobijoba.com': (799, 15),\n",
       " 'wcb.linkeo.com': (800, 15),\n",
       " 'dub127.mail.live.com': (801, 15),\n",
       " 'www.forbes.com': (802, 15),\n",
       " 'www.cokeandpopcorn.ch': (803, 15),\n",
       " 'media.apce.com': (804, 15),\n",
       " 'www.insee.fr': (805, 15),\n",
       " 'www.opendev.fr': (806, 15),\n",
       " 'www.atelier-idf.org': (807, 15),\n",
       " 'www.e-picardie.net': (808, 15),\n",
       " 'datayr.yves-rocher.fr': (809, 14),\n",
       " 'messagerie-13.sfr.fr': (810, 14),\n",
       " 'www.mathworks.com': (811, 14),\n",
       " 'radar.cedexis.swiftserve.com': (812, 14),\n",
       " 'llnwop.cedexis.com': (813, 14),\n",
       " 'mfr.meteofrance.com': (814, 14),\n",
       " 'www.math.u-bordeaux1.fr': (815, 14),\n",
       " 'network.alfemminile.com': (816, 14),\n",
       " 'p.ccmbg.com': (817, 14),\n",
       " 'static.canalblog.com': (818, 14),\n",
       " 'www.amazon.com': (819, 14),\n",
       " 'storage.googleapis.com': (820, 14),\n",
       " 'agence.voyages-sncf.com': (821, 14),\n",
       " 'fr.web.img1.acsta.net': (822, 14),\n",
       " 'snippets-stats.mozilla.org': (823, 14),\n",
       " 'dsms0mj1bbhn4.cloudfront.net': (824, 14),\n",
       " 'www.jmdoudoux.fr': (825, 14),\n",
       " 'htmlimg1.scribdassets.com': (826, 14),\n",
       " 'imgv2-3.scribdassets.com': (827, 14),\n",
       " 'd.startpagea.com': (828, 14),\n",
       " 'www.pixgame.fr': (829, 14),\n",
       " 'static.autoplus.fr': (830, 14),\n",
       " 'olivier.coupelon.net': (831, 14),\n",
       " 'jl2tho.blogspot.fr': (832, 14),\n",
       " 'www.arkzoyd.com': (833, 14),\n",
       " 'jersey.java.net': (834, 14),\n",
       " 'www.ryanair.com': (835, 14),\n",
       " 'www.microsoft.com': (836, 14),\n",
       " 'forge.ow2.org': (837, 14),\n",
       " 'www.u-pec.fr': (838, 14),\n",
       " 'dis.univ-lyon2.fr': (839, 14),\n",
       " 'covea.taleo.net': (840, 14),\n",
       " 'pgep.francetv.fr': (841, 14),\n",
       " 'www.monitor.co.ug': (842, 14),\n",
       " 'secure.voyages-sncf.com': (843, 14),\n",
       " 'www.pressealgerie.fr': (844, 14),\n",
       " 'photo.capital.fr': (845, 14),\n",
       " 'www.apce.com': (846, 14),\n",
       " 'www.outlook.com': (847, 14),\n",
       " 'afcs.dell.com': (848, 14),\n",
       " 'www.affaires-etrangeres.gouv.ga': (849, 14),\n",
       " 's.cdiscount.widgetvillage.com': (850, 14),\n",
       " 'msc1.s-sfr.fr': (851, 13),\n",
       " 'us-east1.joyent.bench.cedexis.com': (852, 13),\n",
       " 'ec2-us-west-1a.cedexis.com': (853, 13),\n",
       " 'lon.rackspace.bench.cedexis.com': (854, 13),\n",
       " 'i4.ytimg.com': (855, 13),\n",
       " 'cdnjs.cloudflare.com': (856, 13),\n",
       " 'cm.adgrx.com': (857, 13),\n",
       " 'apr.lijit.com': (858, 13),\n",
       " 'akamai.cedexis.com': (859, 13),\n",
       " 'fastlydsa.bench.cedexis.com': (860, 13),\n",
       " 'thumbp5-ir2.mail.yahoo.com': (861, 13),\n",
       " 'foglio.basilic.io': (862, 13),\n",
       " 'm.ad6media.fr': (863, 13),\n",
       " 'aura.gsfc.nasa.gov': (864, 13),\n",
       " 'bay177.mail.live.com': (865, 13),\n",
       " 'github.com': (866, 13),\n",
       " 'www.vente-privee.com': (867, 13),\n",
       " 'loadr.exelator.com': (868, 13),\n",
       " 'help.arcgis.com': (869, 13),\n",
       " 'mastertag.effiliation.com': (870, 13),\n",
       " '347-iat-677.mktoresp.com': (871, 13),\n",
       " 'fr.web.img2.acsta.net': (872, 13),\n",
       " 'www.codeblocks.org': (873, 13),\n",
       " 'imgv2-2.scribdassets.com': (874, 13),\n",
       " 'api-mc.bouyguestelecom.fr': (875, 13),\n",
       " 'vaadin.com': (876, 13),\n",
       " 'use.typekit.net': (877, 13),\n",
       " 'www.programcreek.com': (878, 13),\n",
       " 'deliv.bayard-pub.com': (879, 13),\n",
       " 'idata.over-blog.com': (880, 13),\n",
       " 'tracking.traviangames.com': (881, 13),\n",
       " 'le-menhir.fr': (882, 13),\n",
       " 'www.mkyong.com': (883, 13),\n",
       " 'media.monster.com': (884, 13),\n",
       " 'www.maty.com': (885, 13),\n",
       " 'cran.r-project.org': (886, 13),\n",
       " 'ts1.mm.bing.net': (887, 13),\n",
       " 'www.regimedukan.com': (888, 13),\n",
       " 'ptc.uquebec.ca': (889, 13),\n",
       " 'www.smart-doc.org': (890, 13),\n",
       " 'www.groupama-gan-recrute.com': (891, 13),\n",
       " 'spc.cengdfnebeehogefbehdnefe.vast2as3.fox-pubnet.fr.telemetryverification.net': (892,\n",
       "  13),\n",
       " 'spc.ceedgflebejfafnelgcehefe.ijs.venatusmedia-pubnet.fr.telemetryverification.net': (893,\n",
       "  13),\n",
       " 'fr.viadeo.com': (894, 13),\n",
       " 'www.yasni.info': (895, 13),\n",
       " 'img.scoop.it': (896, 13),\n",
       " 'dtm.ccs.com': (897, 12),\n",
       " 'aspserveur.bench.cedexis.com': (898, 12),\n",
       " 'messagerie-12.sfr.fr': (899, 12),\n",
       " 'cntr.adrcntr.com': (900, 12),\n",
       " 'static.videostep.com': (901, 12),\n",
       " 'www.20minutes.fr': (902, 12),\n",
       " 'static.groupon.fr': (903, 12),\n",
       " 'fr.primary.affinitad.com': (904, 12),\n",
       " 'ids.craig.fr': (905, 12),\n",
       " 'adm.fwmrm.net': (906, 12),\n",
       " 'calotag.com': (907, 12),\n",
       " 'powerpoint.officeapps.live.com': (908, 12),\n",
       " 'www.slate.fr': (909, 12),\n",
       " 'www.spi0n.com': (910, 12),\n",
       " 'dps.bing.com': (911, 12),\n",
       " 'ecn.dev.virtualearth.net': (912, 12),\n",
       " 'd36xtkk24g8jdx.cloudfront.net': (913, 12),\n",
       " 'minijscss.rightinthebox.com': (914, 12),\n",
       " 'site.availpro.com': (915, 12),\n",
       " 'magazine.developpez.com': (916, 12),\n",
       " 'imgv2-1.scribdassets.com': (917, 12),\n",
       " 'www.jules.com': (918, 12),\n",
       " 'i.huffpost.com': (919, 12),\n",
       " 'accounts.google.co.ma': (920, 12),\n",
       " 'deptinfo.unice.fr': (921, 12),\n",
       " 'wenku.baidu.com': (922, 12),\n",
       " 'download.forge.objectweb.org': (923, 12),\n",
       " 'www.sqldeveloper.net': (924, 12),\n",
       " 'www.actualitix.com': (925, 12),\n",
       " 'offre-emploi.monster.fr': (926, 12),\n",
       " 'www.cadremploi.fr': (927, 12),\n",
       " 'yupeek.com': (928, 12),\n",
       " 'www.capcampus.com': (929, 12),\n",
       " 'capcampus.net': (930, 12),\n",
       " 'static2.pagesjaunes.fr': (931, 12),\n",
       " 'blogs-images.forbes.com': (932, 12),\n",
       " 'static.bellanaija.com': (933, 12),\n",
       " 'www.huffingtonpost.com': (934, 12),\n",
       " 'www.plaisirssante.ca': (935, 12),\n",
       " 'perles-du-bon-coin.fr': (936, 12),\n",
       " 'trk.adbutter.net': (937, 11),\n",
       " 'gb2.cedexis.swiftserve.com': (938, 11),\n",
       " 'azionusa.cedexis.com': (939, 11),\n",
       " 'math.agrocampus-ouest.fr': (940, 11),\n",
       " 'audience.visiblemeasures.com': (941, 11),\n",
       " 'www.scribd.com': (942, 11),\n",
       " 's7.scribdassets.com': (943, 11),\n",
       " 'iad.rackspace.bench.cedexis.com': (944, 11),\n",
       " 'www.hotmail.fr': (945, 11),\n",
       " 'perpetuo-onl.basilic.io': (946, 11),\n",
       " 'i1.wp.com': (947, 11),\n",
       " 'tempsreel.nouvelobs.com': (948, 11),\n",
       " 'www.delta-search.com': (949, 11),\n",
       " 'tools.usps.com': (950, 11),\n",
       " 'a405.idata.over-blog.com': (951, 11),\n",
       " 'passets.pinterest.com': (952, 11),\n",
       " 'divertissements.fr.msn.com': (953, 11),\n",
       " 'cdnvideo.aufeminin.com': (954, 11),\n",
       " 'www.deezer.com': (955, 11),\n",
       " 'www.almerys.com': (956, 11),\n",
       " 'fls-na.amazon.com': (957, 11),\n",
       " 'www.higp.hawaii.edu': (958, 11),\n",
       " 'h.bing.com': (959, 11),\n",
       " 'melty.fr': (960, 11),\n",
       " 'www.covoiturageauvergne.net': (961, 11),\n",
       " 'fr.web.img5.acsta.net': (962, 11),\n",
       " 'zupimages.net': (963, 11),\n",
       " 'www.meltyfashion.fr': (964, 11),\n",
       " 'eulerian.netbooster.com': (965, 11),\n",
       " 'docs.spring.io': (966, 11),\n",
       " 'ds.reson8.com': (967, 11),\n",
       " 'design.jboss.org': (968, 11),\n",
       " 'labs.jboss.com': (969, 11),\n",
       " 'www.jboss.org': (970, 11),\n",
       " 'badge.stumbleupon.com': (971, 11),\n",
       " 'camel.apache.org': (972, 11),\n",
       " 'www.cplusplus.com': (973, 11),\n",
       " 'www.enseignement.polytechnique.fr': (974, 11),\n",
       " 'www.inrialpes.fr': (975, 11),\n",
       " 'fr.intext.adfever.com': (976, 11),\n",
       " 'www.linkwithin.com': (977, 11),\n",
       " 'wa.ui-portal.de': (978, 11),\n",
       " 'static.wenku.bdimg.com': (979, 11),\n",
       " 'nsclick.baidu.com': (980, 11),\n",
       " 'stats.adobe.com': (981, 11),\n",
       " 'blog.soat.fr': (982, 11),\n",
       " 'dmros.ysm.yahoo.com': (983, 11),\n",
       " 'www.duclert.org': (984, 11),\n",
       " 'www.memoireonline.com': (985, 11),\n",
       " 'www.farfesh.com': (986, 11),\n",
       " 'mailmedia.showroomprive.com': (987, 11),\n",
       " 'thumbp5-ir2.thumb.mail.yahoo.com': (988, 11),\n",
       " 'redir.news2.cdiscount.com': (989, 11),\n",
       " 'quintiles.taleo.net': (990, 11),\n",
       " 'cdlc.iadvize.com': (991, 11),\n",
       " 'ts2.mm.bing.net': (992, 11),\n",
       " 'www.crous-clermont.fr': (993, 11),\n",
       " 'www.misfu.com': (994, 11),\n",
       " 'yui-s.yahooapis.com': (995, 11),\n",
       " 'b2capi.viamichelin.fr': (996, 11),\n",
       " 'dub111.mail.live.com': (997, 11),\n",
       " 'images.forbes.com': (998, 11),\n",
       " 'apps.facebook.com': (999, 11),\n",
       " 'lentreprise.lexpress.fr': (1000, 11),\n",
       " ...}"
      ]
     },
     "execution_count": 28,
     "metadata": {},
     "output_type": "execute_result"
    }
   ],
   "source": [
    "freqs = load_pkl('site_freq_10users.pkl')\n",
    "freqs"
   ]
  },
  {
   "cell_type": "markdown",
   "metadata": {},
   "source": [
    "**Определите топ-10 самых посещаемых сайтов (*top10_sites*) и соответствующие кол-ва посещений (*top10_freqs*).**"
   ]
  },
  {
   "cell_type": "code",
   "execution_count": 84,
   "metadata": {},
   "outputs": [
    {
     "data": {
      "text/plain": [
       "2339"
      ]
     },
     "execution_count": 84,
     "metadata": {},
     "output_type": "execute_result"
    }
   ],
   "source": [
    "from collections import Counter\n",
    "counter = Counter(dict((k, v[1]) for k, v in freqs.items()))\n",
    "top10_df = pd.DataFrame(counter.most_common(10))\n",
    "top10_freqs = top10_df.iloc[:, 1]\n",
    "top10_sites = top10_df.iloc[:, 0]\n",
    "\n",
    "top30_site_ids = set([freqs[i][0] for i in pd.DataFrame(counter.most_common(30))[0]])\n",
    "freq_df = pd.DataFrame(counter.most_common()).iloc[:,1]\n",
    "index_least_popular = freq_df[freq_df == np.percentile(pd.DataFrame(counter.most_common()).iloc[:,1], 40)].index[0]\n",
    "leastpopular_site_ids = set([freqs[i][0] for i in pd.DataFrame(counter.most_common()).iloc[index_least_popular:,0]])\n",
    "len(leastpopular_site_ids)"
   ]
  },
  {
   "cell_type": "code",
   "execution_count": 79,
   "metadata": {
    "collapsed": true
   },
   "outputs": [],
   "source": [
    "np.percentile?"
   ]
  },
  {
   "cell_type": "markdown",
   "metadata": {},
   "source": [
    "**9. Нарисуйте *seaborn barplot*, показывающий частоты посещений топ-10 сайтов. Сделайте подписи сайтов вертикальными, иначе они сливаются (*xticks*).**"
   ]
  },
  {
   "cell_type": "code",
   "execution_count": 30,
   "metadata": {},
   "outputs": [
    {
     "data": {
      "text/plain": [
       "Text(0, 0.5, 'Частоты')"
      ]
     },
     "execution_count": 30,
     "metadata": {},
     "output_type": "execute_result"
    },
    {
     "data": {
      "image/png": "[encoded data removed]",
      "text/plain": [
       "<Figure size 864x504 with 1 Axes>"
      ]
     },
     "metadata": {},
     "output_type": "display_data"
    }
   ],
   "source": [
    "sns.set(style=\"whitegrid\")\n",
    "plt.figure(figsize=(12,7))\n",
    "plt.xticks(rotation=\"vertical\",fontsize=15)\n",
    "plt.title('Частоты посещений топ-10 сайтов',fontsize=30)\n",
    "ax = sns.barplot(x=top10_sites, y = top10_freqs)\n",
    "ax.set_xlabel(\"Сайты\",fontsize=15)\n",
    "ax.set_ylabel(\"Частоты\",fontsize=15)"
   ]
  },
  {
   "cell_type": "markdown",
   "metadata": {},
   "source": [
    "## Часть 3. Дальнейшее построение признаков"
   ]
  },
  {
   "cell_type": "markdown",
   "metadata": {},
   "source": [
    "Это задание творческое, тут надо придумать, как еще учесть время посещения веб-страниц и прочие признаки. \n",
    "\n",
    "На следующей неделе мы будем использовать \"мешок\" сайтов  для классификации сессий по принадлежности разным пользователям, а эти новые признаки, которые Вы сейчас создадите, потом добавим и посмотрим, улучшается ли модель. Поэтому можно их создать в виде отдельных матриц и сохранить их также отдельно.  \n",
    "\n",
    "В этой части задания Вы можете построить и визуально исследовать самые разные признаки (ничто фантазию не ограничивает):\n",
    "- год, месяц и день начала сессии\n",
    "- час начала сессии (с учетом года, месяца и дня)\n",
    "- время суток\n",
    "- среднее время пребывания на сайте, посчитать можно, скажем, для топ-30 популярных сайтов\n",
    "- индикаторы посещения популярных сайтов (скажем, тоже для топ-30 популярных сайтов)\n",
    "- частота посещения Facebook\n",
    "- ..."
   ]
  },
  {
   "cell_type": "markdown",
   "metadata": {},
   "source": [
    "**Напишите функцию для создания новых признаков и примените ее к исходным данным – каталогам с 10 и 150 файлами. Сделайте это только для набора данных, полученного с параметрами *session_length=10* и *window_size=10*. Сериализуйте полученные матрицы с помощью pickle. Функция может возвращать как только новые признаки, так и старые с новыми. При этом сигнатура функции может быть другой – тут уже свобода выбора.**"
   ]
  },
  {
   "cell_type": "code",
   "execution_count": 116,
   "metadata": {
    "collapsed": true
   },
   "outputs": [],
   "source": [
    "def feature_engineering(path_to_train_data_nusers_csv, site_freq_path, session_length=10):\n",
    "    frequencies = load_pkl(site_freq_path)\n",
    "    train_data = pd.read_csv(path_to_train_data_nusers_csv, header = 0, index_col = 0)\n",
    "    site_columns = ['site' + str(i) for i in range(1,session_length+1)]\n",
    "    \n",
    "    #среди уникальных сайтов в сессии - количество принадлежащих к top30\n",
    "    train_data['number_of_top30'] = train_data.apply(lambda row: \n",
    "                                         len(set(row.loc[site_columns].apply(int).unique()) & top30_site_ids), axis = 1)\n",
    "    \n",
    "    train_data['number_of_least_popular'] = train_data.apply(lambda row: \n",
    "                                         len(set(row.loc[site_columns].apply(int).unique()) & leastpopular_site_ids), axis = 1)\n",
    "#     display(train_data)\n",
    "    return train_data\n",
    "# feature_engineering('train_data_10users.csv', 'site_freq_10users.pkl', )"
   ]
  },
  {
   "cell_type": "code",
   "execution_count": 117,
   "metadata": {
    "collapsed": true
   },
   "outputs": [],
   "source": [
    "new_features_10users = feature_engineering('train_data_10users.csv', 'site_freq_10users.pkl', )\n",
    "new_features_10users['target'] = new_features_10users['target'].map(id_name_dict)"
   ]
  },
  {
   "cell_type": "code",
   "execution_count": 87,
   "metadata": {
    "collapsed": true
   },
   "outputs": [],
   "source": [
    "new_features_150users = feature_engineering('train_data_150users.csv', 'site_freq_150users.pkl', )"
   ]
  },
  {
   "cell_type": "code",
   "execution_count": 88,
   "metadata": {
    "collapsed": true
   },
   "outputs": [],
   "source": [
    "with open(os.path.join(PATH_TO_DATA, \n",
    "                       'new_features_10users.pkl'), 'wb') as new_features_10users_pkl:\n",
    "    pickle.dump(new_features_10users, new_features_10users_pkl)\n",
    "with open(os.path.join(PATH_TO_DATA, \n",
    "                       'new_features_150users.pkl'), 'wb') as new_features_150users_pkl:\n",
    "    pickle.dump(new_features_150users, new_features_150users_pkl)"
   ]
  },
  {
   "cell_type": "markdown",
   "metadata": {},
   "source": [
    "**10. Постройте картинки для новых признаков, поисследуйте их, прокомментируйте результаты.**"
   ]
  },
  {
   "cell_type": "code",
   "execution_count": 118,
   "metadata": {},
   "outputs": [
    {
     "data": {
      "text/plain": [
       "[Text(0, 0.5, 'Количество'),\n",
       " Text(0.5, 0, 'Число уникальных сайтов сессии из наименее популярных')]"
      ]
     },
     "execution_count": 118,
     "metadata": {},
     "output_type": "execute_result"
    },
    {
     "data": {
      "image/png": "[encoded data removed]",
      "text/plain": [
       "<Figure size 1152x576 with 2 Axes>"
      ]
     },
     "metadata": {},
     "output_type": "display_data"
    }
   ],
   "source": [
    "fig, axes = plt.subplots(nrows=1, ncols=2, figsize=(16, 8))#, sharex = True, sharey = True)\n",
    "fig.suptitle('Картинки для новых признаков')\n",
    "\n",
    "ax = axes[0]\n",
    "sns.countplot(x= new_features_10users['number_of_top30'].values, palette=\"coolwarm\", ax = ax,) \n",
    "ax.set(xlabel='Число уникальных сайтов сессии из Топ-30', ylabel = 'Количество')\n",
    "\n",
    "ax = axes[1]\n",
    "sns.countplot(x= new_features_10users['number_of_least_popular'].values, palette=\"Blues\", ax = ax,) \n",
    "ax.set(xlabel='Число уникальных сайтов сессии из наименее популярных', ylabel = 'Количество')"
   ]
  },
  {
   "cell_type": "code",
   "execution_count": 119,
   "metadata": {},
   "outputs": [
    {
     "data": {
      "image/png": "[encoded data removed]",
      "text/plain": [
       "<Figure size 1152x720 with 12 Axes>"
      ]
     },
     "metadata": {},
     "output_type": "display_data"
    }
   ],
   "source": [
    "fig, axes = plt.subplots(nrows=3, ncols=4, figsize=(16, 10), sharex = True)#, sharey = True)\n",
    "fig.suptitle('Гистограммы распределения числа уникальных сайтов сессии из Топ-30')\n",
    "\n",
    "for idx, (user, sub_df) in  enumerate(pd.groupby(new_features_10users, 'target')): \n",
    "    ax = axes[int(idx/4), int(idx%4)]\n",
    "    sns.countplot(x= sub_df['number_of_top30'].values, color=color_dic[user], ax = ax, label = user)\n",
    "    ax.legend(loc='upper right')\n",
    "    ax.set(xlabel='Число уникальных сайтов сессии из Топ-30', ylabel = 'Количество')"
   ]
  },
  {
   "cell_type": "code",
   "execution_count": 128,
   "metadata": {},
   "outputs": [
    {
     "data": {
      "image/png": "[encoded data removed]",
      "text/plain": [
       "<Figure size 1152x720 with 12 Axes>"
      ]
     },
     "metadata": {},
     "output_type": "display_data"
    }
   ],
   "source": [
    "fig, axes = plt.subplots(nrows=3, ncols=4, figsize=(16, 10), sharex = True)#, sharey = True)\n",
    "fig.suptitle('Гистограммы распределения числа уникальных сайтов сессии из наименее популярных')\n",
    "\n",
    "for idx, (user, sub_df) in  enumerate(pd.groupby(new_features_10users, 'target')): \n",
    "    ax = axes[int(idx/4), int(idx%4)]\n",
    "    sns.countplot(x= sub_df['number_of_least_popular'].values, color=color_dic[user], ax = ax, label = user)\n",
    "    ax.legend(loc='upper right')\n",
    "    ax.set(xlabel='Число уник. сайтов сессии из Least40Perc', ylabel = 'Количество')"
   ]
  },
  {
   "cell_type": "markdown",
   "metadata": {},
   "source": [
    "Как видим, для новых признаков распределения тоже различаются: кто-то совсем не ходит на редкие сайты, а у кого-то и по 2, и по 3 в сессии бывает; по Топ-30 видим, что Lindsey и Avril ходят почти только на популяные сайты."
   ]
  },
  {
   "cell_type": "markdown",
   "metadata": {},
   "source": [
    "**В конце сохраните в pickle-файлы только те признаки, которые, как Вы предполагаете, помогут идентифицировать пользователя более точно. Это касается и признаков, которые мы вместе создали в начале (*session_timespan, #unique_sites, start_hour, day_of_week*), и Ваших собственных. Можно создать все эти признаки не только для сессий из 10 сайтов, но и для других сочетаний параметров *session_length* и *window_size*.**"
   ]
  },
  {
   "cell_type": "code",
   "execution_count": 129,
   "metadata": {
    "collapsed": true
   },
   "outputs": [],
   "source": [
    "selected_features_10users = new_features_10users[['session_timespan', '#unique_sites', 'start_hour', 'day_of_week', 'number_of_least_popular', 'number_of_top30']] \n",
    "selected_features_150users = new_features_150users[['session_timespan', '#unique_sites', 'start_hour', 'day_of_week', 'number_of_least_popular', 'number_of_top30']] "
   ]
  },
  {
   "cell_type": "code",
   "execution_count": 130,
   "metadata": {
    "collapsed": true
   },
   "outputs": [],
   "source": [
    "with open(os.path.join(PATH_TO_DATA, \n",
    "                       'selected_features_10users.pkl'), 'wb') as selected_features_10users_pkl:\n",
    "    pickle.dump(selected_features_10users, selected_features_10users_pkl, \n",
    "                protocol=2)\n",
    "with open(os.path.join(PATH_TO_DATA, \n",
    "                       'selected_features_150users.pkl'), 'wb') as selected_features_150users_pkl:\n",
    "    pickle.dump(selected_features_150users, selected_features_150users_pkl, \n",
    "                protocol=2)"
   ]
  },
  {
   "cell_type": "markdown",
   "metadata": {},
   "source": [
    "### Критерии оценки работы (только для Peer Review в специализации):\n",
    "- Верно ли отображена гистограмма session_timespan из п. 1? (max. 3 балла)\n",
    "- Верно ли отображена гистограмма #unique_sites из п. 2? (max. 3 балла)\n",
    "- Верно ли отображены гистограммы #unique_sites по каждому пользователю из п. 3? (max. 6 баллов)\n",
    "- Верно ли отображена гистограмма start_hour из п. 4? (max. 3 балла)\n",
    "- Верно ли отображены гистограммы start_hour по каждому пользователю из п. 5? (max. 6 баллов)\n",
    "- Верно ли отображена гистограмма day_of_week из п. 6? (max. 3 балла)\n",
    "- Верно ли отображены гистограммы day_of_week по каждому пользователю из п. 7? (max. 6 баллов)\n",
    "- Насколько сделанные выводы в п. 8 соответствуют построенным картинкам? (max. 6 баллов)\n",
    "- Верно ли отображен barplot для 10 популярных сайтов из п. 9? (max. 6 баллов)\n",
    "- Правильно ли посчитана медианная продолжительность сессий в п. 10? (max. 3 балла)\n",
    "- Правильно ли посчитан медианный день недели начала сессии в п. 11? (max. 3 балла)\n",
    "- Правильно ли посчитан медианный час начала сессии в п. 12? (max. 3 балла)\n",
    "- Правильно ли посчитано медианное значение числа уникальных сайтов в сессиях 150 пользователей п. 13? (max. 3 балла)\n",
    "- Есть ли оригинальные построенные признаки и картинки к ним? Оцените также и качество картинок. (max. 8 баллов)"
   ]
  },
  {
   "cell_type": "markdown",
   "metadata": {},
   "source": [
    "## Пути улучшения\n",
    "Что еще можно добавить по 3 части проекта:\n",
    "- IPython-widgets, интерактив и анимация (стоящие статьи по этому ремеслу – [раз](https://habrahabr.ru/post/308162/) и  [два](https://habrahabr.ru/company/ods/blog/323210/))\n",
    "- можно попробовать изобразить исходные данные в некотором пространстве, например, Word2Vec, потом выделить главные компоненты или t-SNE  (только пользуйтесь эффективными реализациями типа [Multicore-TSNE](https://github.com/DmitryUlyanov/Multicore-TSNE), не Sklearn) и раскрасить по целевому классу. Но нет гарантий, что получится что-то значимо отличающееся от каши\n",
    "\n",
    "На следующей неделе мы наконец приступим к обучению моделей классификации. "
   ]
  }
 ],
 "metadata": {
  "anaconda-cloud": {},
  "kernelspec": {
   "display_name": "Python 3",
   "language": "python",
   "name": "python3"
  },
  "language_info": {
   "codemirror_mode": {
    "name": "ipython",
    "version": 3
   },
   "file_extension": ".py",
   "mimetype": "text/x-python",
   "name": "python",
   "nbconvert_exporter": "python",
   "pygments_lexer": "ipython3",
   "version": "3.6.2"
  }
 },
 "nbformat": 4,
 "nbformat_minor": 1
}
